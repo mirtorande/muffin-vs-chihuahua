{
  "cells": [
    {
      "cell_type": "markdown",
      "metadata": {
        "id": "view-in-github",
        "colab_type": "text"
      },
      "source": [
        "<a href=\"https://colab.research.google.com/github/mirtorande/muffin-vs-chihuahua/blob/main/MuffinsChihuahuas.ipynb\" target=\"_parent\"><img src=\"https://colab.research.google.com/assets/colab-badge.svg\" alt=\"Open In Colab\"/></a>"
      ]
    },
    {
      "cell_type": "markdown",
      "metadata": {
        "id": "d-UYPRw5OWLS"
      },
      "source": [
        "## Setup"
      ]
    },
    {
      "cell_type": "code",
      "source": [
        "! pip install -qq wandb\n",
        "import wandb\n",
        "from wandb.keras import WandbMetricsLogger\n",
        "wandb.login()\n",
        "import tensorflow as tf\n",
        "from tensorflow import keras\n",
        "from tensorflow.keras import layers\n",
        "import matplotlib.pyplot as plt\n",
        "import os\n",
        "from tqdm.auto import tqdm\n",
        "from tensorflow.keras.utils import plot_model\n",
        "import numpy as np"
      ],
      "metadata": {
        "colab": {
          "base_uri": "https://localhost:8080/"
        },
        "id": "jX3ONMhsDk7T",
        "outputId": "222e6930-0ce3-498e-93e3-011f5d8dcc07"
      },
      "execution_count": 1,
      "outputs": [
        {
          "output_type": "stream",
          "name": "stderr",
          "text": [
            "\u001b[34m\u001b[1mwandb\u001b[0m: Currently logged in as: \u001b[33mmirtorande\u001b[0m (\u001b[33mminigi\u001b[0m). Use \u001b[1m`wandb login --relogin`\u001b[0m to force relogin\n"
          ]
        }
      ]
    },
    {
      "cell_type": "code",
      "source": [
        "# Define a config dictionary object\n",
        "configs = dict(\n",
        "    image_size = 64,\n",
        "    batch_size = 32,\n",
        "    epochs = 50,\n",
        "    optimizer = 'adam',\n",
        "    loss_fn = 'binary_crossentropy',\n",
        "    metrics = ['acc'],\n",
        ")"
      ],
      "metadata": {
        "id": "34tOTS_s_l1R"
      },
      "execution_count": 2,
      "outputs": []
    },
    {
      "cell_type": "markdown",
      "metadata": {
        "id": "05LIIOopOWLV"
      },
      "source": [
        "## Load the data: the Muffins vs Chihuahuas dataset"
      ]
    },
    {
      "cell_type": "markdown",
      "metadata": {
        "id": "zmqOEOyYOWLV"
      },
      "source": [
        "### Data download\n"
      ]
    },
    {
      "cell_type": "code",
      "source": [
        "from google.colab import drive\n",
        "drive.mount('/content/drive')"
      ],
      "metadata": {
        "id": "VyakI2wNWVvh",
        "outputId": "0f7895c4-fe1b-4c42-ad21-50a67caa7a02",
        "colab": {
          "base_uri": "https://localhost:8080/"
        }
      },
      "execution_count": 3,
      "outputs": [
        {
          "output_type": "stream",
          "name": "stdout",
          "text": [
            "Drive already mounted at /content/drive; to attempt to forcibly remount, call drive.mount(\"/content/drive\", force_remount=True).\n"
          ]
        }
      ]
    },
    {
      "cell_type": "code",
      "source": [
        "dataset_path = \"/content/drive/My Drive/Datasets/archive\""
      ],
      "metadata": {
        "id": "zS4nkIlmXlwg"
      },
      "execution_count": 4,
      "outputs": []
    },
    {
      "cell_type": "markdown",
      "metadata": {
        "id": "_OzI0KLSOWLW"
      },
      "source": [
        "### Filter out the corrupted images"
      ]
    },
    {
      "cell_type": "code",
      "execution_count": 5,
      "metadata": {
        "id": "iIXy-185OWLX",
        "outputId": "1895812b-1466-45af-d3b8-c81a65b47e3a",
        "colab": {
          "base_uri": "https://localhost:8080/",
          "height": 71
        }
      },
      "outputs": [
        {
          "output_type": "execute_result",
          "data": {
            "text/plain": [
              "'num_skipped = 0\\nfor folder_name in (\\'test/chihuahua\\', \\'train/chihuahua\\', \\'test/muffin\\', \\'train/muffin\\'):\\n    folder_path = os.path.join(dataset_path, folder_name)\\n    for fname in tqdm(os.listdir(folder_path)):\\n        fpath = os.path.join(folder_path, fname)\\n        try:\\n            fobj = open(fpath, \"rb\")\\n            is_jfif = tf.compat.as_bytes(\"JFIF\") in fobj.peek(10)\\n        finally:\\n            fobj.close()\\n\\n        if not is_jfif:\\n            num_skipped += 1\\n            # Delete corrupted image\\n            os.remove(fpath)\\n\\nprint(\"Deleted %d images\" % num_skipped)'"
            ],
            "application/vnd.google.colaboratory.intrinsic+json": {
              "type": "string"
            }
          },
          "metadata": {},
          "execution_count": 5
        }
      ],
      "source": [
        "\"\"\"num_skipped = 0\n",
        "for folder_name in ('test/chihuahua', 'train/chihuahua', 'test/muffin', 'train/muffin'):\n",
        "    folder_path = os.path.join(dataset_path, folder_name)\n",
        "    for fname in tqdm(os.listdir(folder_path)):\n",
        "        fpath = os.path.join(folder_path, fname)\n",
        "        try:\n",
        "            fobj = open(fpath, \"rb\")\n",
        "            is_jfif = tf.compat.as_bytes(\"JFIF\") in fobj.peek(10)\n",
        "        finally:\n",
        "            fobj.close()\n",
        "\n",
        "        if not is_jfif:\n",
        "            num_skipped += 1\n",
        "            # Delete corrupted image\n",
        "            os.remove(fpath)\n",
        "\n",
        "print(\"Deleted %d images\" % num_skipped)\"\"\"\n"
      ]
    },
    {
      "cell_type": "markdown",
      "metadata": {
        "id": "dJXQNBbxOWLX"
      },
      "source": [
        "### Generate a Dataset"
      ]
    },
    {
      "cell_type": "code",
      "execution_count": 6,
      "metadata": {
        "id": "TVT_hk0aOWLY"
      },
      "outputs": [],
      "source": [
        "def load_datasets(config):\n",
        "  \"\"\"\n",
        "  Loads Training and Test datasets\n",
        "  \"\"\"\n",
        "  image_size = (config['image_size'], config['image_size']) # (224, 224) originally\n",
        "  batch_size = config['batch_size'] # 32 originally\n",
        "\n",
        "  train_ds, val_ds = tf.keras.utils.image_dataset_from_directory(\n",
        "      dataset_path + '/train',\n",
        "      image_size=image_size,\n",
        "      batch_size=batch_size,\n",
        "      validation_split = 0.2,\n",
        "      subset='both',\n",
        "      shuffle=True,\n",
        "      seed=1337\n",
        "  )\n",
        "\n",
        "  test_ds = tf.keras.utils.image_dataset_from_directory(\n",
        "      dataset_path + '/test',\n",
        "      image_size=image_size,\n",
        "      batch_size=batch_size,\n",
        "      shuffle=False\n",
        "  )\n",
        "  return train_ds, val_ds, test_ds"
      ]
    },
    {
      "cell_type": "markdown",
      "metadata": {
        "id": "P8BWsRK8OWLZ"
      },
      "source": [
        "## Visualize the data"
      ]
    },
    {
      "cell_type": "code",
      "source": [
        "def print_class_counts(dataset):\n",
        "  n_muf=0\n",
        "  n_chi = 0\n",
        "  for images, labels in tqdm(dataset):\n",
        "    for label in labels:\n",
        "      if label == 0:\n",
        "        n_chi += 1\n",
        "      else:\n",
        "        n_muf += 1\n",
        "\n",
        "  print(n_muf, n_chi)"
      ],
      "metadata": {
        "id": "Owbg5GE-cBL2"
      },
      "execution_count": 7,
      "outputs": []
    },
    {
      "cell_type": "code",
      "execution_count": 8,
      "metadata": {
        "id": "2OwqYu0XOWLZ"
      },
      "outputs": [],
      "source": [
        "def show_sample_figures(dataset):\n",
        "  plt.figure(figsize=(10, 10))\n",
        "  for images, labels in dataset.take(1):\n",
        "      for i in range(9):\n",
        "          ax = plt.subplot(3, 3, i + 1)\n",
        "          plt.imshow(images[i].numpy().astype(\"uint8\"))\n",
        "          plt.title(int(labels[i]))\n",
        "          plt.axis(\"off\")"
      ]
    },
    {
      "cell_type": "markdown",
      "metadata": {
        "id": "XGPFSx1wOWLZ"
      },
      "source": [
        "## Using image data augmentation"
      ]
    },
    {
      "cell_type": "code",
      "execution_count": 9,
      "metadata": {
        "id": "2b53EppWOWLa"
      },
      "outputs": [],
      "source": [
        "def augment_dataset(dataset, show_preview=False):\n",
        "  data_augmentation = keras.Sequential(\n",
        "      [\n",
        "          layers.RandomFlip(\"horizontal\"),\n",
        "          layers.RandomRotation(0.1),\n",
        "      ]\n",
        "  )\n",
        "\n",
        "  # Show augmentation preview\n",
        "  if show_preview:\n",
        "    plt.figure(figsize=(10, 10))\n",
        "    for images, _ in dataset.take(1):\n",
        "        for i in range(9):\n",
        "            augmented_images = data_augmentation(images)\n",
        "            ax = plt.subplot(3, 3, i + 1)\n",
        "            plt.imshow(augmented_images[1].numpy().astype(\"uint8\"))\n",
        "            plt.axis(\"off\")\n",
        "\n",
        "  # Apply `data_augmentation` to the training images.\n",
        "  dataset = dataset.map(\n",
        "    lambda img, label: (data_augmentation(img), label),\n",
        "    num_parallel_calls=tf.data.AUTOTUNE,\n",
        "  )\n",
        "\n",
        "  return dataset"
      ]
    },
    {
      "cell_type": "code",
      "source": [
        "def prefetch_datasets(train_ds, test_ds):\n",
        "  # Prefetching samples in GPU memory helps maximize GPU utilization.\n",
        "  train_ds = train_ds.prefetch(tf.data.AUTOTUNE)\n",
        "  test_ds = test_ds.prefetch(tf.data.AUTOTUNE)\n",
        "  return train_ds, test_ds"
      ],
      "metadata": {
        "id": "0UDRrdhB9CEd"
      },
      "execution_count": 10,
      "outputs": []
    },
    {
      "cell_type": "markdown",
      "metadata": {
        "id": "1QmlepllOWLb"
      },
      "source": [
        "# Build the model"
      ]
    },
    {
      "cell_type": "code",
      "execution_count": 11,
      "metadata": {
        "id": "CSJDCoF9OWLb"
      },
      "outputs": [],
      "source": [
        "def make_model(input_shape, num_classes):\n",
        "  inputs = keras.Input(shape=input_shape)\n",
        "\n",
        "  # Entry block\n",
        "  x = layers.Rescaling(1.0 / 255)(inputs)\n",
        "  x = layers.Conv2D(128, 3, strides=2, padding=\"same\")(x)\n",
        "  x = layers.BatchNormalization()(x)\n",
        "  x = layers.Activation(\"relu\")(x)\n",
        "\n",
        "  previous_block_activation = x  # Set aside residual\n",
        "\n",
        "  for size in [256, 512, 728]:\n",
        "      x = layers.Activation(\"relu\")(x)\n",
        "      x = layers.SeparableConv2D(size, 3, padding=\"same\")(x)\n",
        "      x = layers.BatchNormalization()(x)\n",
        "\n",
        "      x = layers.Activation(\"relu\")(x)\n",
        "      x = layers.SeparableConv2D(size, 3, padding=\"same\")(x)\n",
        "      x = layers.BatchNormalization()(x)\n",
        "\n",
        "      x = layers.MaxPooling2D(3, strides=2, padding=\"same\")(x)\n",
        "\n",
        "      # Project residual\n",
        "      residual = layers.Conv2D(size, 1, strides=2, padding=\"same\")(\n",
        "          previous_block_activation\n",
        "      )\n",
        "      x = layers.add([x, residual])  # Add back residual\n",
        "      previous_block_activation = x  # Set aside next residual\n",
        "\n",
        "  x = layers.SeparableConv2D(1024, 3, padding=\"same\")(x)\n",
        "  x = layers.BatchNormalization()(x)\n",
        "  x = layers.Activation(\"relu\")(x)\n",
        "\n",
        "  x = layers.GlobalAveragePooling2D()(x)\n",
        "  if num_classes == 2:\n",
        "      activation = \"sigmoid\"\n",
        "      units = 1\n",
        "  else:\n",
        "      activation = \"softmax\"\n",
        "      units = num_classes\n",
        "\n",
        "  x = layers.Dropout(0.5)(x)\n",
        "  outputs = layers.Dense(units, activation=activation)(x)\n",
        "\n",
        "  return keras.Model(inputs, outputs)"
      ]
    },
    {
      "cell_type": "markdown",
      "metadata": {
        "id": "E6nu933hOWLc"
      },
      "source": [
        "# Train the model"
      ]
    },
    {
      "cell_type": "code",
      "execution_count": 12,
      "metadata": {
        "id": "HjtnZN3cOWLc"
      },
      "outputs": [],
      "source": [
        "def train_model(config, train_ds, test_ds):\n",
        "  model = make_model(input_shape=(config.image_size, config.image_size) + (3,), num_classes=2)\n",
        "  keras.utils.plot_model(model, show_shapes=True)\n",
        "\n",
        "  epochs = config.epochs\n",
        "\n",
        "  model.compile(\n",
        "      optimizer=keras.optimizers.Adam(config.init_learning_rate),\n",
        "      loss=config.loss_fn,\n",
        "      metrics=[\"accuracy\"],\n",
        "  )\n",
        "\n",
        "  callbacks = [tf.keras.callbacks.EarlyStopping(monitor='val_accuracy', patience=3, start_from_epoch=5), WandbMetricsLogger(log_freq=2)]\n",
        "\n",
        "  history = model.fit(\n",
        "      train_ds,\n",
        "      epochs=epochs,\n",
        "      callbacks=callbacks,\n",
        "      validation_data=test_ds,\n",
        "  )\n",
        "  return history"
      ]
    },
    {
      "cell_type": "markdown",
      "source": [
        "# Objective"
      ],
      "metadata": {
        "id": "1M83TSSE-Dj8"
      }
    },
    {
      "cell_type": "code",
      "source": [
        "train, val, _ = load_datasets(configs)\n",
        "print_class_counts(train)\n",
        "show_sample_figures(train)\n",
        "train = augment_dataset(train, show_preview=True)\n",
        "train, val = prefetch_datasets(train, val)"
      ],
      "metadata": {
        "colab": {
          "base_uri": "https://localhost:8080/",
          "height": 1000,
          "referenced_widgets": [
            "76f92dea6534410181f7784a4d92bba0",
            "76485a2871764cf98bf80a8d1da4d5ea",
            "cc34a5ad34284c26a9b38afc3b93cc8e",
            "4372a1790f3c4f7eb127168736a21d5a",
            "1db074f8d3664be68df9683cfdd2fe90",
            "b30db281dc2c4fd1a3dce95f25684fff",
            "4bc66bb61ce04b4e8158fd52f88b0ef9",
            "bd2a912261c8433da2f0332b7d4ada8f",
            "c4ffaffb4d4844488c6385846f075c37",
            "1efb50a407114d3ca2ec9bbe7cb0edb8",
            "49e5df596d4240c1a60cd30ff112355b"
          ]
        },
        "id": "K031iXfgJl8c",
        "outputId": "14a7f4e1-5f7c-45a6-ecbe-4b2730d56eb5"
      },
      "execution_count": 18,
      "outputs": [
        {
          "output_type": "stream",
          "name": "stdout",
          "text": [
            "Found 4733 files belonging to 2 classes.\n",
            "Using 3787 files for training.\n",
            "Using 946 files for validation.\n",
            "Found 1184 files belonging to 2 classes.\n"
          ]
        },
        {
          "output_type": "display_data",
          "data": {
            "text/plain": [
              "  0%|          | 0/119 [00:00<?, ?it/s]"
            ],
            "application/vnd.jupyter.widget-view+json": {
              "version_major": 2,
              "version_minor": 0,
              "model_id": "76f92dea6534410181f7784a4d92bba0"
            }
          },
          "metadata": {}
        },
        {
          "output_type": "stream",
          "name": "stdout",
          "text": [
            "1742 2045\n"
          ]
        },
        {
          "output_type": "display_data",
          "data": {
            "text/plain": [
              "<Figure size 1000x1000 with 9 Axes>"
            ],
            "image/png": "[encoded data removed]"
          },
          "metadata": {}
        },
        {
          "output_type": "display_data",
          "data": {
            "text/plain": [
              "<Figure size 1000x1000 with 9 Axes>"
            ],
            "image/png": "[encoded data removed]"
          },
          "metadata": {}
        }
      ]
    },
    {
      "cell_type": "code",
      "source": [
        "def objective(config, train, val):\n",
        "  history = train_model(config, train, val)\n",
        "  return max(history.history['val_accuracy'])"
      ],
      "metadata": {
        "id": "TKsdWF-PIU7M"
      },
      "execution_count": 14,
      "outputs": []
    },
    {
      "cell_type": "code",
      "source": [
        "def main():\n",
        "    wandb.init()\n",
        "    val_accuracy = objective(wandb.config, train, val)\n",
        "    wandb.log({'val_accuracy': val_accuracy})\n",
        "\n",
        "# 2: Define the search space\n",
        "sweep_configuration = {\n",
        "    'method': 'bayes',\n",
        "    'metric':\n",
        "    {\n",
        "        'goal': 'maximize',\n",
        "        'name': 'val_accuracy'\n",
        "    },\n",
        "    'parameters':\n",
        "    {\n",
        "        'init_learning_rate': {'distribution': 'log_uniform_values', 'max': 1e-2, 'min': 1e-5},\n",
        "    }\n",
        "}\n",
        "sweep_configuration['parameters'].update({attribute:{'value':value} for attribute, value in configs.items()})\n",
        "\n",
        "# 3: Start the sweep\n",
        "sweep_id = wandb.sweep(\n",
        "    sweep=sweep_configuration,\n",
        "    project='MuffinChihuahuas'\n",
        "    )\n",
        "\n",
        "wandb.agent(sweep_id, function=main, count=10)"
      ],
      "metadata": {
        "colab": {
          "base_uri": "https://localhost:8080/",
          "height": 1000,
          "referenced_widgets": [
            "5b4c0afb58944e4ba90d1694ae5a7976",
            "8b872a7740c3439b9ccb2c0c1f49a399",
            "e95e17e3207e4bfc9d1f320829c2a20b",
            "6aed69be85db46f8b581695234a47006",
            "72fa2ecaf4d8470d8402e72205f50ff3",
            "3eb9edeabfc148a6a7367967f12cb399",
            "981fecdbf6e847be9d7a7e21675463b7",
            "bdb55aa3c1f0410090848acb80c95157",
            "0358f9ddf735455988deed4fb273fa55",
            "2cdb1c306e5f4fd7ab3f0994c320dbb2",
            "d89708aed8184014b139641a650c048a",
            "b8bf99974a5e41eea61b66a1a19f4bdc",
            "06a7a3c1ed1d4d119975250981f157ac",
            "2caf5dee04094d7495be70ace9c55999",
            "94958d38673b4315bf081814f0d52c9c",
            "d033ca20c817478f9d904dc11663d7e0",
            "020c296db8734f74b9bf718a367e5b3f",
            "0af29494e7814f1596abe7603719d501",
            "ba221942d0d2484cab06685f76540a78",
            "500d2a3a32c24ee0a8282949e45f2676",
            "f21e94875dea406489b319d061fbfd5c",
            "8e688c6e21534096a4075c46cf4f0709",
            "30c3d22b25a94a26a93b3d8289ef88a0",
            "351dce2e954e4aafadc393b08492a277",
            "455eb0b98ccb4b60911a052e43f15d32",
            "fe9391544bae44bbb5a10debbf821961",
            "78cbc4d4216741dc83f425cf6b9c8d92",
            "c8067683cf2d45a1ac3ab598a3cd9567",
            "e1ef2d6832f54557ada3e7b6d4a45028",
            "fc1d784229ca44ed99a18c051925f132",
            "ac606b52ad944195b60f815ff4cc2c8f",
            "117477c8c60343438bcdf6ee93199c16",
            "088a6e9fe63448a58d1a33131174d585",
            "f46aa30ffbe843578abf065deb3fe9c0",
            "9438c9ad16734f5f8c489b0ec72d0a87",
            "ecbe54cbbc164735a5ab98a78da18878",
            "055232a39816439a9101156b974b5395",
            "04095addeea64c9787cba09e23a33d83",
            "01f708ef62c942929a70d2e9f5cbd2c3",
            "0a62a0082ff64e4490edebb02bb37f59",
            "5454bfc69acf4cd6a564f4862549d99f",
            "ec30cc585c2f4d719d64b91a328d310b",
            "cce6b4aa539b476cbcd1361f77faff5d",
            "127de86dcb2f412d813fe14a17dee3ad",
            "1e16674614724f46b533519f197140b9",
            "0aeb4e07036a4cdd9af75dff9d088113",
            "f94cd9af18c64a34aa143c899e3f2677",
            "83f26372895546cdb9f057a777d933ca",
            "716e75a2a4e1428caae2e54601c0290b",
            "b24e4077082149418c043920f8f0d13a",
            "14e8d8bbe547459a88f78de95e895c50",
            "eb161da9ec674cc1b77813639f067880",
            "3b69158c5ede4f7f8f4f6fa53575e1cc",
            "546536457e084e989ab2ae7e4149454a",
            "8758ef960d7a45ae8269c29e44bf488b",
            "db1442b2cac24b9ba647eb4124ec97c1",
            "ae437ad0f65242119561f062f89a33c8",
            "fecd30bc8b414f978a3cdd66bdb82464",
            "a3766e9186634fd7a9e7f0e8211a5d69",
            "ab6f228d2f1e4886bfccc7a1bdd16fd2",
            "804063d178a24587b4d06dcda31b1aee",
            "9d202060db42452bb26e35128fdc6065",
            "21d10aac279c4fdbaa9e3f516a96b93d",
            "83ea24c1cccf4606a0539954759d748a"
          ]
        },
        "id": "VB30QRYvAFgy",
        "outputId": "06f4a6f2-38a3-4cfd-f38a-433ea5896441"
      },
      "execution_count": 15,
      "outputs": [
        {
          "output_type": "stream",
          "name": "stdout",
          "text": [
            "Create sweep with ID: qiy27mo6\n",
            "Sweep URL: https://wandb.ai/minigi/MuffinChihuahuas/sweeps/qiy27mo6\n"
          ]
        },
        {
          "output_type": "stream",
          "name": "stderr",
          "text": [
            "\u001b[34m\u001b[1mwandb\u001b[0m: Agent Starting Run: 7h9zagsm with config:\n",
            "\u001b[34m\u001b[1mwandb\u001b[0m: \tbatch_size: 32\n",
            "\u001b[34m\u001b[1mwandb\u001b[0m: \tepochs: 50\n",
            "\u001b[34m\u001b[1mwandb\u001b[0m: \timage_size: 64\n",
            "\u001b[34m\u001b[1mwandb\u001b[0m: \tinit_learning_rate: 9.795739961978613e-05\n",
            "\u001b[34m\u001b[1mwandb\u001b[0m: \tloss_fn: binary_crossentropy\n",
            "\u001b[34m\u001b[1mwandb\u001b[0m: \tmetrics: ['acc']\n",
            "\u001b[34m\u001b[1mwandb\u001b[0m: \toptimizer: adam\n"
          ]
        },
        {
          "output_type": "display_data",
          "data": {
            "text/plain": [
              "<IPython.core.display.HTML object>"
            ],
            "text/html": [
              "Tracking run with wandb version 0.15.5"
            ]
          },
          "metadata": {}
        },
        {
          "output_type": "display_data",
          "data": {
            "text/plain": [
              "<IPython.core.display.HTML object>"
            ],
            "text/html": [
              "Run data is saved locally in <code>/content/wandb/run-20230721_213903-7h9zagsm</code>"
            ]
          },
          "metadata": {}
        },
        {
          "output_type": "display_data",
          "data": {
            "text/plain": [
              "<IPython.core.display.HTML object>"
            ],
            "text/html": [
              "Syncing run <strong><a href='https://wandb.ai/minigi/MuffinChihuahuas/runs/7h9zagsm' target=\"_blank\">dauntless-sweep-1</a></strong> to <a href='https://wandb.ai/minigi/MuffinChihuahuas' target=\"_blank\">Weights & Biases</a> (<a href='https://wandb.me/run' target=\"_blank\">docs</a>)<br/>Sweep page: <a href='https://wandb.ai/minigi/MuffinChihuahuas/sweeps/qiy27mo6' target=\"_blank\">https://wandb.ai/minigi/MuffinChihuahuas/sweeps/qiy27mo6</a>"
            ]
          },
          "metadata": {}
        },
        {
          "output_type": "display_data",
          "data": {
            "text/plain": [
              "<IPython.core.display.HTML object>"
            ],
            "text/html": [
              " View project at <a href='https://wandb.ai/minigi/MuffinChihuahuas' target=\"_blank\">https://wandb.ai/minigi/MuffinChihuahuas</a>"
            ]
          },
          "metadata": {}
        },
        {
          "output_type": "display_data",
          "data": {
            "text/plain": [
              "<IPython.core.display.HTML object>"
            ],
            "text/html": [
              " View sweep at <a href='https://wandb.ai/minigi/MuffinChihuahuas/sweeps/qiy27mo6' target=\"_blank\">https://wandb.ai/minigi/MuffinChihuahuas/sweeps/qiy27mo6</a>"
            ]
          },
          "metadata": {}
        },
        {
          "output_type": "display_data",
          "data": {
            "text/plain": [
              "<IPython.core.display.HTML object>"
            ],
            "text/html": [
              " View run at <a href='https://wandb.ai/minigi/MuffinChihuahuas/runs/7h9zagsm' target=\"_blank\">https://wandb.ai/minigi/MuffinChihuahuas/runs/7h9zagsm</a>"
            ]
          },
          "metadata": {}
        },
        {
          "output_type": "stream",
          "name": "stdout",
          "text": [
            "Epoch 1/50\n",
            "119/119 [==============================] - 19s 52ms/step - loss: 0.4236 - accuracy: 0.8115 - val_loss: 0.6913 - val_accuracy: 0.5433\n",
            "Epoch 2/50\n",
            "119/119 [==============================] - 6s 49ms/step - loss: 0.3408 - accuracy: 0.8574 - val_loss: 0.6938 - val_accuracy: 0.4567\n",
            "Epoch 3/50\n",
            "119/119 [==============================] - 6s 49ms/step - loss: 0.3046 - accuracy: 0.8751 - val_loss: 0.7014 - val_accuracy: 0.4567\n",
            "Epoch 4/50\n",
            "119/119 [==============================] - 6s 48ms/step - loss: 0.2631 - accuracy: 0.8862 - val_loss: 0.6923 - val_accuracy: 0.4609\n",
            "Epoch 5/50\n",
            "119/119 [==============================] - 6s 49ms/step - loss: 0.2564 - accuracy: 0.8912 - val_loss: 0.5783 - val_accuracy: 0.6818\n",
            "Epoch 6/50\n",
            "119/119 [==============================] - 6s 48ms/step - loss: 0.2348 - accuracy: 0.9065 - val_loss: 0.4549 - val_accuracy: 0.8034\n",
            "Epoch 7/50\n",
            "119/119 [==============================] - 6s 49ms/step - loss: 0.2172 - accuracy: 0.9097 - val_loss: 0.2255 - val_accuracy: 0.9175\n",
            "Epoch 8/50\n",
            "119/119 [==============================] - 6s 48ms/step - loss: 0.1947 - accuracy: 0.9200 - val_loss: 0.2864 - val_accuracy: 0.8795\n",
            "Epoch 9/50\n",
            "119/119 [==============================] - 6s 49ms/step - loss: 0.1933 - accuracy: 0.9216 - val_loss: 0.2648 - val_accuracy: 0.8890\n",
            "Epoch 10/50\n",
            "119/119 [==============================] - 6s 48ms/step - loss: 0.1754 - accuracy: 0.9282 - val_loss: 0.3650 - val_accuracy: 0.8520\n"
          ]
        },
        {
          "output_type": "display_data",
          "data": {
            "text/plain": [
              "<IPython.core.display.HTML object>"
            ],
            "text/html": [
              "Waiting for W&B process to finish... <strong style=\"color:green\">(success).</strong>"
            ]
          },
          "metadata": {}
        },
        {
          "output_type": "display_data",
          "data": {
            "text/plain": [
              "<IPython.core.display.HTML object>"
            ],
            "text/html": [
              "<style>\n",
              "    table.wandb td:nth-child(1) { padding: 0 10px; text-align: left ; width: auto;} td:nth-child(2) {text-align: left ; width: 100%}\n",
              "    .wandb-row { display: flex; flex-direction: row; flex-wrap: wrap; justify-content: flex-start; width: 100% }\n",
              "    .wandb-col { display: flex; flex-direction: column; flex-basis: 100%; flex: 1; padding: 10px; }\n",
              "    </style>\n",
              "<div class=\"wandb-row\"><div class=\"wandb-col\"><h3>Run history:</h3><br/><table class=\"wandb\"><tr><td>batch/accuracy</td><td>▁▂▃▄▆▆▆▆▅▆▆▆▅▆▇▇▆▇▇▇▇▇▇▇▇▇▇▇▇███████████</td></tr><tr><td>batch/batch_step</td><td>▁▁▁▁▂▂▂▂▂▃▃▃▃▃▃▄▄▄▄▄▅▅▅▅▅▅▆▆▆▆▆▆▇▇▇▇▇███</td></tr><tr><td>batch/learning_rate</td><td>▁▁▁▁▁▁▁▁▁▁▁▁▁▁▁▁▁▁▁▁▁▁▁▁▁▁▁▁▁▁▁▁▁▁▁▁▁▁▁▁</td></tr><tr><td>batch/loss</td><td>█▇▆▆▄▄▄▄▄▄▄▃▄▃▃▃▃▃▂▂▂▂▂▂▃▂▂▂▂▂▁▁▂▁▁▁▁▁▁▁</td></tr><tr><td>epoch/accuracy</td><td>▁▄▅▅▆▇▇███</td></tr><tr><td>epoch/epoch</td><td>▁▂▃▃▄▅▆▆▇█</td></tr><tr><td>epoch/learning_rate</td><td>▁▁▁▁▁▁▁▁▁▁</td></tr><tr><td>epoch/loss</td><td>█▆▅▃▃▃▂▂▂▁</td></tr><tr><td>epoch/val_accuracy</td><td>▂▁▁▁▄▆█▇█▇</td></tr><tr><td>epoch/val_loss</td><td>████▆▄▁▂▂▃</td></tr><tr><td>val_accuracy</td><td>▁</td></tr></table><br/></div><div class=\"wandb-col\"><h3>Run summary:</h3><br/><table class=\"wandb\"><tr><td>batch/accuracy</td><td>0.92818</td></tr><tr><td>batch/batch_step</td><td>1198</td></tr><tr><td>batch/learning_rate</td><td>0.0001</td></tr><tr><td>batch/loss</td><td>0.17543</td></tr><tr><td>epoch/accuracy</td><td>0.92818</td></tr><tr><td>epoch/epoch</td><td>9</td></tr><tr><td>epoch/learning_rate</td><td>0.0001</td></tr><tr><td>epoch/loss</td><td>0.17543</td></tr><tr><td>epoch/val_accuracy</td><td>0.85201</td></tr><tr><td>epoch/val_loss</td><td>0.36505</td></tr><tr><td>val_accuracy</td><td>0.91755</td></tr></table><br/></div></div>"
            ]
          },
          "metadata": {}
        },
        {
          "output_type": "display_data",
          "data": {
            "text/plain": [
              "<IPython.core.display.HTML object>"
            ],
            "text/html": [
              " View run <strong style=\"color:#cdcd00\">dauntless-sweep-1</strong> at: <a href='https://wandb.ai/minigi/MuffinChihuahuas/runs/7h9zagsm' target=\"_blank\">https://wandb.ai/minigi/MuffinChihuahuas/runs/7h9zagsm</a><br/>Synced 5 W&B file(s), 0 media file(s), 0 artifact file(s) and 0 other file(s)"
            ]
          },
          "metadata": {}
        },
        {
          "output_type": "display_data",
          "data": {
            "text/plain": [
              "<IPython.core.display.HTML object>"
            ],
            "text/html": [
              "Find logs at: <code>./wandb/run-20230721_213903-7h9zagsm/logs</code>"
            ]
          },
          "metadata": {}
        },
        {
          "output_type": "stream",
          "name": "stderr",
          "text": [
            "\u001b[34m\u001b[1mwandb\u001b[0m: Agent Starting Run: bgwkykch with config:\n",
            "\u001b[34m\u001b[1mwandb\u001b[0m: \tbatch_size: 32\n",
            "\u001b[34m\u001b[1mwandb\u001b[0m: \tepochs: 50\n",
            "\u001b[34m\u001b[1mwandb\u001b[0m: \timage_size: 64\n",
            "\u001b[34m\u001b[1mwandb\u001b[0m: \tinit_learning_rate: 0.00023296204756621404\n",
            "\u001b[34m\u001b[1mwandb\u001b[0m: \tloss_fn: binary_crossentropy\n",
            "\u001b[34m\u001b[1mwandb\u001b[0m: \tmetrics: ['acc']\n",
            "\u001b[34m\u001b[1mwandb\u001b[0m: \toptimizer: adam\n"
          ]
        },
        {
          "output_type": "display_data",
          "data": {
            "text/plain": [
              "<IPython.core.display.HTML object>"
            ],
            "text/html": [
              "Tracking run with wandb version 0.15.5"
            ]
          },
          "metadata": {}
        },
        {
          "output_type": "display_data",
          "data": {
            "text/plain": [
              "<IPython.core.display.HTML object>"
            ],
            "text/html": [
              "Run data is saved locally in <code>/content/wandb/run-20230721_214038-bgwkykch</code>"
            ]
          },
          "metadata": {}
        },
        {
          "output_type": "display_data",
          "data": {
            "text/plain": [
              "<IPython.core.display.HTML object>"
            ],
            "text/html": [
              "Syncing run <strong><a href='https://wandb.ai/minigi/MuffinChihuahuas/runs/bgwkykch' target=\"_blank\">brisk-sweep-2</a></strong> to <a href='https://wandb.ai/minigi/MuffinChihuahuas' target=\"_blank\">Weights & Biases</a> (<a href='https://wandb.me/run' target=\"_blank\">docs</a>)<br/>Sweep page: <a href='https://wandb.ai/minigi/MuffinChihuahuas/sweeps/qiy27mo6' target=\"_blank\">https://wandb.ai/minigi/MuffinChihuahuas/sweeps/qiy27mo6</a>"
            ]
          },
          "metadata": {}
        },
        {
          "output_type": "display_data",
          "data": {
            "text/plain": [
              "<IPython.core.display.HTML object>"
            ],
            "text/html": [
              " View project at <a href='https://wandb.ai/minigi/MuffinChihuahuas' target=\"_blank\">https://wandb.ai/minigi/MuffinChihuahuas</a>"
            ]
          },
          "metadata": {}
        },
        {
          "output_type": "display_data",
          "data": {
            "text/plain": [
              "<IPython.core.display.HTML object>"
            ],
            "text/html": [
              " View sweep at <a href='https://wandb.ai/minigi/MuffinChihuahuas/sweeps/qiy27mo6' target=\"_blank\">https://wandb.ai/minigi/MuffinChihuahuas/sweeps/qiy27mo6</a>"
            ]
          },
          "metadata": {}
        },
        {
          "output_type": "display_data",
          "data": {
            "text/plain": [
              "<IPython.core.display.HTML object>"
            ],
            "text/html": [
              " View run at <a href='https://wandb.ai/minigi/MuffinChihuahuas/runs/bgwkykch' target=\"_blank\">https://wandb.ai/minigi/MuffinChihuahuas/runs/bgwkykch</a>"
            ]
          },
          "metadata": {}
        },
        {
          "output_type": "stream",
          "name": "stdout",
          "text": [
            "Epoch 1/50\n",
            "119/119 [==============================] - 15s 48ms/step - loss: 0.4284 - accuracy: 0.8159 - val_loss: 0.6925 - val_accuracy: 0.5222\n",
            "Epoch 2/50\n",
            "119/119 [==============================] - 6s 48ms/step - loss: 0.3243 - accuracy: 0.8637 - val_loss: 0.6894 - val_accuracy: 0.5433\n",
            "Epoch 3/50\n",
            "119/119 [==============================] - 6s 49ms/step - loss: 0.2957 - accuracy: 0.8809 - val_loss: 0.6886 - val_accuracy: 0.5402\n",
            "Epoch 4/50\n",
            "119/119 [==============================] - 6s 48ms/step - loss: 0.2473 - accuracy: 0.8991 - val_loss: 0.6892 - val_accuracy: 0.5433\n",
            "Epoch 5/50\n",
            "119/119 [==============================] - 6s 49ms/step - loss: 0.2368 - accuracy: 0.9063 - val_loss: 0.6272 - val_accuracy: 0.5814\n",
            "Epoch 6/50\n",
            "119/119 [==============================] - 6s 48ms/step - loss: 0.2100 - accuracy: 0.9184 - val_loss: 0.3582 - val_accuracy: 0.8277\n",
            "Epoch 7/50\n",
            "119/119 [==============================] - 6s 50ms/step - loss: 0.2123 - accuracy: 0.9144 - val_loss: 0.2392 - val_accuracy: 0.9006\n",
            "Epoch 8/50\n",
            "119/119 [==============================] - 6s 50ms/step - loss: 0.1763 - accuracy: 0.9266 - val_loss: 0.3005 - val_accuracy: 0.8816\n",
            "Epoch 9/50\n",
            "119/119 [==============================] - 6s 48ms/step - loss: 0.1635 - accuracy: 0.9356 - val_loss: 0.2229 - val_accuracy: 0.9123\n",
            "Epoch 10/50\n",
            "119/119 [==============================] - 6s 50ms/step - loss: 0.1417 - accuracy: 0.9424 - val_loss: 0.4200 - val_accuracy: 0.8266\n",
            "Epoch 11/50\n",
            "119/119 [==============================] - 6s 48ms/step - loss: 0.1597 - accuracy: 0.9372 - val_loss: 0.2714 - val_accuracy: 0.8869\n",
            "Epoch 12/50\n",
            "119/119 [==============================] - 6s 49ms/step - loss: 0.1466 - accuracy: 0.9438 - val_loss: 0.4605 - val_accuracy: 0.8383\n"
          ]
        },
        {
          "output_type": "display_data",
          "data": {
            "text/plain": [
              "<IPython.core.display.HTML object>"
            ],
            "text/html": [
              "Waiting for W&B process to finish... <strong style=\"color:green\">(success).</strong>"
            ]
          },
          "metadata": {}
        },
        {
          "output_type": "display_data",
          "data": {
            "text/plain": [
              "VBox(children=(Label(value='0.002 MB of 0.002 MB uploaded (0.000 MB deduped)\\r'), FloatProgress(value=1.0, max…"
            ],
            "application/vnd.jupyter.widget-view+json": {
              "version_major": 2,
              "version_minor": 0,
              "model_id": "5b4c0afb58944e4ba90d1694ae5a7976"
            }
          },
          "metadata": {}
        },
        {
          "output_type": "display_data",
          "data": {
            "text/plain": [
              "<IPython.core.display.HTML object>"
            ],
            "text/html": [
              "<style>\n",
              "    table.wandb td:nth-child(1) { padding: 0 10px; text-align: left ; width: auto;} td:nth-child(2) {text-align: left ; width: 100%}\n",
              "    .wandb-row { display: flex; flex-direction: row; flex-wrap: wrap; justify-content: flex-start; width: 100% }\n",
              "    .wandb-col { display: flex; flex-direction: column; flex-basis: 100%; flex: 1; padding: 10px; }\n",
              "    </style>\n",
              "<div class=\"wandb-row\"><div class=\"wandb-col\"><h3>Run history:</h3><br/><table class=\"wandb\"><tr><td>batch/accuracy</td><td>▁▃▄▄▅▅▅▅▆▆▆▆▇▇▆▇▇▇▇▇▇▇▇▆▇▇▇▇█████▇██████</td></tr><tr><td>batch/batch_step</td><td>▁▁▁▁▂▂▂▂▂▃▃▃▃▃▃▄▄▄▄▄▅▅▅▅▅▅▆▆▆▆▆▇▇▇▇▇▇███</td></tr><tr><td>batch/learning_rate</td><td>▁▁▁▁▁▁▁▁▁▁▁▁▁▁▁▁▁▁▁▁▁▁▁▁▁▁▁▁▁▁▁▁▁▁▁▁▁▁▁▁</td></tr><tr><td>batch/loss</td><td>█▇▆▆▄▄▄▅▄▄▄▃▃▃▃▃▃▂▂▂▂▂▂▂▂▂▂▂▁▁▁▁▁▂▁▁▂▁▁▁</td></tr><tr><td>epoch/accuracy</td><td>▁▄▅▆▆▇▆▇████</td></tr><tr><td>epoch/epoch</td><td>▁▂▂▃▄▄▅▅▆▇▇█</td></tr><tr><td>epoch/learning_rate</td><td>▁▁▁▁▁▁▁▁▁▁▁▁</td></tr><tr><td>epoch/loss</td><td>█▅▅▄▃▃▃▂▂▁▁▁</td></tr><tr><td>epoch/val_accuracy</td><td>▁▁▁▁▂▆█▇█▆█▇</td></tr><tr><td>epoch/val_loss</td><td>████▇▃▁▂▁▄▂▅</td></tr><tr><td>val_accuracy</td><td>▁</td></tr></table><br/></div><div class=\"wandb-col\"><h3>Run summary:</h3><br/><table class=\"wandb\"><tr><td>batch/accuracy</td><td>0.94375</td></tr><tr><td>batch/batch_step</td><td>1438</td></tr><tr><td>batch/learning_rate</td><td>0.00023</td></tr><tr><td>batch/loss</td><td>0.14659</td></tr><tr><td>epoch/accuracy</td><td>0.94375</td></tr><tr><td>epoch/epoch</td><td>11</td></tr><tr><td>epoch/learning_rate</td><td>0.00023</td></tr><tr><td>epoch/loss</td><td>0.14659</td></tr><tr><td>epoch/val_accuracy</td><td>0.83827</td></tr><tr><td>epoch/val_loss</td><td>0.46053</td></tr><tr><td>val_accuracy</td><td>0.91226</td></tr></table><br/></div></div>"
            ]
          },
          "metadata": {}
        },
        {
          "output_type": "display_data",
          "data": {
            "text/plain": [
              "<IPython.core.display.HTML object>"
            ],
            "text/html": [
              " View run <strong style=\"color:#cdcd00\">brisk-sweep-2</strong> at: <a href='https://wandb.ai/minigi/MuffinChihuahuas/runs/bgwkykch' target=\"_blank\">https://wandb.ai/minigi/MuffinChihuahuas/runs/bgwkykch</a><br/>Synced 5 W&B file(s), 0 media file(s), 0 artifact file(s) and 0 other file(s)"
            ]
          },
          "metadata": {}
        },
        {
          "output_type": "display_data",
          "data": {
            "text/plain": [
              "<IPython.core.display.HTML object>"
            ],
            "text/html": [
              "Find logs at: <code>./wandb/run-20230721_214038-bgwkykch/logs</code>"
            ]
          },
          "metadata": {}
        },
        {
          "output_type": "stream",
          "name": "stderr",
          "text": [
            "\u001b[34m\u001b[1mwandb\u001b[0m: Agent Starting Run: azj5etiv with config:\n",
            "\u001b[34m\u001b[1mwandb\u001b[0m: \tbatch_size: 32\n",
            "\u001b[34m\u001b[1mwandb\u001b[0m: \tepochs: 50\n",
            "\u001b[34m\u001b[1mwandb\u001b[0m: \timage_size: 64\n",
            "\u001b[34m\u001b[1mwandb\u001b[0m: \tinit_learning_rate: 0.0013836812074124684\n",
            "\u001b[34m\u001b[1mwandb\u001b[0m: \tloss_fn: binary_crossentropy\n",
            "\u001b[34m\u001b[1mwandb\u001b[0m: \tmetrics: ['acc']\n",
            "\u001b[34m\u001b[1mwandb\u001b[0m: \toptimizer: adam\n"
          ]
        },
        {
          "output_type": "display_data",
          "data": {
            "text/plain": [
              "<IPython.core.display.HTML object>"
            ],
            "text/html": [
              "Tracking run with wandb version 0.15.5"
            ]
          },
          "metadata": {}
        },
        {
          "output_type": "display_data",
          "data": {
            "text/plain": [
              "<IPython.core.display.HTML object>"
            ],
            "text/html": [
              "Run data is saved locally in <code>/content/wandb/run-20230721_214220-azj5etiv</code>"
            ]
          },
          "metadata": {}
        },
        {
          "output_type": "display_data",
          "data": {
            "text/plain": [
              "<IPython.core.display.HTML object>"
            ],
            "text/html": [
              "Syncing run <strong><a href='https://wandb.ai/minigi/MuffinChihuahuas/runs/azj5etiv' target=\"_blank\">avid-sweep-3</a></strong> to <a href='https://wandb.ai/minigi/MuffinChihuahuas' target=\"_blank\">Weights & Biases</a> (<a href='https://wandb.me/run' target=\"_blank\">docs</a>)<br/>Sweep page: <a href='https://wandb.ai/minigi/MuffinChihuahuas/sweeps/qiy27mo6' target=\"_blank\">https://wandb.ai/minigi/MuffinChihuahuas/sweeps/qiy27mo6</a>"
            ]
          },
          "metadata": {}
        },
        {
          "output_type": "display_data",
          "data": {
            "text/plain": [
              "<IPython.core.display.HTML object>"
            ],
            "text/html": [
              " View project at <a href='https://wandb.ai/minigi/MuffinChihuahuas' target=\"_blank\">https://wandb.ai/minigi/MuffinChihuahuas</a>"
            ]
          },
          "metadata": {}
        },
        {
          "output_type": "display_data",
          "data": {
            "text/plain": [
              "<IPython.core.display.HTML object>"
            ],
            "text/html": [
              " View sweep at <a href='https://wandb.ai/minigi/MuffinChihuahuas/sweeps/qiy27mo6' target=\"_blank\">https://wandb.ai/minigi/MuffinChihuahuas/sweeps/qiy27mo6</a>"
            ]
          },
          "metadata": {}
        },
        {
          "output_type": "display_data",
          "data": {
            "text/plain": [
              "<IPython.core.display.HTML object>"
            ],
            "text/html": [
              " View run at <a href='https://wandb.ai/minigi/MuffinChihuahuas/runs/azj5etiv' target=\"_blank\">https://wandb.ai/minigi/MuffinChihuahuas/runs/azj5etiv</a>"
            ]
          },
          "metadata": {}
        },
        {
          "output_type": "stream",
          "name": "stdout",
          "text": [
            "Epoch 1/50\n",
            "119/119 [==============================] - 14s 46ms/step - loss: 0.4207 - accuracy: 0.8268 - val_loss: 1.0211 - val_accuracy: 0.5433\n",
            "Epoch 2/50\n",
            "119/119 [==============================] - 6s 50ms/step - loss: 0.3293 - accuracy: 0.8693 - val_loss: 1.2133 - val_accuracy: 0.5433\n",
            "Epoch 3/50\n",
            "119/119 [==============================] - 6s 48ms/step - loss: 0.2947 - accuracy: 0.8817 - val_loss: 1.0222 - val_accuracy: 0.5433\n",
            "Epoch 4/50\n",
            "119/119 [==============================] - 6s 49ms/step - loss: 0.2673 - accuracy: 0.8904 - val_loss: 0.9924 - val_accuracy: 0.5677\n",
            "Epoch 5/50\n",
            "119/119 [==============================] - 6s 48ms/step - loss: 0.2498 - accuracy: 0.8946 - val_loss: 0.7869 - val_accuracy: 0.7072\n",
            "Epoch 6/50\n",
            "119/119 [==============================] - 6s 48ms/step - loss: 0.2320 - accuracy: 0.9020 - val_loss: 0.3300 - val_accuracy: 0.8520\n",
            "Epoch 7/50\n",
            "119/119 [==============================] - 6s 50ms/step - loss: 0.2196 - accuracy: 0.9107 - val_loss: 0.3405 - val_accuracy: 0.8647\n",
            "Epoch 8/50\n",
            "119/119 [==============================] - 6s 48ms/step - loss: 0.1985 - accuracy: 0.9171 - val_loss: 0.8566 - val_accuracy: 0.7008\n",
            "Epoch 9/50\n",
            "119/119 [==============================] - 6s 50ms/step - loss: 0.2032 - accuracy: 0.9195 - val_loss: 0.2237 - val_accuracy: 0.9080\n",
            "Epoch 10/50\n",
            "119/119 [==============================] - 6s 48ms/step - loss: 0.1928 - accuracy: 0.9232 - val_loss: 0.2474 - val_accuracy: 0.9133\n",
            "Epoch 11/50\n",
            "119/119 [==============================] - 6s 50ms/step - loss: 0.1728 - accuracy: 0.9329 - val_loss: 0.2212 - val_accuracy: 0.8996\n",
            "Epoch 12/50\n",
            "119/119 [==============================] - 6s 48ms/step - loss: 0.1779 - accuracy: 0.9284 - val_loss: 0.2685 - val_accuracy: 0.8837\n",
            "Epoch 13/50\n",
            "119/119 [==============================] - 6s 49ms/step - loss: 0.1925 - accuracy: 0.9192 - val_loss: 0.2704 - val_accuracy: 0.8890\n"
          ]
        },
        {
          "output_type": "display_data",
          "data": {
            "text/plain": [
              "<IPython.core.display.HTML object>"
            ],
            "text/html": [
              "Waiting for W&B process to finish... <strong style=\"color:green\">(success).</strong>"
            ]
          },
          "metadata": {}
        },
        {
          "output_type": "display_data",
          "data": {
            "text/plain": [
              "<IPython.core.display.HTML object>"
            ],
            "text/html": [
              "<style>\n",
              "    table.wandb td:nth-child(1) { padding: 0 10px; text-align: left ; width: auto;} td:nth-child(2) {text-align: left ; width: 100%}\n",
              "    .wandb-row { display: flex; flex-direction: row; flex-wrap: wrap; justify-content: flex-start; width: 100% }\n",
              "    .wandb-col { display: flex; flex-direction: column; flex-basis: 100%; flex: 1; padding: 10px; }\n",
              "    </style>\n",
              "<div class=\"wandb-row\"><div class=\"wandb-col\"><h3>Run history:</h3><br/><table class=\"wandb\"><tr><td>batch/accuracy</td><td>▁▃▄▆▆▆▆▆▆▆▆▇▇▇▇▇▇▇▇▇▇▇▇█████▇████████▇██</td></tr><tr><td>batch/batch_step</td><td>▁▁▁▂▂▂▂▂▂▃▃▃▃▃▃▄▄▄▄▄▅▅▅▅▅▅▆▆▆▆▆▇▇▇▇▇▇███</td></tr><tr><td>batch/learning_rate</td><td>▁▁▁▁▁▁▁▁▁▁▁▁▁▁▁▁▁▁▁▁▁▁▁▁▁▁▁▁▁▁▁▁▁▁▁▁▁▁▁▁</td></tr><tr><td>batch/loss</td><td>█▆▅▄▄▃▃▃▃▃▃▂▂▂▂▂▂▂▂▂▂▂▂▁▁▁▂▂▂▁▁▁▁▁▂▁▁▁▁▁</td></tr><tr><td>epoch/accuracy</td><td>▁▄▅▅▅▆▇▇▇▇██▇</td></tr><tr><td>epoch/epoch</td><td>▁▂▂▃▃▄▅▅▆▆▇▇█</td></tr><tr><td>epoch/learning_rate</td><td>▁▁▁▁▁▁▁▁▁▁▁▁▁</td></tr><tr><td>epoch/loss</td><td>█▅▄▄▃▃▂▂▂▂▁▁▂</td></tr><tr><td>epoch/val_accuracy</td><td>▁▁▁▁▄▇▇▄███▇█</td></tr><tr><td>epoch/val_loss</td><td>▇█▇▆▅▂▂▅▁▁▁▁▁</td></tr><tr><td>val_accuracy</td><td>▁</td></tr></table><br/></div><div class=\"wandb-col\"><h3>Run summary:</h3><br/><table class=\"wandb\"><tr><td>batch/accuracy</td><td>0.9192</td></tr><tr><td>batch/batch_step</td><td>1558</td></tr><tr><td>batch/learning_rate</td><td>0.00138</td></tr><tr><td>batch/loss</td><td>0.19252</td></tr><tr><td>epoch/accuracy</td><td>0.9192</td></tr><tr><td>epoch/epoch</td><td>12</td></tr><tr><td>epoch/learning_rate</td><td>0.00138</td></tr><tr><td>epoch/loss</td><td>0.19252</td></tr><tr><td>epoch/val_accuracy</td><td>0.88901</td></tr><tr><td>epoch/val_loss</td><td>0.27044</td></tr><tr><td>val_accuracy</td><td>0.91332</td></tr></table><br/></div></div>"
            ]
          },
          "metadata": {}
        },
        {
          "output_type": "display_data",
          "data": {
            "text/plain": [
              "<IPython.core.display.HTML object>"
            ],
            "text/html": [
              " View run <strong style=\"color:#cdcd00\">avid-sweep-3</strong> at: <a href='https://wandb.ai/minigi/MuffinChihuahuas/runs/azj5etiv' target=\"_blank\">https://wandb.ai/minigi/MuffinChihuahuas/runs/azj5etiv</a><br/>Synced 5 W&B file(s), 0 media file(s), 0 artifact file(s) and 0 other file(s)"
            ]
          },
          "metadata": {}
        },
        {
          "output_type": "display_data",
          "data": {
            "text/plain": [
              "<IPython.core.display.HTML object>"
            ],
            "text/html": [
              "Find logs at: <code>./wandb/run-20230721_214220-azj5etiv/logs</code>"
            ]
          },
          "metadata": {}
        },
        {
          "output_type": "stream",
          "name": "stderr",
          "text": [
            "\u001b[34m\u001b[1mwandb\u001b[0m: Agent Starting Run: kfew9kcn with config:\n",
            "\u001b[34m\u001b[1mwandb\u001b[0m: \tbatch_size: 32\n",
            "\u001b[34m\u001b[1mwandb\u001b[0m: \tepochs: 50\n",
            "\u001b[34m\u001b[1mwandb\u001b[0m: \timage_size: 64\n",
            "\u001b[34m\u001b[1mwandb\u001b[0m: \tinit_learning_rate: 0.00928980207848109\n",
            "\u001b[34m\u001b[1mwandb\u001b[0m: \tloss_fn: binary_crossentropy\n",
            "\u001b[34m\u001b[1mwandb\u001b[0m: \tmetrics: ['acc']\n",
            "\u001b[34m\u001b[1mwandb\u001b[0m: \toptimizer: adam\n"
          ]
        },
        {
          "output_type": "display_data",
          "data": {
            "text/plain": [
              "VBox(children=(Label(value='Waiting for wandb.init()...\\r'), FloatProgress(value=0.016669555066664545, max=1.0…"
            ],
            "application/vnd.jupyter.widget-view+json": {
              "version_major": 2,
              "version_minor": 0,
              "model_id": "0358f9ddf735455988deed4fb273fa55"
            }
          },
          "metadata": {}
        },
        {
          "output_type": "display_data",
          "data": {
            "text/plain": [
              "<IPython.core.display.HTML object>"
            ],
            "text/html": [
              "Tracking run with wandb version 0.15.5"
            ]
          },
          "metadata": {}
        },
        {
          "output_type": "display_data",
          "data": {
            "text/plain": [
              "<IPython.core.display.HTML object>"
            ],
            "text/html": [
              "Run data is saved locally in <code>/content/wandb/run-20230721_214406-kfew9kcn</code>"
            ]
          },
          "metadata": {}
        },
        {
          "output_type": "display_data",
          "data": {
            "text/plain": [
              "<IPython.core.display.HTML object>"
            ],
            "text/html": [
              "Syncing run <strong><a href='https://wandb.ai/minigi/MuffinChihuahuas/runs/kfew9kcn' target=\"_blank\">solar-sweep-4</a></strong> to <a href='https://wandb.ai/minigi/MuffinChihuahuas' target=\"_blank\">Weights & Biases</a> (<a href='https://wandb.me/run' target=\"_blank\">docs</a>)<br/>Sweep page: <a href='https://wandb.ai/minigi/MuffinChihuahuas/sweeps/qiy27mo6' target=\"_blank\">https://wandb.ai/minigi/MuffinChihuahuas/sweeps/qiy27mo6</a>"
            ]
          },
          "metadata": {}
        },
        {
          "output_type": "display_data",
          "data": {
            "text/plain": [
              "<IPython.core.display.HTML object>"
            ],
            "text/html": [
              " View project at <a href='https://wandb.ai/minigi/MuffinChihuahuas' target=\"_blank\">https://wandb.ai/minigi/MuffinChihuahuas</a>"
            ]
          },
          "metadata": {}
        },
        {
          "output_type": "display_data",
          "data": {
            "text/plain": [
              "<IPython.core.display.HTML object>"
            ],
            "text/html": [
              " View sweep at <a href='https://wandb.ai/minigi/MuffinChihuahuas/sweeps/qiy27mo6' target=\"_blank\">https://wandb.ai/minigi/MuffinChihuahuas/sweeps/qiy27mo6</a>"
            ]
          },
          "metadata": {}
        },
        {
          "output_type": "display_data",
          "data": {
            "text/plain": [
              "<IPython.core.display.HTML object>"
            ],
            "text/html": [
              " View run at <a href='https://wandb.ai/minigi/MuffinChihuahuas/runs/kfew9kcn' target=\"_blank\">https://wandb.ai/minigi/MuffinChihuahuas/runs/kfew9kcn</a>"
            ]
          },
          "metadata": {}
        },
        {
          "output_type": "stream",
          "name": "stdout",
          "text": [
            "Epoch 1/50\n",
            "119/119 [==============================] - 15s 50ms/step - loss: 0.6929 - accuracy: 0.7164 - val_loss: 0.8367 - val_accuracy: 0.5433\n",
            "Epoch 2/50\n",
            "119/119 [==============================] - 6s 48ms/step - loss: 0.4997 - accuracy: 0.7890 - val_loss: 0.7732 - val_accuracy: 0.5592\n",
            "Epoch 3/50\n",
            "119/119 [==============================] - 6s 49ms/step - loss: 0.4270 - accuracy: 0.8273 - val_loss: 1.1145 - val_accuracy: 0.5930\n",
            "Epoch 4/50\n",
            "119/119 [==============================] - 6s 48ms/step - loss: 0.4033 - accuracy: 0.8439 - val_loss: 0.6039 - val_accuracy: 0.7209\n",
            "Epoch 5/50\n",
            "119/119 [==============================] - 6s 49ms/step - loss: 0.3800 - accuracy: 0.8516 - val_loss: 0.7702 - val_accuracy: 0.6036\n",
            "Epoch 6/50\n",
            "119/119 [==============================] - 6s 48ms/step - loss: 0.3460 - accuracy: 0.8553 - val_loss: 0.6353 - val_accuracy: 0.5846\n",
            "Epoch 7/50\n",
            "119/119 [==============================] - 6s 49ms/step - loss: 0.3172 - accuracy: 0.8696 - val_loss: 0.4925 - val_accuracy: 0.7685\n",
            "Epoch 8/50\n",
            "119/119 [==============================] - 6s 48ms/step - loss: 0.3239 - accuracy: 0.8685 - val_loss: 0.8125 - val_accuracy: 0.6089\n",
            "Epoch 9/50\n",
            "119/119 [==============================] - 6s 49ms/step - loss: 0.2976 - accuracy: 0.8835 - val_loss: 0.3062 - val_accuracy: 0.8763\n",
            "Epoch 10/50\n",
            "119/119 [==============================] - 6s 48ms/step - loss: 0.2809 - accuracy: 0.8830 - val_loss: 0.3123 - val_accuracy: 0.8784\n",
            "Epoch 11/50\n",
            "119/119 [==============================] - 6s 48ms/step - loss: 0.2768 - accuracy: 0.8843 - val_loss: 0.4021 - val_accuracy: 0.8478\n",
            "Epoch 12/50\n",
            "119/119 [==============================] - 6s 49ms/step - loss: 0.2794 - accuracy: 0.8878 - val_loss: 0.4344 - val_accuracy: 0.8393\n",
            "Epoch 13/50\n",
            "119/119 [==============================] - 6s 48ms/step - loss: 0.2606 - accuracy: 0.8933 - val_loss: 0.3846 - val_accuracy: 0.8277\n"
          ]
        },
        {
          "output_type": "display_data",
          "data": {
            "text/plain": [
              "<IPython.core.display.HTML object>"
            ],
            "text/html": [
              "Waiting for W&B process to finish... <strong style=\"color:green\">(success).</strong>"
            ]
          },
          "metadata": {}
        },
        {
          "output_type": "display_data",
          "data": {
            "text/plain": [
              "VBox(children=(Label(value='0.002 MB of 0.002 MB uploaded (0.000 MB deduped)\\r'), FloatProgress(value=1.0, max…"
            ],
            "application/vnd.jupyter.widget-view+json": {
              "version_major": 2,
              "version_minor": 0,
              "model_id": "020c296db8734f74b9bf718a367e5b3f"
            }
          },
          "metadata": {}
        },
        {
          "output_type": "display_data",
          "data": {
            "text/plain": [
              "<IPython.core.display.HTML object>"
            ],
            "text/html": [
              "<style>\n",
              "    table.wandb td:nth-child(1) { padding: 0 10px; text-align: left ; width: auto;} td:nth-child(2) {text-align: left ; width: 100%}\n",
              "    .wandb-row { display: flex; flex-direction: row; flex-wrap: wrap; justify-content: flex-start; width: 100% }\n",
              "    .wandb-col { display: flex; flex-direction: column; flex-basis: 100%; flex: 1; padding: 10px; }\n",
              "    </style>\n",
              "<div class=\"wandb-row\"><div class=\"wandb-col\"><h3>Run history:</h3><br/><table class=\"wandb\"><tr><td>batch/accuracy</td><td>▁▃▄▄▆▆▆▆▇▇▇▇▇▇▇▇▇▇▇▇▇▇▇▇▇▇█████▇▇█▇█████</td></tr><tr><td>batch/batch_step</td><td>▁▁▁▂▂▂▂▂▂▃▃▃▃▃▃▄▄▄▄▄▅▅▅▅▅▅▆▆▆▆▆▇▇▇▇▇▇███</td></tr><tr><td>batch/learning_rate</td><td>▁▁▁▁▁▁▁▁▁▁▁▁▁▁▁▁▁▁▁▁▁▁▁▁▁▁▁▁▁▁▁▁▁▁▁▁▁▁▁▁</td></tr><tr><td>batch/loss</td><td>█▅▄▄▃▂▂▂▂▂▂▂▂▂▂▂▁▂▂▁▁▁▂▁▁▁▁▁▁▁▁▁▁▁▁▁▁▁▁▁</td></tr><tr><td>epoch/accuracy</td><td>▁▄▅▆▆▆▇▇█████</td></tr><tr><td>epoch/epoch</td><td>▁▂▂▃▃▄▅▅▆▆▇▇█</td></tr><tr><td>epoch/learning_rate</td><td>▁▁▁▁▁▁▁▁▁▁▁▁▁</td></tr><tr><td>epoch/loss</td><td>█▅▄▃▃▂▂▂▂▁▁▁▁</td></tr><tr><td>epoch/val_accuracy</td><td>▁▁▂▅▂▂▆▂██▇▇▇</td></tr><tr><td>epoch/val_loss</td><td>▆▅█▄▅▄▃▅▁▁▂▂▂</td></tr><tr><td>val_accuracy</td><td>▁</td></tr></table><br/></div><div class=\"wandb-col\"><h3>Run summary:</h3><br/><table class=\"wandb\"><tr><td>batch/accuracy</td><td>0.89332</td></tr><tr><td>batch/batch_step</td><td>1558</td></tr><tr><td>batch/learning_rate</td><td>0.00929</td></tr><tr><td>batch/loss</td><td>0.26057</td></tr><tr><td>epoch/accuracy</td><td>0.89332</td></tr><tr><td>epoch/epoch</td><td>12</td></tr><tr><td>epoch/learning_rate</td><td>0.00929</td></tr><tr><td>epoch/loss</td><td>0.26057</td></tr><tr><td>epoch/val_accuracy</td><td>0.8277</td></tr><tr><td>epoch/val_loss</td><td>0.38461</td></tr><tr><td>val_accuracy</td><td>0.87844</td></tr></table><br/></div></div>"
            ]
          },
          "metadata": {}
        },
        {
          "output_type": "display_data",
          "data": {
            "text/plain": [
              "<IPython.core.display.HTML object>"
            ],
            "text/html": [
              " View run <strong style=\"color:#cdcd00\">solar-sweep-4</strong> at: <a href='https://wandb.ai/minigi/MuffinChihuahuas/runs/kfew9kcn' target=\"_blank\">https://wandb.ai/minigi/MuffinChihuahuas/runs/kfew9kcn</a><br/>Synced 5 W&B file(s), 0 media file(s), 0 artifact file(s) and 0 other file(s)"
            ]
          },
          "metadata": {}
        },
        {
          "output_type": "display_data",
          "data": {
            "text/plain": [
              "<IPython.core.display.HTML object>"
            ],
            "text/html": [
              "Find logs at: <code>./wandb/run-20230721_214406-kfew9kcn/logs</code>"
            ]
          },
          "metadata": {}
        },
        {
          "output_type": "stream",
          "name": "stderr",
          "text": [
            "\u001b[34m\u001b[1mwandb\u001b[0m: Agent Starting Run: 04ilmm26 with config:\n",
            "\u001b[34m\u001b[1mwandb\u001b[0m: \tbatch_size: 32\n",
            "\u001b[34m\u001b[1mwandb\u001b[0m: \tepochs: 50\n",
            "\u001b[34m\u001b[1mwandb\u001b[0m: \timage_size: 64\n",
            "\u001b[34m\u001b[1mwandb\u001b[0m: \tinit_learning_rate: 4.2218337943674565e-05\n",
            "\u001b[34m\u001b[1mwandb\u001b[0m: \tloss_fn: binary_crossentropy\n",
            "\u001b[34m\u001b[1mwandb\u001b[0m: \tmetrics: ['acc']\n",
            "\u001b[34m\u001b[1mwandb\u001b[0m: \toptimizer: adam\n"
          ]
        },
        {
          "output_type": "display_data",
          "data": {
            "text/plain": [
              "<IPython.core.display.HTML object>"
            ],
            "text/html": [
              "Tracking run with wandb version 0.15.5"
            ]
          },
          "metadata": {}
        },
        {
          "output_type": "display_data",
          "data": {
            "text/plain": [
              "<IPython.core.display.HTML object>"
            ],
            "text/html": [
              "Run data is saved locally in <code>/content/wandb/run-20230721_214551-04ilmm26</code>"
            ]
          },
          "metadata": {}
        },
        {
          "output_type": "display_data",
          "data": {
            "text/plain": [
              "<IPython.core.display.HTML object>"
            ],
            "text/html": [
              "Syncing run <strong><a href='https://wandb.ai/minigi/MuffinChihuahuas/runs/04ilmm26' target=\"_blank\">dainty-sweep-5</a></strong> to <a href='https://wandb.ai/minigi/MuffinChihuahuas' target=\"_blank\">Weights & Biases</a> (<a href='https://wandb.me/run' target=\"_blank\">docs</a>)<br/>Sweep page: <a href='https://wandb.ai/minigi/MuffinChihuahuas/sweeps/qiy27mo6' target=\"_blank\">https://wandb.ai/minigi/MuffinChihuahuas/sweeps/qiy27mo6</a>"
            ]
          },
          "metadata": {}
        },
        {
          "output_type": "display_data",
          "data": {
            "text/plain": [
              "<IPython.core.display.HTML object>"
            ],
            "text/html": [
              " View project at <a href='https://wandb.ai/minigi/MuffinChihuahuas' target=\"_blank\">https://wandb.ai/minigi/MuffinChihuahuas</a>"
            ]
          },
          "metadata": {}
        },
        {
          "output_type": "display_data",
          "data": {
            "text/plain": [
              "<IPython.core.display.HTML object>"
            ],
            "text/html": [
              " View sweep at <a href='https://wandb.ai/minigi/MuffinChihuahuas/sweeps/qiy27mo6' target=\"_blank\">https://wandb.ai/minigi/MuffinChihuahuas/sweeps/qiy27mo6</a>"
            ]
          },
          "metadata": {}
        },
        {
          "output_type": "display_data",
          "data": {
            "text/plain": [
              "<IPython.core.display.HTML object>"
            ],
            "text/html": [
              " View run at <a href='https://wandb.ai/minigi/MuffinChihuahuas/runs/04ilmm26' target=\"_blank\">https://wandb.ai/minigi/MuffinChihuahuas/runs/04ilmm26</a>"
            ]
          },
          "metadata": {}
        },
        {
          "output_type": "stream",
          "name": "stdout",
          "text": [
            "Epoch 1/50\n",
            "119/119 [==============================] - 14s 48ms/step - loss: 0.4940 - accuracy: 0.7713 - val_loss: 0.6918 - val_accuracy: 0.5433\n",
            "Epoch 2/50\n",
            "119/119 [==============================] - 6s 48ms/step - loss: 0.3794 - accuracy: 0.8363 - val_loss: 0.6928 - val_accuracy: 0.4651\n",
            "Epoch 3/50\n",
            "119/119 [==============================] - 6s 49ms/step - loss: 0.3240 - accuracy: 0.8643 - val_loss: 0.7009 - val_accuracy: 0.4567\n",
            "Epoch 4/50\n",
            "119/119 [==============================] - 6s 50ms/step - loss: 0.3192 - accuracy: 0.8706 - val_loss: 0.6951 - val_accuracy: 0.4662\n",
            "Epoch 5/50\n",
            "119/119 [==============================] - 6s 49ms/step - loss: 0.2905 - accuracy: 0.8791 - val_loss: 0.5949 - val_accuracy: 0.7336\n",
            "Epoch 6/50\n",
            "119/119 [==============================] - 6s 48ms/step - loss: 0.2697 - accuracy: 0.8899 - val_loss: 0.3247 - val_accuracy: 0.8837\n",
            "Epoch 7/50\n",
            "119/119 [==============================] - 6s 49ms/step - loss: 0.2638 - accuracy: 0.8941 - val_loss: 0.3048 - val_accuracy: 0.8837\n",
            "Epoch 8/50\n",
            "119/119 [==============================] - 6s 50ms/step - loss: 0.2591 - accuracy: 0.8920 - val_loss: 0.2791 - val_accuracy: 0.8911\n",
            "Epoch 9/50\n",
            "119/119 [==============================] - 6s 48ms/step - loss: 0.2415 - accuracy: 0.9007 - val_loss: 0.6172 - val_accuracy: 0.7558\n",
            "Epoch 10/50\n",
            "119/119 [==============================] - 6s 50ms/step - loss: 0.2361 - accuracy: 0.9036 - val_loss: 0.3285 - val_accuracy: 0.8668\n",
            "Epoch 11/50\n",
            "119/119 [==============================] - 6s 48ms/step - loss: 0.2225 - accuracy: 0.9113 - val_loss: 0.3794 - val_accuracy: 0.8457\n"
          ]
        },
        {
          "output_type": "display_data",
          "data": {
            "text/plain": [
              "<IPython.core.display.HTML object>"
            ],
            "text/html": [
              "Waiting for W&B process to finish... <strong style=\"color:green\">(success).</strong>"
            ]
          },
          "metadata": {}
        },
        {
          "output_type": "display_data",
          "data": {
            "text/plain": [
              "<IPython.core.display.HTML object>"
            ],
            "text/html": [
              "<style>\n",
              "    table.wandb td:nth-child(1) { padding: 0 10px; text-align: left ; width: auto;} td:nth-child(2) {text-align: left ; width: 100%}\n",
              "    .wandb-row { display: flex; flex-direction: row; flex-wrap: wrap; justify-content: flex-start; width: 100% }\n",
              "    .wandb-col { display: flex; flex-direction: column; flex-basis: 100%; flex: 1; padding: 10px; }\n",
              "    </style>\n",
              "<div class=\"wandb-row\"><div class=\"wandb-col\"><h3>Run history:</h3><br/><table class=\"wandb\"><tr><td>batch/accuracy</td><td>▁▃▄▅▆▆▆▆▆▇▇▆▇▇▇▇▇▇▇▇▇█▇▇██▇██▇▇█████████</td></tr><tr><td>batch/batch_step</td><td>▁▁▁▂▂▂▂▂▂▃▃▃▃▃▄▄▄▄▄▄▅▅▅▅▅▅▆▆▆▆▆▇▇▇▇▇▇███</td></tr><tr><td>batch/learning_rate</td><td>▁▁▁▁▁▁▁▁▁▁▁▁▁▁▁▁▁▁▁▁▁▁▁▁▁▁▁▁▁▁▁▁▁▁▁▁▁▁▁▁</td></tr><tr><td>batch/loss</td><td>█▇▆▆▄▄▄▄▃▃▃▃▃▃▃▃▂▂▃▂▂▂▂▂▂▂▂▂▂▂▂▁▁▁▁▁▁▁▁▁</td></tr><tr><td>epoch/accuracy</td><td>▁▄▆▆▆▇▇▇▇██</td></tr><tr><td>epoch/epoch</td><td>▁▂▂▃▄▅▅▆▇▇█</td></tr><tr><td>epoch/learning_rate</td><td>▁▁▁▁▁▁▁▁▁▁▁</td></tr><tr><td>epoch/loss</td><td>█▅▄▃▃▂▂▂▁▁▁</td></tr><tr><td>epoch/val_accuracy</td><td>▂▁▁▁▅███▆█▇</td></tr><tr><td>epoch/val_loss</td><td>████▆▂▁▁▇▂▃</td></tr><tr><td>val_accuracy</td><td>▁</td></tr></table><br/></div><div class=\"wandb-col\"><h3>Run summary:</h3><br/><table class=\"wandb\"><tr><td>batch/accuracy</td><td>0.91128</td></tr><tr><td>batch/batch_step</td><td>1318</td></tr><tr><td>batch/learning_rate</td><td>4e-05</td></tr><tr><td>batch/loss</td><td>0.22251</td></tr><tr><td>epoch/accuracy</td><td>0.91128</td></tr><tr><td>epoch/epoch</td><td>10</td></tr><tr><td>epoch/learning_rate</td><td>4e-05</td></tr><tr><td>epoch/loss</td><td>0.22251</td></tr><tr><td>epoch/val_accuracy</td><td>0.84567</td></tr><tr><td>epoch/val_loss</td><td>0.37936</td></tr><tr><td>val_accuracy</td><td>0.89112</td></tr></table><br/></div></div>"
            ]
          },
          "metadata": {}
        },
        {
          "output_type": "display_data",
          "data": {
            "text/plain": [
              "<IPython.core.display.HTML object>"
            ],
            "text/html": [
              " View run <strong style=\"color:#cdcd00\">dainty-sweep-5</strong> at: <a href='https://wandb.ai/minigi/MuffinChihuahuas/runs/04ilmm26' target=\"_blank\">https://wandb.ai/minigi/MuffinChihuahuas/runs/04ilmm26</a><br/>Synced 5 W&B file(s), 0 media file(s), 0 artifact file(s) and 0 other file(s)"
            ]
          },
          "metadata": {}
        },
        {
          "output_type": "display_data",
          "data": {
            "text/plain": [
              "<IPython.core.display.HTML object>"
            ],
            "text/html": [
              "Find logs at: <code>./wandb/run-20230721_214551-04ilmm26/logs</code>"
            ]
          },
          "metadata": {}
        },
        {
          "output_type": "stream",
          "name": "stderr",
          "text": [
            "\u001b[34m\u001b[1mwandb\u001b[0m: Agent Starting Run: g63hdjp4 with config:\n",
            "\u001b[34m\u001b[1mwandb\u001b[0m: \tbatch_size: 32\n",
            "\u001b[34m\u001b[1mwandb\u001b[0m: \tepochs: 50\n",
            "\u001b[34m\u001b[1mwandb\u001b[0m: \timage_size: 64\n",
            "\u001b[34m\u001b[1mwandb\u001b[0m: \tinit_learning_rate: 0.0005796465399161608\n",
            "\u001b[34m\u001b[1mwandb\u001b[0m: \tloss_fn: binary_crossentropy\n",
            "\u001b[34m\u001b[1mwandb\u001b[0m: \tmetrics: ['acc']\n",
            "\u001b[34m\u001b[1mwandb\u001b[0m: \toptimizer: adam\n"
          ]
        },
        {
          "output_type": "display_data",
          "data": {
            "text/plain": [
              "<IPython.core.display.HTML object>"
            ],
            "text/html": [
              "Tracking run with wandb version 0.15.5"
            ]
          },
          "metadata": {}
        },
        {
          "output_type": "display_data",
          "data": {
            "text/plain": [
              "<IPython.core.display.HTML object>"
            ],
            "text/html": [
              "Run data is saved locally in <code>/content/wandb/run-20230721_214726-g63hdjp4</code>"
            ]
          },
          "metadata": {}
        },
        {
          "output_type": "display_data",
          "data": {
            "text/plain": [
              "<IPython.core.display.HTML object>"
            ],
            "text/html": [
              "Syncing run <strong><a href='https://wandb.ai/minigi/MuffinChihuahuas/runs/g63hdjp4' target=\"_blank\">woven-sweep-6</a></strong> to <a href='https://wandb.ai/minigi/MuffinChihuahuas' target=\"_blank\">Weights & Biases</a> (<a href='https://wandb.me/run' target=\"_blank\">docs</a>)<br/>Sweep page: <a href='https://wandb.ai/minigi/MuffinChihuahuas/sweeps/qiy27mo6' target=\"_blank\">https://wandb.ai/minigi/MuffinChihuahuas/sweeps/qiy27mo6</a>"
            ]
          },
          "metadata": {}
        },
        {
          "output_type": "display_data",
          "data": {
            "text/plain": [
              "<IPython.core.display.HTML object>"
            ],
            "text/html": [
              " View project at <a href='https://wandb.ai/minigi/MuffinChihuahuas' target=\"_blank\">https://wandb.ai/minigi/MuffinChihuahuas</a>"
            ]
          },
          "metadata": {}
        },
        {
          "output_type": "display_data",
          "data": {
            "text/plain": [
              "<IPython.core.display.HTML object>"
            ],
            "text/html": [
              " View sweep at <a href='https://wandb.ai/minigi/MuffinChihuahuas/sweeps/qiy27mo6' target=\"_blank\">https://wandb.ai/minigi/MuffinChihuahuas/sweeps/qiy27mo6</a>"
            ]
          },
          "metadata": {}
        },
        {
          "output_type": "display_data",
          "data": {
            "text/plain": [
              "<IPython.core.display.HTML object>"
            ],
            "text/html": [
              " View run at <a href='https://wandb.ai/minigi/MuffinChihuahuas/runs/g63hdjp4' target=\"_blank\">https://wandb.ai/minigi/MuffinChihuahuas/runs/g63hdjp4</a>"
            ]
          },
          "metadata": {}
        },
        {
          "output_type": "stream",
          "name": "stdout",
          "text": [
            "Epoch 1/50\n",
            "119/119 [==============================] - 14s 48ms/step - loss: 0.4326 - accuracy: 0.8083 - val_loss: 0.6923 - val_accuracy: 0.5433\n",
            "Epoch 2/50\n",
            "119/119 [==============================] - 6s 48ms/step - loss: 0.3114 - accuracy: 0.8690 - val_loss: 0.7398 - val_accuracy: 0.5433\n",
            "Epoch 3/50\n",
            "119/119 [==============================] - 6s 50ms/step - loss: 0.2680 - accuracy: 0.8909 - val_loss: 0.9802 - val_accuracy: 0.5433\n",
            "Epoch 4/50\n",
            "119/119 [==============================] - 6s 49ms/step - loss: 0.2204 - accuracy: 0.9065 - val_loss: 1.5884 - val_accuracy: 0.5433\n",
            "Epoch 5/50\n",
            "119/119 [==============================] - 6s 49ms/step - loss: 0.2168 - accuracy: 0.9181 - val_loss: 0.9167 - val_accuracy: 0.5867\n",
            "Epoch 6/50\n",
            "119/119 [==============================] - 6s 49ms/step - loss: 0.1963 - accuracy: 0.9210 - val_loss: 0.3236 - val_accuracy: 0.8700\n",
            "Epoch 7/50\n",
            "119/119 [==============================] - 6s 49ms/step - loss: 0.1825 - accuracy: 0.9274 - val_loss: 0.2714 - val_accuracy: 0.8890\n",
            "Epoch 8/50\n",
            "119/119 [==============================] - 6s 50ms/step - loss: 0.1868 - accuracy: 0.9250 - val_loss: 0.2661 - val_accuracy: 0.8922\n",
            "Epoch 9/50\n",
            "119/119 [==============================] - 6s 48ms/step - loss: 0.1605 - accuracy: 0.9345 - val_loss: 0.4022 - val_accuracy: 0.8340\n",
            "Epoch 10/50\n",
            "119/119 [==============================] - 6s 50ms/step - loss: 0.1592 - accuracy: 0.9361 - val_loss: 0.5856 - val_accuracy: 0.7770\n",
            "Epoch 11/50\n",
            "119/119 [==============================] - 6s 48ms/step - loss: 0.1469 - accuracy: 0.9398 - val_loss: 0.2386 - val_accuracy: 0.9101\n",
            "Epoch 12/50\n",
            "119/119 [==============================] - 6s 50ms/step - loss: 0.1589 - accuracy: 0.9358 - val_loss: 0.2962 - val_accuracy: 0.8795\n",
            "Epoch 13/50\n",
            "119/119 [==============================] - 6s 50ms/step - loss: 0.1273 - accuracy: 0.9482 - val_loss: 0.3500 - val_accuracy: 0.8753\n",
            "Epoch 14/50\n",
            "119/119 [==============================] - 6s 49ms/step - loss: 0.1288 - accuracy: 0.9459 - val_loss: 0.4328 - val_accuracy: 0.8457\n"
          ]
        },
        {
          "output_type": "display_data",
          "data": {
            "text/plain": [
              "<IPython.core.display.HTML object>"
            ],
            "text/html": [
              "Waiting for W&B process to finish... <strong style=\"color:green\">(success).</strong>"
            ]
          },
          "metadata": {}
        },
        {
          "output_type": "display_data",
          "data": {
            "text/plain": [
              "VBox(children=(Label(value='0.002 MB of 0.002 MB uploaded (0.000 MB deduped)\\r'), FloatProgress(value=1.0, max…"
            ],
            "application/vnd.jupyter.widget-view+json": {
              "version_major": 2,
              "version_minor": 0,
              "model_id": "455eb0b98ccb4b60911a052e43f15d32"
            }
          },
          "metadata": {}
        },
        {
          "output_type": "display_data",
          "data": {
            "text/plain": [
              "<IPython.core.display.HTML object>"
            ],
            "text/html": [
              "<style>\n",
              "    table.wandb td:nth-child(1) { padding: 0 10px; text-align: left ; width: auto;} td:nth-child(2) {text-align: left ; width: 100%}\n",
              "    .wandb-row { display: flex; flex-direction: row; flex-wrap: wrap; justify-content: flex-start; width: 100% }\n",
              "    .wandb-col { display: flex; flex-direction: column; flex-basis: 100%; flex: 1; padding: 10px; }\n",
              "    </style>\n",
              "<div class=\"wandb-row\"><div class=\"wandb-col\"><h3>Run history:</h3><br/><table class=\"wandb\"><tr><td>batch/accuracy</td><td>▁▃▄▅▆▆▆▆▆▆▇▇▇▇▇▇▇▇▇▇▇▇▇█▇▇▇▇▇▇▇█▇▇▇█████</td></tr><tr><td>batch/batch_step</td><td>▁▁▁▂▂▂▂▂▂▃▃▃▃▃▃▄▄▄▄▄▅▅▅▅▅▅▆▆▆▆▆▇▇▇▇▇▇███</td></tr><tr><td>batch/learning_rate</td><td>▁▁▁▁▁▁▁▁▁▁▁▁▁▁▁▁▁▁▁▁▁▁▁▁▁▁▁▁▁▁▁▁▁▁▁▁▁▁▁▁</td></tr><tr><td>batch/loss</td><td>█▆▅▄▄▄▄▃▃▃▂▂▂▂▂▂▂▂▂▂▂▂▂▂▂▂▂▂▂▂▂▁▂▂▂▁▁▁▁▁</td></tr><tr><td>epoch/accuracy</td><td>▁▄▅▆▆▇▇▇▇▇█▇██</td></tr><tr><td>epoch/epoch</td><td>▁▂▂▃▃▄▄▅▅▆▆▇▇█</td></tr><tr><td>epoch/learning_rate</td><td>▁▁▁▁▁▁▁▁▁▁▁▁▁▁</td></tr><tr><td>epoch/loss</td><td>█▅▄▃▃▃▂▂▂▂▁▂▁▁</td></tr><tr><td>epoch/val_accuracy</td><td>▁▁▁▁▂▇██▇▅█▇▇▇</td></tr><tr><td>epoch/val_loss</td><td>▃▄▅█▅▁▁▁▂▃▁▁▂▂</td></tr><tr><td>val_accuracy</td><td>▁</td></tr></table><br/></div><div class=\"wandb-col\"><h3>Run summary:</h3><br/><table class=\"wandb\"><tr><td>batch/accuracy</td><td>0.94587</td></tr><tr><td>batch/batch_step</td><td>1678</td></tr><tr><td>batch/learning_rate</td><td>0.00058</td></tr><tr><td>batch/loss</td><td>0.12882</td></tr><tr><td>epoch/accuracy</td><td>0.94587</td></tr><tr><td>epoch/epoch</td><td>13</td></tr><tr><td>epoch/learning_rate</td><td>0.00058</td></tr><tr><td>epoch/loss</td><td>0.12882</td></tr><tr><td>epoch/val_accuracy</td><td>0.84567</td></tr><tr><td>epoch/val_loss</td><td>0.43275</td></tr><tr><td>val_accuracy</td><td>0.91015</td></tr></table><br/></div></div>"
            ]
          },
          "metadata": {}
        },
        {
          "output_type": "display_data",
          "data": {
            "text/plain": [
              "<IPython.core.display.HTML object>"
            ],
            "text/html": [
              " View run <strong style=\"color:#cdcd00\">woven-sweep-6</strong> at: <a href='https://wandb.ai/minigi/MuffinChihuahuas/runs/g63hdjp4' target=\"_blank\">https://wandb.ai/minigi/MuffinChihuahuas/runs/g63hdjp4</a><br/>Synced 5 W&B file(s), 0 media file(s), 0 artifact file(s) and 0 other file(s)"
            ]
          },
          "metadata": {}
        },
        {
          "output_type": "display_data",
          "data": {
            "text/plain": [
              "<IPython.core.display.HTML object>"
            ],
            "text/html": [
              "Find logs at: <code>./wandb/run-20230721_214726-g63hdjp4/logs</code>"
            ]
          },
          "metadata": {}
        },
        {
          "output_type": "stream",
          "name": "stderr",
          "text": [
            "\u001b[34m\u001b[1mwandb\u001b[0m: Agent Starting Run: e9v6fgjq with config:\n",
            "\u001b[34m\u001b[1mwandb\u001b[0m: \tbatch_size: 32\n",
            "\u001b[34m\u001b[1mwandb\u001b[0m: \tepochs: 50\n",
            "\u001b[34m\u001b[1mwandb\u001b[0m: \timage_size: 64\n",
            "\u001b[34m\u001b[1mwandb\u001b[0m: \tinit_learning_rate: 0.0034208520484870913\n",
            "\u001b[34m\u001b[1mwandb\u001b[0m: \tloss_fn: binary_crossentropy\n",
            "\u001b[34m\u001b[1mwandb\u001b[0m: \tmetrics: ['acc']\n",
            "\u001b[34m\u001b[1mwandb\u001b[0m: \toptimizer: adam\n"
          ]
        },
        {
          "output_type": "display_data",
          "data": {
            "text/plain": [
              "<IPython.core.display.HTML object>"
            ],
            "text/html": [
              "Tracking run with wandb version 0.15.5"
            ]
          },
          "metadata": {}
        },
        {
          "output_type": "display_data",
          "data": {
            "text/plain": [
              "<IPython.core.display.HTML object>"
            ],
            "text/html": [
              "Run data is saved locally in <code>/content/wandb/run-20230721_214918-e9v6fgjq</code>"
            ]
          },
          "metadata": {}
        },
        {
          "output_type": "display_data",
          "data": {
            "text/plain": [
              "<IPython.core.display.HTML object>"
            ],
            "text/html": [
              "Syncing run <strong><a href='https://wandb.ai/minigi/MuffinChihuahuas/runs/e9v6fgjq' target=\"_blank\">glorious-sweep-7</a></strong> to <a href='https://wandb.ai/minigi/MuffinChihuahuas' target=\"_blank\">Weights & Biases</a> (<a href='https://wandb.me/run' target=\"_blank\">docs</a>)<br/>Sweep page: <a href='https://wandb.ai/minigi/MuffinChihuahuas/sweeps/qiy27mo6' target=\"_blank\">https://wandb.ai/minigi/MuffinChihuahuas/sweeps/qiy27mo6</a>"
            ]
          },
          "metadata": {}
        },
        {
          "output_type": "display_data",
          "data": {
            "text/plain": [
              "<IPython.core.display.HTML object>"
            ],
            "text/html": [
              " View project at <a href='https://wandb.ai/minigi/MuffinChihuahuas' target=\"_blank\">https://wandb.ai/minigi/MuffinChihuahuas</a>"
            ]
          },
          "metadata": {}
        },
        {
          "output_type": "display_data",
          "data": {
            "text/plain": [
              "<IPython.core.display.HTML object>"
            ],
            "text/html": [
              " View sweep at <a href='https://wandb.ai/minigi/MuffinChihuahuas/sweeps/qiy27mo6' target=\"_blank\">https://wandb.ai/minigi/MuffinChihuahuas/sweeps/qiy27mo6</a>"
            ]
          },
          "metadata": {}
        },
        {
          "output_type": "display_data",
          "data": {
            "text/plain": [
              "<IPython.core.display.HTML object>"
            ],
            "text/html": [
              " View run at <a href='https://wandb.ai/minigi/MuffinChihuahuas/runs/e9v6fgjq' target=\"_blank\">https://wandb.ai/minigi/MuffinChihuahuas/runs/e9v6fgjq</a>"
            ]
          },
          "metadata": {}
        },
        {
          "output_type": "stream",
          "name": "stdout",
          "text": [
            "Epoch 1/50\n",
            "119/119 [==============================] - 15s 47ms/step - loss: 0.5232 - accuracy: 0.7932 - val_loss: 1.8890 - val_accuracy: 0.5433\n",
            "Epoch 2/50\n",
            "119/119 [==============================] - 6s 49ms/step - loss: 0.3671 - accuracy: 0.8482 - val_loss: 2.5748 - val_accuracy: 0.5433\n",
            "Epoch 3/50\n",
            "119/119 [==============================] - 6s 50ms/step - loss: 0.3348 - accuracy: 0.8714 - val_loss: 1.7803 - val_accuracy: 0.5455\n",
            "Epoch 4/50\n",
            "119/119 [==============================] - 6s 49ms/step - loss: 0.3179 - accuracy: 0.8769 - val_loss: 0.3521 - val_accuracy: 0.8679\n",
            "Epoch 5/50\n",
            "119/119 [==============================] - 6s 50ms/step - loss: 0.3164 - accuracy: 0.8759 - val_loss: 1.1651 - val_accuracy: 0.5465\n",
            "Epoch 6/50\n",
            "119/119 [==============================] - 6s 48ms/step - loss: 0.2865 - accuracy: 0.8822 - val_loss: 0.3197 - val_accuracy: 0.8922\n",
            "Epoch 7/50\n",
            "119/119 [==============================] - 6s 49ms/step - loss: 0.2759 - accuracy: 0.8872 - val_loss: 0.4564 - val_accuracy: 0.8118\n",
            "Epoch 8/50\n",
            "119/119 [==============================] - 6s 49ms/step - loss: 0.2786 - accuracy: 0.8880 - val_loss: 0.3862 - val_accuracy: 0.8245\n",
            "Epoch 9/50\n",
            "119/119 [==============================] - 6s 49ms/step - loss: 0.2613 - accuracy: 0.8912 - val_loss: 0.4598 - val_accuracy: 0.7759\n"
          ]
        },
        {
          "output_type": "display_data",
          "data": {
            "text/plain": [
              "<IPython.core.display.HTML object>"
            ],
            "text/html": [
              "Waiting for W&B process to finish... <strong style=\"color:green\">(success).</strong>"
            ]
          },
          "metadata": {}
        },
        {
          "output_type": "display_data",
          "data": {
            "text/plain": [
              "VBox(children=(Label(value='0.002 MB of 0.002 MB uploaded (0.000 MB deduped)\\r'), FloatProgress(value=1.0, max…"
            ],
            "application/vnd.jupyter.widget-view+json": {
              "version_major": 2,
              "version_minor": 0,
              "model_id": "088a6e9fe63448a58d1a33131174d585"
            }
          },
          "metadata": {}
        },
        {
          "output_type": "display_data",
          "data": {
            "text/plain": [
              "<IPython.core.display.HTML object>"
            ],
            "text/html": [
              "<style>\n",
              "    table.wandb td:nth-child(1) { padding: 0 10px; text-align: left ; width: auto;} td:nth-child(2) {text-align: left ; width: 100%}\n",
              "    .wandb-row { display: flex; flex-direction: row; flex-wrap: wrap; justify-content: flex-start; width: 100% }\n",
              "    .wandb-col { display: flex; flex-direction: column; flex-basis: 100%; flex: 1; padding: 10px; }\n",
              "    </style>\n",
              "<div class=\"wandb-row\"><div class=\"wandb-col\"><h3>Run history:</h3><br/><table class=\"wandb\"><tr><td>batch/accuracy</td><td>▁▃▄▅▅▆▆▆▇▇▇▇▇▇▇████▇███████▇████████▇███</td></tr><tr><td>batch/batch_step</td><td>▁▁▁▂▂▂▂▂▂▃▃▃▃▃▃▄▄▄▄▄▅▅▅▅▅▅▆▆▆▆▆▇▇▇▇▇▇███</td></tr><tr><td>batch/learning_rate</td><td>▁▁▁▁▁▁▁▁▁▁▁▁▁▁▁▁▁▁▁▁▁▁▁▁▁▁▁▁▁▁▁▁▁▁▁▁▁▁▁▁</td></tr><tr><td>batch/loss</td><td>█▅▄▄▃▂▂▂▂▂▁▂▂▂▂▂▁▁▂▂▂▁▁▁▁▁▁▁▁▁▁▁▁▁▁▁▁▁▁▁</td></tr><tr><td>epoch/accuracy</td><td>▁▅▇▇▇▇███</td></tr><tr><td>epoch/epoch</td><td>▁▂▃▄▅▅▆▇█</td></tr><tr><td>epoch/learning_rate</td><td>▁▁▁▁▁▁▁▁▁</td></tr><tr><td>epoch/loss</td><td>█▄▃▃▂▂▁▁▁</td></tr><tr><td>epoch/val_accuracy</td><td>▁▁▁█▁█▆▇▆</td></tr><tr><td>epoch/val_loss</td><td>▆█▆▁▄▁▁▁▁</td></tr><tr><td>val_accuracy</td><td>▁</td></tr></table><br/></div><div class=\"wandb-col\"><h3>Run summary:</h3><br/><table class=\"wandb\"><tr><td>batch/accuracy</td><td>0.89121</td></tr><tr><td>batch/batch_step</td><td>1078</td></tr><tr><td>batch/learning_rate</td><td>0.00342</td></tr><tr><td>batch/loss</td><td>0.26133</td></tr><tr><td>epoch/accuracy</td><td>0.89121</td></tr><tr><td>epoch/epoch</td><td>8</td></tr><tr><td>epoch/learning_rate</td><td>0.00342</td></tr><tr><td>epoch/loss</td><td>0.26133</td></tr><tr><td>epoch/val_accuracy</td><td>0.7759</td></tr><tr><td>epoch/val_loss</td><td>0.45979</td></tr><tr><td>val_accuracy</td><td>0.89218</td></tr></table><br/></div></div>"
            ]
          },
          "metadata": {}
        },
        {
          "output_type": "display_data",
          "data": {
            "text/plain": [
              "<IPython.core.display.HTML object>"
            ],
            "text/html": [
              " View run <strong style=\"color:#cdcd00\">glorious-sweep-7</strong> at: <a href='https://wandb.ai/minigi/MuffinChihuahuas/runs/e9v6fgjq' target=\"_blank\">https://wandb.ai/minigi/MuffinChihuahuas/runs/e9v6fgjq</a><br/>Synced 5 W&B file(s), 0 media file(s), 0 artifact file(s) and 0 other file(s)"
            ]
          },
          "metadata": {}
        },
        {
          "output_type": "display_data",
          "data": {
            "text/plain": [
              "<IPython.core.display.HTML object>"
            ],
            "text/html": [
              "Find logs at: <code>./wandb/run-20230721_214918-e9v6fgjq/logs</code>"
            ]
          },
          "metadata": {}
        },
        {
          "output_type": "stream",
          "name": "stderr",
          "text": [
            "\u001b[34m\u001b[1mwandb\u001b[0m: Agent Starting Run: bktd4dhc with config:\n",
            "\u001b[34m\u001b[1mwandb\u001b[0m: \tbatch_size: 32\n",
            "\u001b[34m\u001b[1mwandb\u001b[0m: \tepochs: 50\n",
            "\u001b[34m\u001b[1mwandb\u001b[0m: \timage_size: 64\n",
            "\u001b[34m\u001b[1mwandb\u001b[0m: \tinit_learning_rate: 0.007634255600727834\n",
            "\u001b[34m\u001b[1mwandb\u001b[0m: \tloss_fn: binary_crossentropy\n",
            "\u001b[34m\u001b[1mwandb\u001b[0m: \tmetrics: ['acc']\n",
            "\u001b[34m\u001b[1mwandb\u001b[0m: \toptimizer: adam\n"
          ]
        },
        {
          "output_type": "display_data",
          "data": {
            "text/plain": [
              "<IPython.core.display.HTML object>"
            ],
            "text/html": [
              "Tracking run with wandb version 0.15.5"
            ]
          },
          "metadata": {}
        },
        {
          "output_type": "display_data",
          "data": {
            "text/plain": [
              "<IPython.core.display.HTML object>"
            ],
            "text/html": [
              "Run data is saved locally in <code>/content/wandb/run-20230721_215043-bktd4dhc</code>"
            ]
          },
          "metadata": {}
        },
        {
          "output_type": "display_data",
          "data": {
            "text/plain": [
              "<IPython.core.display.HTML object>"
            ],
            "text/html": [
              "Syncing run <strong><a href='https://wandb.ai/minigi/MuffinChihuahuas/runs/bktd4dhc' target=\"_blank\">ethereal-sweep-8</a></strong> to <a href='https://wandb.ai/minigi/MuffinChihuahuas' target=\"_blank\">Weights & Biases</a> (<a href='https://wandb.me/run' target=\"_blank\">docs</a>)<br/>Sweep page: <a href='https://wandb.ai/minigi/MuffinChihuahuas/sweeps/qiy27mo6' target=\"_blank\">https://wandb.ai/minigi/MuffinChihuahuas/sweeps/qiy27mo6</a>"
            ]
          },
          "metadata": {}
        },
        {
          "output_type": "display_data",
          "data": {
            "text/plain": [
              "<IPython.core.display.HTML object>"
            ],
            "text/html": [
              " View project at <a href='https://wandb.ai/minigi/MuffinChihuahuas' target=\"_blank\">https://wandb.ai/minigi/MuffinChihuahuas</a>"
            ]
          },
          "metadata": {}
        },
        {
          "output_type": "display_data",
          "data": {
            "text/plain": [
              "<IPython.core.display.HTML object>"
            ],
            "text/html": [
              " View sweep at <a href='https://wandb.ai/minigi/MuffinChihuahuas/sweeps/qiy27mo6' target=\"_blank\">https://wandb.ai/minigi/MuffinChihuahuas/sweeps/qiy27mo6</a>"
            ]
          },
          "metadata": {}
        },
        {
          "output_type": "display_data",
          "data": {
            "text/plain": [
              "<IPython.core.display.HTML object>"
            ],
            "text/html": [
              " View run at <a href='https://wandb.ai/minigi/MuffinChihuahuas/runs/bktd4dhc' target=\"_blank\">https://wandb.ai/minigi/MuffinChihuahuas/runs/bktd4dhc</a>"
            ]
          },
          "metadata": {}
        },
        {
          "output_type": "stream",
          "name": "stdout",
          "text": [
            "Epoch 1/50\n",
            "119/119 [==============================] - 14s 46ms/step - loss: 0.6708 - accuracy: 0.7066 - val_loss: 0.9790 - val_accuracy: 0.6459\n",
            "Epoch 2/50\n",
            "119/119 [==============================] - 6s 50ms/step - loss: 0.4693 - accuracy: 0.7967 - val_loss: 1.1541 - val_accuracy: 0.5507\n",
            "Epoch 3/50\n",
            "119/119 [==============================] - 6s 48ms/step - loss: 0.4211 - accuracy: 0.8239 - val_loss: 2.2801 - val_accuracy: 0.5433\n",
            "Epoch 4/50\n",
            "119/119 [==============================] - 6s 50ms/step - loss: 0.3758 - accuracy: 0.8442 - val_loss: 1.3285 - val_accuracy: 0.5698\n",
            "Epoch 5/50\n",
            "119/119 [==============================] - 6s 49ms/step - loss: 0.3628 - accuracy: 0.8548 - val_loss: 0.8249 - val_accuracy: 0.6374\n",
            "Epoch 6/50\n",
            "119/119 [==============================] - 6s 48ms/step - loss: 0.3683 - accuracy: 0.8550 - val_loss: 0.7815 - val_accuracy: 0.6427\n",
            "Epoch 7/50\n",
            "119/119 [==============================] - 6s 49ms/step - loss: 0.3025 - accuracy: 0.8799 - val_loss: 0.7046 - val_accuracy: 0.6290\n",
            "Epoch 8/50\n",
            "119/119 [==============================] - 6s 48ms/step - loss: 0.3043 - accuracy: 0.8822 - val_loss: 0.5458 - val_accuracy: 0.7748\n",
            "Epoch 9/50\n",
            "119/119 [==============================] - 6s 50ms/step - loss: 0.2955 - accuracy: 0.8825 - val_loss: 0.5645 - val_accuracy: 0.7452\n",
            "Epoch 10/50\n",
            "119/119 [==============================] - 6s 48ms/step - loss: 0.2675 - accuracy: 0.8912 - val_loss: 0.5038 - val_accuracy: 0.8140\n",
            "Epoch 11/50\n",
            "119/119 [==============================] - 6s 50ms/step - loss: 0.2745 - accuracy: 0.8896 - val_loss: 0.3088 - val_accuracy: 0.8827\n",
            "Epoch 12/50\n",
            "119/119 [==============================] - 6s 48ms/step - loss: 0.2536 - accuracy: 0.8997 - val_loss: 0.5599 - val_accuracy: 0.7791\n",
            "Epoch 13/50\n",
            "119/119 [==============================] - 6s 49ms/step - loss: 0.2590 - accuracy: 0.8936 - val_loss: 0.3546 - val_accuracy: 0.8404\n",
            "Epoch 14/50\n",
            "119/119 [==============================] - 6s 48ms/step - loss: 0.2446 - accuracy: 0.9034 - val_loss: 1.3800 - val_accuracy: 0.6237\n"
          ]
        },
        {
          "output_type": "display_data",
          "data": {
            "text/plain": [
              "<IPython.core.display.HTML object>"
            ],
            "text/html": [
              "Waiting for W&B process to finish... <strong style=\"color:green\">(success).</strong>"
            ]
          },
          "metadata": {}
        },
        {
          "output_type": "display_data",
          "data": {
            "text/plain": [
              "VBox(children=(Label(value='0.002 MB of 0.002 MB uploaded (0.000 MB deduped)\\r'), FloatProgress(value=1.0, max…"
            ],
            "application/vnd.jupyter.widget-view+json": {
              "version_major": 2,
              "version_minor": 0,
              "model_id": "5454bfc69acf4cd6a564f4862549d99f"
            }
          },
          "metadata": {}
        },
        {
          "output_type": "display_data",
          "data": {
            "text/plain": [
              "<IPython.core.display.HTML object>"
            ],
            "text/html": [
              "<style>\n",
              "    table.wandb td:nth-child(1) { padding: 0 10px; text-align: left ; width: auto;} td:nth-child(2) {text-align: left ; width: 100%}\n",
              "    .wandb-row { display: flex; flex-direction: row; flex-wrap: wrap; justify-content: flex-start; width: 100% }\n",
              "    .wandb-col { display: flex; flex-direction: column; flex-basis: 100%; flex: 1; padding: 10px; }\n",
              "    </style>\n",
              "<div class=\"wandb-row\"><div class=\"wandb-col\"><h3>Run history:</h3><br/><table class=\"wandb\"><tr><td>batch/accuracy</td><td>▁▂▄▅▆▆▆▆▆▇▇▇▇▇▆▇▇▇██▇▇████████████▇█████</td></tr><tr><td>batch/batch_step</td><td>▁▁▁▂▂▂▂▂▂▃▃▃▃▃▃▄▄▄▄▄▅▅▅▅▅▅▆▆▆▆▆▇▇▇▇▇▇███</td></tr><tr><td>batch/learning_rate</td><td>▁▁▁▁▁▁▁▁▁▁▁▁▁▁▁▁▁▁▁▁▁▁▁▁▁▁▁▁▁▁▁▁▁▁▁▁▁▁▁▁</td></tr><tr><td>batch/loss</td><td>█▆▅▃▃▃▃▃▂▂▂▂▂▂▂▂▂▂▂▁▂▂▂▁▁▁▁▁▁▁▁▁▁▁▁▁▁▁▁▁</td></tr><tr><td>epoch/accuracy</td><td>▁▄▅▆▆▆▇▇▇█████</td></tr><tr><td>epoch/epoch</td><td>▁▂▂▃▃▄▄▅▅▆▆▇▇█</td></tr><tr><td>epoch/learning_rate</td><td>▁▁▁▁▁▁▁▁▁▁▁▁▁▁</td></tr><tr><td>epoch/loss</td><td>█▅▄▃▃▃▂▂▂▁▁▁▁▁</td></tr><tr><td>epoch/val_accuracy</td><td>▃▁▁▂▃▃▃▆▅▇█▆▇▃</td></tr><tr><td>epoch/val_loss</td><td>▃▄█▅▃▃▂▂▂▂▁▂▁▅</td></tr><tr><td>val_accuracy</td><td>▁</td></tr></table><br/></div><div class=\"wandb-col\"><h3>Run summary:</h3><br/><table class=\"wandb\"><tr><td>batch/accuracy</td><td>0.90335</td></tr><tr><td>batch/batch_step</td><td>1678</td></tr><tr><td>batch/learning_rate</td><td>0.00763</td></tr><tr><td>batch/loss</td><td>0.24461</td></tr><tr><td>epoch/accuracy</td><td>0.90335</td></tr><tr><td>epoch/epoch</td><td>13</td></tr><tr><td>epoch/learning_rate</td><td>0.00763</td></tr><tr><td>epoch/loss</td><td>0.24461</td></tr><tr><td>epoch/val_accuracy</td><td>0.62368</td></tr><tr><td>epoch/val_loss</td><td>1.38001</td></tr><tr><td>val_accuracy</td><td>0.88266</td></tr></table><br/></div></div>"
            ]
          },
          "metadata": {}
        },
        {
          "output_type": "display_data",
          "data": {
            "text/plain": [
              "<IPython.core.display.HTML object>"
            ],
            "text/html": [
              " View run <strong style=\"color:#cdcd00\">ethereal-sweep-8</strong> at: <a href='https://wandb.ai/minigi/MuffinChihuahuas/runs/bktd4dhc' target=\"_blank\">https://wandb.ai/minigi/MuffinChihuahuas/runs/bktd4dhc</a><br/>Synced 5 W&B file(s), 0 media file(s), 0 artifact file(s) and 0 other file(s)"
            ]
          },
          "metadata": {}
        },
        {
          "output_type": "display_data",
          "data": {
            "text/plain": [
              "<IPython.core.display.HTML object>"
            ],
            "text/html": [
              "Find logs at: <code>./wandb/run-20230721_215043-bktd4dhc/logs</code>"
            ]
          },
          "metadata": {}
        },
        {
          "output_type": "stream",
          "name": "stderr",
          "text": [
            "\u001b[34m\u001b[1mwandb\u001b[0m: Sweep Agent: Waiting for job.\n",
            "\u001b[34m\u001b[1mwandb\u001b[0m: Job received.\n",
            "\u001b[34m\u001b[1mwandb\u001b[0m: Agent Starting Run: 24kdqdqa with config:\n",
            "\u001b[34m\u001b[1mwandb\u001b[0m: \tbatch_size: 32\n",
            "\u001b[34m\u001b[1mwandb\u001b[0m: \tepochs: 50\n",
            "\u001b[34m\u001b[1mwandb\u001b[0m: \timage_size: 64\n",
            "\u001b[34m\u001b[1mwandb\u001b[0m: \tinit_learning_rate: 0.00012996918000376405\n",
            "\u001b[34m\u001b[1mwandb\u001b[0m: \tloss_fn: binary_crossentropy\n",
            "\u001b[34m\u001b[1mwandb\u001b[0m: \tmetrics: ['acc']\n",
            "\u001b[34m\u001b[1mwandb\u001b[0m: \toptimizer: adam\n"
          ]
        },
        {
          "output_type": "display_data",
          "data": {
            "text/plain": [
              "<IPython.core.display.HTML object>"
            ],
            "text/html": [
              "Tracking run with wandb version 0.15.5"
            ]
          },
          "metadata": {}
        },
        {
          "output_type": "display_data",
          "data": {
            "text/plain": [
              "<IPython.core.display.HTML object>"
            ],
            "text/html": [
              "Run data is saved locally in <code>/content/wandb/run-20230721_215244-24kdqdqa</code>"
            ]
          },
          "metadata": {}
        },
        {
          "output_type": "display_data",
          "data": {
            "text/plain": [
              "<IPython.core.display.HTML object>"
            ],
            "text/html": [
              "Syncing run <strong><a href='https://wandb.ai/minigi/MuffinChihuahuas/runs/24kdqdqa' target=\"_blank\">playful-sweep-9</a></strong> to <a href='https://wandb.ai/minigi/MuffinChihuahuas' target=\"_blank\">Weights & Biases</a> (<a href='https://wandb.me/run' target=\"_blank\">docs</a>)<br/>Sweep page: <a href='https://wandb.ai/minigi/MuffinChihuahuas/sweeps/qiy27mo6' target=\"_blank\">https://wandb.ai/minigi/MuffinChihuahuas/sweeps/qiy27mo6</a>"
            ]
          },
          "metadata": {}
        },
        {
          "output_type": "display_data",
          "data": {
            "text/plain": [
              "<IPython.core.display.HTML object>"
            ],
            "text/html": [
              " View project at <a href='https://wandb.ai/minigi/MuffinChihuahuas' target=\"_blank\">https://wandb.ai/minigi/MuffinChihuahuas</a>"
            ]
          },
          "metadata": {}
        },
        {
          "output_type": "display_data",
          "data": {
            "text/plain": [
              "<IPython.core.display.HTML object>"
            ],
            "text/html": [
              " View sweep at <a href='https://wandb.ai/minigi/MuffinChihuahuas/sweeps/qiy27mo6' target=\"_blank\">https://wandb.ai/minigi/MuffinChihuahuas/sweeps/qiy27mo6</a>"
            ]
          },
          "metadata": {}
        },
        {
          "output_type": "display_data",
          "data": {
            "text/plain": [
              "<IPython.core.display.HTML object>"
            ],
            "text/html": [
              " View run at <a href='https://wandb.ai/minigi/MuffinChihuahuas/runs/24kdqdqa' target=\"_blank\">https://wandb.ai/minigi/MuffinChihuahuas/runs/24kdqdqa</a>"
            ]
          },
          "metadata": {}
        },
        {
          "output_type": "stream",
          "name": "stdout",
          "text": [
            "Epoch 1/50\n",
            "119/119 [==============================] - 14s 46ms/step - loss: 0.4344 - accuracy: 0.8035 - val_loss: 0.6894 - val_accuracy: 0.5433\n",
            "Epoch 2/50\n",
            "119/119 [==============================] - 6s 49ms/step - loss: 0.3404 - accuracy: 0.8582 - val_loss: 0.6906 - val_accuracy: 0.5433\n",
            "Epoch 3/50\n",
            "119/119 [==============================] - 6s 48ms/step - loss: 0.2882 - accuracy: 0.8849 - val_loss: 0.6942 - val_accuracy: 0.5433\n",
            "Epoch 4/50\n",
            "119/119 [==============================] - 6s 49ms/step - loss: 0.2723 - accuracy: 0.8883 - val_loss: 0.7012 - val_accuracy: 0.5433\n",
            "Epoch 5/50\n",
            "119/119 [==============================] - 6s 48ms/step - loss: 0.2544 - accuracy: 0.8997 - val_loss: 0.7840 - val_accuracy: 0.5433\n",
            "Epoch 6/50\n",
            "119/119 [==============================] - 6s 48ms/step - loss: 0.2242 - accuracy: 0.9055 - val_loss: 0.3334 - val_accuracy: 0.8573\n",
            "Epoch 7/50\n",
            "119/119 [==============================] - 6s 50ms/step - loss: 0.2221 - accuracy: 0.9068 - val_loss: 0.2370 - val_accuracy: 0.9091\n",
            "Epoch 8/50\n",
            "119/119 [==============================] - 6s 49ms/step - loss: 0.2053 - accuracy: 0.9200 - val_loss: 0.2697 - val_accuracy: 0.8827\n",
            "Epoch 9/50\n",
            "119/119 [==============================] - 6s 50ms/step - loss: 0.2054 - accuracy: 0.9126 - val_loss: 0.2130 - val_accuracy: 0.9154\n",
            "Epoch 10/50\n",
            "119/119 [==============================] - 6s 48ms/step - loss: 0.1826 - accuracy: 0.9261 - val_loss: 0.2005 - val_accuracy: 0.9281\n",
            "Epoch 11/50\n",
            "119/119 [==============================] - 6s 50ms/step - loss: 0.1712 - accuracy: 0.9303 - val_loss: 0.2212 - val_accuracy: 0.9027\n",
            "Epoch 12/50\n",
            "119/119 [==============================] - 6s 48ms/step - loss: 0.1522 - accuracy: 0.9419 - val_loss: 0.2815 - val_accuracy: 0.8848\n",
            "Epoch 13/50\n",
            "119/119 [==============================] - 6s 49ms/step - loss: 0.1467 - accuracy: 0.9440 - val_loss: 0.1735 - val_accuracy: 0.9366\n",
            "Epoch 14/50\n",
            "119/119 [==============================] - 6s 49ms/step - loss: 0.1335 - accuracy: 0.9461 - val_loss: 0.2156 - val_accuracy: 0.9165\n",
            "Epoch 15/50\n",
            "119/119 [==============================] - 6s 49ms/step - loss: 0.1159 - accuracy: 0.9525 - val_loss: 0.4046 - val_accuracy: 0.8573\n",
            "Epoch 16/50\n",
            "119/119 [==============================] - 6s 49ms/step - loss: 0.1295 - accuracy: 0.9459 - val_loss: 0.1733 - val_accuracy: 0.9271\n"
          ]
        },
        {
          "output_type": "display_data",
          "data": {
            "text/plain": [
              "<IPython.core.display.HTML object>"
            ],
            "text/html": [
              "Waiting for W&B process to finish... <strong style=\"color:green\">(success).</strong>"
            ]
          },
          "metadata": {}
        },
        {
          "output_type": "display_data",
          "data": {
            "text/plain": [
              "VBox(children=(Label(value='0.002 MB of 0.002 MB uploaded (0.000 MB deduped)\\r'), FloatProgress(value=1.0, max…"
            ],
            "application/vnd.jupyter.widget-view+json": {
              "version_major": 2,
              "version_minor": 0,
              "model_id": "716e75a2a4e1428caae2e54601c0290b"
            }
          },
          "metadata": {}
        },
        {
          "output_type": "display_data",
          "data": {
            "text/plain": [
              "<IPython.core.display.HTML object>"
            ],
            "text/html": [
              "<style>\n",
              "    table.wandb td:nth-child(1) { padding: 0 10px; text-align: left ; width: auto;} td:nth-child(2) {text-align: left ; width: 100%}\n",
              "    .wandb-row { display: flex; flex-direction: row; flex-wrap: wrap; justify-content: flex-start; width: 100% }\n",
              "    .wandb-col { display: flex; flex-direction: column; flex-basis: 100%; flex: 1; padding: 10px; }\n",
              "    </style>\n",
              "<div class=\"wandb-row\"><div class=\"wandb-col\"><h3>Run history:</h3><br/><table class=\"wandb\"><tr><td>batch/accuracy</td><td>▁▄▄▅▆▆▆▆▆▆▆▆▇▇▇▆▇▇▇▇▇▇▆▇▇▇▇██████████▇██</td></tr><tr><td>batch/batch_step</td><td>▁▁▁▂▂▂▂▂▂▃▃▃▃▃▃▄▄▄▄▄▅▅▅▅▅▅▆▆▆▆▆▇▇▇▇▇▇███</td></tr><tr><td>batch/learning_rate</td><td>▁▁▁▁▁▁▁▁▁▁▁▁▁▁▁▁▁▁▁▁▁▁▁▁▁▁▁▁▁▁▁▁▁▁▁▁▁▁▁▁</td></tr><tr><td>batch/loss</td><td>█▆▅▄▄▃▃▃▃▃▃▃▃▃▃▃▃▂▂▂▃▂▂▂▂▂▂▁▂▁▂▁▂▁▁▁▁▂▁▁</td></tr><tr><td>epoch/accuracy</td><td>▁▄▅▅▆▆▆▆▆▇▇█████</td></tr><tr><td>epoch/epoch</td><td>▁▁▂▂▃▃▄▄▅▅▆▆▇▇██</td></tr><tr><td>epoch/learning_rate</td><td>▁▁▁▁▁▁▁▁▁▁▁▁▁▁▁▁</td></tr><tr><td>epoch/loss</td><td>█▆▅▄▄▃▃▃▃▂▂▂▂▁▁▁</td></tr><tr><td>epoch/val_accuracy</td><td>▁▁▁▁▁▇█▇██▇▇██▇█</td></tr><tr><td>epoch/val_loss</td><td>▇▇▇▇█▃▂▂▁▁▂▂▁▁▄▁</td></tr><tr><td>val_accuracy</td><td>▁</td></tr></table><br/></div><div class=\"wandb-col\"><h3>Run summary:</h3><br/><table class=\"wandb\"><tr><td>batch/accuracy</td><td>0.94587</td></tr><tr><td>batch/batch_step</td><td>1918</td></tr><tr><td>batch/learning_rate</td><td>0.00013</td></tr><tr><td>batch/loss</td><td>0.12947</td></tr><tr><td>epoch/accuracy</td><td>0.94587</td></tr><tr><td>epoch/epoch</td><td>15</td></tr><tr><td>epoch/learning_rate</td><td>0.00013</td></tr><tr><td>epoch/loss</td><td>0.12947</td></tr><tr><td>epoch/val_accuracy</td><td>0.92706</td></tr><tr><td>epoch/val_loss</td><td>0.17335</td></tr><tr><td>val_accuracy</td><td>0.93658</td></tr></table><br/></div></div>"
            ]
          },
          "metadata": {}
        },
        {
          "output_type": "display_data",
          "data": {
            "text/plain": [
              "<IPython.core.display.HTML object>"
            ],
            "text/html": [
              " View run <strong style=\"color:#cdcd00\">playful-sweep-9</strong> at: <a href='https://wandb.ai/minigi/MuffinChihuahuas/runs/24kdqdqa' target=\"_blank\">https://wandb.ai/minigi/MuffinChihuahuas/runs/24kdqdqa</a><br/>Synced 5 W&B file(s), 0 media file(s), 0 artifact file(s) and 0 other file(s)"
            ]
          },
          "metadata": {}
        },
        {
          "output_type": "display_data",
          "data": {
            "text/plain": [
              "<IPython.core.display.HTML object>"
            ],
            "text/html": [
              "Find logs at: <code>./wandb/run-20230721_215244-24kdqdqa/logs</code>"
            ]
          },
          "metadata": {}
        },
        {
          "output_type": "stream",
          "name": "stderr",
          "text": [
            "\u001b[34m\u001b[1mwandb\u001b[0m: Agent Starting Run: erxurlnf with config:\n",
            "\u001b[34m\u001b[1mwandb\u001b[0m: \tbatch_size: 32\n",
            "\u001b[34m\u001b[1mwandb\u001b[0m: \tepochs: 50\n",
            "\u001b[34m\u001b[1mwandb\u001b[0m: \timage_size: 64\n",
            "\u001b[34m\u001b[1mwandb\u001b[0m: \tinit_learning_rate: 5.7322961058022814e-05\n",
            "\u001b[34m\u001b[1mwandb\u001b[0m: \tloss_fn: binary_crossentropy\n",
            "\u001b[34m\u001b[1mwandb\u001b[0m: \tmetrics: ['acc']\n",
            "\u001b[34m\u001b[1mwandb\u001b[0m: \toptimizer: adam\n"
          ]
        },
        {
          "output_type": "display_data",
          "data": {
            "text/plain": [
              "<IPython.core.display.HTML object>"
            ],
            "text/html": [
              "Tracking run with wandb version 0.15.5"
            ]
          },
          "metadata": {}
        },
        {
          "output_type": "display_data",
          "data": {
            "text/plain": [
              "<IPython.core.display.HTML object>"
            ],
            "text/html": [
              "Run data is saved locally in <code>/content/wandb/run-20230721_215449-erxurlnf</code>"
            ]
          },
          "metadata": {}
        },
        {
          "output_type": "display_data",
          "data": {
            "text/plain": [
              "<IPython.core.display.HTML object>"
            ],
            "text/html": [
              "Syncing run <strong><a href='https://wandb.ai/minigi/MuffinChihuahuas/runs/erxurlnf' target=\"_blank\">curious-sweep-10</a></strong> to <a href='https://wandb.ai/minigi/MuffinChihuahuas' target=\"_blank\">Weights & Biases</a> (<a href='https://wandb.me/run' target=\"_blank\">docs</a>)<br/>Sweep page: <a href='https://wandb.ai/minigi/MuffinChihuahuas/sweeps/qiy27mo6' target=\"_blank\">https://wandb.ai/minigi/MuffinChihuahuas/sweeps/qiy27mo6</a>"
            ]
          },
          "metadata": {}
        },
        {
          "output_type": "display_data",
          "data": {
            "text/plain": [
              "<IPython.core.display.HTML object>"
            ],
            "text/html": [
              " View project at <a href='https://wandb.ai/minigi/MuffinChihuahuas' target=\"_blank\">https://wandb.ai/minigi/MuffinChihuahuas</a>"
            ]
          },
          "metadata": {}
        },
        {
          "output_type": "display_data",
          "data": {
            "text/plain": [
              "<IPython.core.display.HTML object>"
            ],
            "text/html": [
              " View sweep at <a href='https://wandb.ai/minigi/MuffinChihuahuas/sweeps/qiy27mo6' target=\"_blank\">https://wandb.ai/minigi/MuffinChihuahuas/sweeps/qiy27mo6</a>"
            ]
          },
          "metadata": {}
        },
        {
          "output_type": "display_data",
          "data": {
            "text/plain": [
              "<IPython.core.display.HTML object>"
            ],
            "text/html": [
              " View run at <a href='https://wandb.ai/minigi/MuffinChihuahuas/runs/erxurlnf' target=\"_blank\">https://wandb.ai/minigi/MuffinChihuahuas/runs/erxurlnf</a>"
            ]
          },
          "metadata": {}
        },
        {
          "output_type": "stream",
          "name": "stdout",
          "text": [
            "Epoch 1/50\n",
            "119/119 [==============================] - 15s 46ms/step - loss: 0.4619 - accuracy: 0.7890 - val_loss: 0.6898 - val_accuracy: 0.5433\n",
            "Epoch 2/50\n",
            "119/119 [==============================] - 6s 49ms/step - loss: 0.3606 - accuracy: 0.8461 - val_loss: 0.6951 - val_accuracy: 0.5433\n",
            "Epoch 3/50\n",
            "119/119 [==============================] - 6s 48ms/step - loss: 0.3179 - accuracy: 0.8672 - val_loss: 0.6970 - val_accuracy: 0.5433\n",
            "Epoch 4/50\n",
            "119/119 [==============================] - 6s 50ms/step - loss: 0.2871 - accuracy: 0.8809 - val_loss: 0.6927 - val_accuracy: 0.5433\n",
            "Epoch 5/50\n",
            "119/119 [==============================] - 6s 49ms/step - loss: 0.2783 - accuracy: 0.8891 - val_loss: 0.6130 - val_accuracy: 0.5803\n",
            "Epoch 6/50\n",
            "119/119 [==============================] - 6s 49ms/step - loss: 0.2497 - accuracy: 0.8941 - val_loss: 0.3324 - val_accuracy: 0.8763\n",
            "Epoch 7/50\n",
            "119/119 [==============================] - 6s 48ms/step - loss: 0.2465 - accuracy: 0.9010 - val_loss: 0.2731 - val_accuracy: 0.8848\n",
            "Epoch 8/50\n",
            "119/119 [==============================] - 6s 49ms/step - loss: 0.2271 - accuracy: 0.9071 - val_loss: 0.3529 - val_accuracy: 0.8510\n",
            "Epoch 9/50\n",
            "119/119 [==============================] - 6s 49ms/step - loss: 0.2146 - accuracy: 0.9102 - val_loss: 0.3937 - val_accuracy: 0.8372\n",
            "Epoch 10/50\n",
            "119/119 [==============================] - 6s 48ms/step - loss: 0.2066 - accuracy: 0.9160 - val_loss: 0.2653 - val_accuracy: 0.9017\n",
            "Epoch 11/50\n",
            "119/119 [==============================] - 6s 51ms/step - loss: 0.1981 - accuracy: 0.9213 - val_loss: 0.2751 - val_accuracy: 0.8848\n",
            "Epoch 12/50\n",
            "119/119 [==============================] - 6s 48ms/step - loss: 0.1813 - accuracy: 0.9292 - val_loss: 0.3075 - val_accuracy: 0.8805\n",
            "Epoch 13/50\n",
            "119/119 [==============================] - 6s 50ms/step - loss: 0.1788 - accuracy: 0.9276 - val_loss: 0.2795 - val_accuracy: 0.8890\n"
          ]
        },
        {
          "output_type": "display_data",
          "data": {
            "text/plain": [
              "<IPython.core.display.HTML object>"
            ],
            "text/html": [
              "Waiting for W&B process to finish... <strong style=\"color:green\">(success).</strong>"
            ]
          },
          "metadata": {}
        },
        {
          "output_type": "display_data",
          "data": {
            "text/plain": [
              "VBox(children=(Label(value='0.002 MB of 0.013 MB uploaded (0.000 MB deduped)\\r'), FloatProgress(value=0.165750…"
            ],
            "application/vnd.jupyter.widget-view+json": {
              "version_major": 2,
              "version_minor": 0,
              "model_id": "ae437ad0f65242119561f062f89a33c8"
            }
          },
          "metadata": {}
        },
        {
          "output_type": "display_data",
          "data": {
            "text/plain": [
              "<IPython.core.display.HTML object>"
            ],
            "text/html": [
              "<style>\n",
              "    table.wandb td:nth-child(1) { padding: 0 10px; text-align: left ; width: auto;} td:nth-child(2) {text-align: left ; width: 100%}\n",
              "    .wandb-row { display: flex; flex-direction: row; flex-wrap: wrap; justify-content: flex-start; width: 100% }\n",
              "    .wandb-col { display: flex; flex-direction: column; flex-basis: 100%; flex: 1; padding: 10px; }\n",
              "    </style>\n",
              "<div class=\"wandb-row\"><div class=\"wandb-col\"><h3>Run history:</h3><br/><table class=\"wandb\"><tr><td>batch/accuracy</td><td>▁▃▄▃▅▆▆▆▆▆▆▇▇▆▇▇▇▇▇▇▇▇▇▇▇▇▇▇▇▇█▇████████</td></tr><tr><td>batch/batch_step</td><td>▁▁▁▂▂▂▂▂▂▃▃▃▃▃▃▄▄▄▄▄▅▅▅▅▅▅▆▆▆▆▆▇▇▇▇▇▇███</td></tr><tr><td>batch/learning_rate</td><td>▁▁▁▁▁▁▁▁▁▁▁▁▁▁▁▁▁▁▁▁▁▁▁▁▁▁▁▁▁▁▁▁▁▁▁▁▁▁▁▁</td></tr><tr><td>batch/loss</td><td>█▇▆▆▄▄▄▄▃▃▃▃▃▃▃▃▃▂▂▂▂▂▂▂▂▂▂▂▂▂▂▂▁▁▁▁▁▁▁▁</td></tr><tr><td>epoch/accuracy</td><td>▁▄▅▆▆▆▇▇▇▇███</td></tr><tr><td>epoch/epoch</td><td>▁▂▂▃▃▄▅▅▆▆▇▇█</td></tr><tr><td>epoch/learning_rate</td><td>▁▁▁▁▁▁▁▁▁▁▁▁▁</td></tr><tr><td>epoch/loss</td><td>█▅▄▄▃▃▃▂▂▂▁▁▁</td></tr><tr><td>epoch/val_accuracy</td><td>▁▁▁▁▂██▇▇████</td></tr><tr><td>epoch/val_loss</td><td>████▇▂▁▂▃▁▁▂▁</td></tr><tr><td>val_accuracy</td><td>▁</td></tr></table><br/></div><div class=\"wandb-col\"><h3>Run summary:</h3><br/><table class=\"wandb\"><tr><td>batch/accuracy</td><td>0.92765</td></tr><tr><td>batch/batch_step</td><td>1558</td></tr><tr><td>batch/learning_rate</td><td>6e-05</td></tr><tr><td>batch/loss</td><td>0.17881</td></tr><tr><td>epoch/accuracy</td><td>0.92765</td></tr><tr><td>epoch/epoch</td><td>12</td></tr><tr><td>epoch/learning_rate</td><td>6e-05</td></tr><tr><td>epoch/loss</td><td>0.17881</td></tr><tr><td>epoch/val_accuracy</td><td>0.88901</td></tr><tr><td>epoch/val_loss</td><td>0.27954</td></tr><tr><td>val_accuracy</td><td>0.90169</td></tr></table><br/></div></div>"
            ]
          },
          "metadata": {}
        },
        {
          "output_type": "display_data",
          "data": {
            "text/plain": [
              "<IPython.core.display.HTML object>"
            ],
            "text/html": [
              " View run <strong style=\"color:#cdcd00\">curious-sweep-10</strong> at: <a href='https://wandb.ai/minigi/MuffinChihuahuas/runs/erxurlnf' target=\"_blank\">https://wandb.ai/minigi/MuffinChihuahuas/runs/erxurlnf</a><br/>Synced 5 W&B file(s), 0 media file(s), 0 artifact file(s) and 0 other file(s)"
            ]
          },
          "metadata": {}
        },
        {
          "output_type": "display_data",
          "data": {
            "text/plain": [
              "<IPython.core.display.HTML object>"
            ],
            "text/html": [
              "Find logs at: <code>./wandb/run-20230721_215449-erxurlnf/logs</code>"
            ]
          },
          "metadata": {}
        }
      ]
    },
    {
      "cell_type": "code",
      "source": [],
      "metadata": {
        "id": "Zes6YcyxMYN_"
      },
      "execution_count": 15,
      "outputs": []
    },
    {
      "cell_type": "markdown",
      "metadata": {
        "id": "bclMguTeOWLc"
      },
      "source": [
        "# Run inference on new data"
      ]
    },
    {
      "cell_type": "code",
      "execution_count": 16,
      "metadata": {
        "id": "IGch4GVyOWLc",
        "outputId": "e303bd2e-b6d9-47fe-b96f-b1aba6b98c84",
        "colab": {
          "base_uri": "https://localhost:8080/",
          "height": 71
        }
      },
      "outputs": [
        {
          "output_type": "execute_result",
          "data": {
            "text/plain": [
              "'def keralize_img(path):\\n  img = keras.utils.load_img(\\n    path, target_size=configs.image_size\\n  )\\n  img_array = keras.utils.img_to_array(img)\\n  img_array = tf.expand_dims(img_array, 0)  # Create batch axis\\n  return img_array\\n\\nchihuahua_img = keralize_img(dataset_path + \\'/test/muffin/img_0_67.jpg\\')\\nmuffin_img = keralize_img(dataset_path + \\'/test/chihuahua/img_0_1107.jpg\\')\\n\\ndef predict(img):\\n  model.load_weights(\"/content/save_at_7.keras\")\\n  predictions = model.predict(img)\\n  score = float(predictions[0])\\n  print(f\"This image is {100 * (1 - score):.2f}% muffin and {100 * score:.2f}% chihuahua.\")\\n\\npredict(chihuahua_img)\\npredict(muffin_img)'"
            ],
            "application/vnd.google.colaboratory.intrinsic+json": {
              "type": "string"
            }
          },
          "metadata": {},
          "execution_count": 16
        }
      ],
      "source": [
        "\"\"\"def keralize_img(path):\n",
        "  img = keras.utils.load_img(\n",
        "    path, target_size=configs.image_size\n",
        "  )\n",
        "  img_array = keras.utils.img_to_array(img)\n",
        "  img_array = tf.expand_dims(img_array, 0)  # Create batch axis\n",
        "  return img_array\n",
        "\n",
        "chihuahua_img = keralize_img(dataset_path + '/test/muffin/img_0_67.jpg')\n",
        "muffin_img = keralize_img(dataset_path + '/test/chihuahua/img_0_1107.jpg')\n",
        "\n",
        "def predict(img):\n",
        "  model.load_weights(\"/content/save_at_7.keras\")\n",
        "  predictions = model.predict(img)\n",
        "  score = float(predictions[0])\n",
        "  print(f\"This image is {100 * (1 - score):.2f}% muffin and {100 * score:.2f}% chihuahua.\")\n",
        "\n",
        "predict(chihuahua_img)\n",
        "predict(muffin_img)\"\"\""
      ]
    }
  ],
  "metadata": {
    "kernelspec": {
      "display_name": "Python 3",
      "name": "python3"
    },
    "language_info": {
      "codemirror_mode": {
        "name": "ipython",
        "version": 3
      },
      "file_extension": ".py",
      "mimetype": "text/x-python",
      "name": "python",
      "nbconvert_exporter": "python",
      "pygments_lexer": "ipython3",
      "version": "3.10.6"
    },
    "orig_nbformat": 4,
    "colab": {
      "provenance": [],
      "gpuType": "A100",
      "machine_shape": "hm",
      "include_colab_link": true
    },
    "accelerator": "GPU",
    "widgets": {
      "application/vnd.jupyter.widget-state+json": {
        "76f92dea6534410181f7784a4d92bba0": {
          "model_module": "@jupyter-widgets/controls",
          "model_name": "HBoxModel",
          "model_module_version": "1.5.0",
          "state": {
            "_dom_classes": [],
            "_model_module": "@jupyter-widgets/controls",
            "_model_module_version": "1.5.0",
            "_model_name": "HBoxModel",
            "_view_count": null,
            "_view_module": "@jupyter-widgets/controls",
            "_view_module_version": "1.5.0",
            "_view_name": "HBoxView",
            "box_style": "",
            "children": [
              "IPY_MODEL_76485a2871764cf98bf80a8d1da4d5ea",
              "IPY_MODEL_cc34a5ad34284c26a9b38afc3b93cc8e",
              "IPY_MODEL_4372a1790f3c4f7eb127168736a21d5a"
            ],
            "layout": "IPY_MODEL_1db074f8d3664be68df9683cfdd2fe90"
          }
        },
        "76485a2871764cf98bf80a8d1da4d5ea": {
          "model_module": "@jupyter-widgets/controls",
          "model_name": "HTMLModel",
          "model_module_version": "1.5.0",
          "state": {
            "_dom_classes": [],
            "_model_module": "@jupyter-widgets/controls",
            "_model_module_version": "1.5.0",
            "_model_name": "HTMLModel",
            "_view_count": null,
            "_view_module": "@jupyter-widgets/controls",
            "_view_module_version": "1.5.0",
            "_view_name": "HTMLView",
            "description": "",
            "description_tooltip": null,
            "layout": "IPY_MODEL_b30db281dc2c4fd1a3dce95f25684fff",
            "placeholder": "​",
            "style": "IPY_MODEL_4bc66bb61ce04b4e8158fd52f88b0ef9",
            "value": "100%"
          }
        },
        "cc34a5ad34284c26a9b38afc3b93cc8e": {
          "model_module": "@jupyter-widgets/controls",
          "model_name": "FloatProgressModel",
          "model_module_version": "1.5.0",
          "state": {
            "_dom_classes": [],
            "_model_module": "@jupyter-widgets/controls",
            "_model_module_version": "1.5.0",
            "_model_name": "FloatProgressModel",
            "_view_count": null,
            "_view_module": "@jupyter-widgets/controls",
            "_view_module_version": "1.5.0",
            "_view_name": "ProgressView",
            "bar_style": "success",
            "description": "",
            "description_tooltip": null,
            "layout": "IPY_MODEL_bd2a912261c8433da2f0332b7d4ada8f",
            "max": 119,
            "min": 0,
            "orientation": "horizontal",
            "style": "IPY_MODEL_c4ffaffb4d4844488c6385846f075c37",
            "value": 119
          }
        },
        "4372a1790f3c4f7eb127168736a21d5a": {
          "model_module": "@jupyter-widgets/controls",
          "model_name": "HTMLModel",
          "model_module_version": "1.5.0",
          "state": {
            "_dom_classes": [],
            "_model_module": "@jupyter-widgets/controls",
            "_model_module_version": "1.5.0",
            "_model_name": "HTMLModel",
            "_view_count": null,
            "_view_module": "@jupyter-widgets/controls",
            "_view_module_version": "1.5.0",
            "_view_name": "HTMLView",
            "description": "",
            "description_tooltip": null,
            "layout": "IPY_MODEL_1efb50a407114d3ca2ec9bbe7cb0edb8",
            "placeholder": "​",
            "style": "IPY_MODEL_49e5df596d4240c1a60cd30ff112355b",
            "value": " 119/119 [00:05&lt;00:00, 31.90it/s]"
          }
        },
        "1db074f8d3664be68df9683cfdd2fe90": {
          "model_module": "@jupyter-widgets/base",
          "model_name": "LayoutModel",
          "model_module_version": "1.2.0",
          "state": {
            "_model_module": "@jupyter-widgets/base",
            "_model_module_version": "1.2.0",
            "_model_name": "LayoutModel",
            "_view_count": null,
            "_view_module": "@jupyter-widgets/base",
            "_view_module_version": "1.2.0",
            "_view_name": "LayoutView",
            "align_content": null,
            "align_items": null,
            "align_self": null,
            "border": null,
            "bottom": null,
            "display": null,
            "flex": null,
            "flex_flow": null,
            "grid_area": null,
            "grid_auto_columns": null,
            "grid_auto_flow": null,
            "grid_auto_rows": null,
            "grid_column": null,
            "grid_gap": null,
            "grid_row": null,
            "grid_template_areas": null,
            "grid_template_columns": null,
            "grid_template_rows": null,
            "height": null,
            "justify_content": null,
            "justify_items": null,
            "left": null,
            "margin": null,
            "max_height": null,
            "max_width": null,
            "min_height": null,
            "min_width": null,
            "object_fit": null,
            "object_position": null,
            "order": null,
            "overflow": null,
            "overflow_x": null,
            "overflow_y": null,
            "padding": null,
            "right": null,
            "top": null,
            "visibility": null,
            "width": null
          }
        },
        "b30db281dc2c4fd1a3dce95f25684fff": {
          "model_module": "@jupyter-widgets/base",
          "model_name": "LayoutModel",
          "model_module_version": "1.2.0",
          "state": {
            "_model_module": "@jupyter-widgets/base",
            "_model_module_version": "1.2.0",
            "_model_name": "LayoutModel",
            "_view_count": null,
            "_view_module": "@jupyter-widgets/base",
            "_view_module_version": "1.2.0",
            "_view_name": "LayoutView",
            "align_content": null,
            "align_items": null,
            "align_self": null,
            "border": null,
            "bottom": null,
            "display": null,
            "flex": null,
            "flex_flow": null,
            "grid_area": null,
            "grid_auto_columns": null,
            "grid_auto_flow": null,
            "grid_auto_rows": null,
            "grid_column": null,
            "grid_gap": null,
            "grid_row": null,
            "grid_template_areas": null,
            "grid_template_columns": null,
            "grid_template_rows": null,
            "height": null,
            "justify_content": null,
            "justify_items": null,
            "left": null,
            "margin": null,
            "max_height": null,
            "max_width": null,
            "min_height": null,
            "min_width": null,
            "object_fit": null,
            "object_position": null,
            "order": null,
            "overflow": null,
            "overflow_x": null,
            "overflow_y": null,
            "padding": null,
            "right": null,
            "top": null,
            "visibility": null,
            "width": null
          }
        },
        "4bc66bb61ce04b4e8158fd52f88b0ef9": {
          "model_module": "@jupyter-widgets/controls",
          "model_name": "DescriptionStyleModel",
          "model_module_version": "1.5.0",
          "state": {
            "_model_module": "@jupyter-widgets/controls",
            "_model_module_version": "1.5.0",
            "_model_name": "DescriptionStyleModel",
            "_view_count": null,
            "_view_module": "@jupyter-widgets/base",
            "_view_module_version": "1.2.0",
            "_view_name": "StyleView",
            "description_width": ""
          }
        },
        "bd2a912261c8433da2f0332b7d4ada8f": {
          "model_module": "@jupyter-widgets/base",
          "model_name": "LayoutModel",
          "model_module_version": "1.2.0",
          "state": {
            "_model_module": "@jupyter-widgets/base",
            "_model_module_version": "1.2.0",
            "_model_name": "LayoutModel",
            "_view_count": null,
            "_view_module": "@jupyter-widgets/base",
            "_view_module_version": "1.2.0",
            "_view_name": "LayoutView",
            "align_content": null,
            "align_items": null,
            "align_self": null,
            "border": null,
            "bottom": null,
            "display": null,
            "flex": null,
            "flex_flow": null,
            "grid_area": null,
            "grid_auto_columns": null,
            "grid_auto_flow": null,
            "grid_auto_rows": null,
            "grid_column": null,
            "grid_gap": null,
            "grid_row": null,
            "grid_template_areas": null,
            "grid_template_columns": null,
            "grid_template_rows": null,
            "height": null,
            "justify_content": null,
            "justify_items": null,
            "left": null,
            "margin": null,
            "max_height": null,
            "max_width": null,
            "min_height": null,
            "min_width": null,
            "object_fit": null,
            "object_position": null,
            "order": null,
            "overflow": null,
            "overflow_x": null,
            "overflow_y": null,
            "padding": null,
            "right": null,
            "top": null,
            "visibility": null,
            "width": null
          }
        },
        "c4ffaffb4d4844488c6385846f075c37": {
          "model_module": "@jupyter-widgets/controls",
          "model_name": "ProgressStyleModel",
          "model_module_version": "1.5.0",
          "state": {
            "_model_module": "@jupyter-widgets/controls",
            "_model_module_version": "1.5.0",
            "_model_name": "ProgressStyleModel",
            "_view_count": null,
            "_view_module": "@jupyter-widgets/base",
            "_view_module_version": "1.2.0",
            "_view_name": "StyleView",
            "bar_color": null,
            "description_width": ""
          }
        },
        "1efb50a407114d3ca2ec9bbe7cb0edb8": {
          "model_module": "@jupyter-widgets/base",
          "model_name": "LayoutModel",
          "model_module_version": "1.2.0",
          "state": {
            "_model_module": "@jupyter-widgets/base",
            "_model_module_version": "1.2.0",
            "_model_name": "LayoutModel",
            "_view_count": null,
            "_view_module": "@jupyter-widgets/base",
            "_view_module_version": "1.2.0",
            "_view_name": "LayoutView",
            "align_content": null,
            "align_items": null,
            "align_self": null,
            "border": null,
            "bottom": null,
            "display": null,
            "flex": null,
            "flex_flow": null,
            "grid_area": null,
            "grid_auto_columns": null,
            "grid_auto_flow": null,
            "grid_auto_rows": null,
            "grid_column": null,
            "grid_gap": null,
            "grid_row": null,
            "grid_template_areas": null,
            "grid_template_columns": null,
            "grid_template_rows": null,
            "height": null,
            "justify_content": null,
            "justify_items": null,
            "left": null,
            "margin": null,
            "max_height": null,
            "max_width": null,
            "min_height": null,
            "min_width": null,
            "object_fit": null,
            "object_position": null,
            "order": null,
            "overflow": null,
            "overflow_x": null,
            "overflow_y": null,
            "padding": null,
            "right": null,
            "top": null,
            "visibility": null,
            "width": null
          }
        },
        "49e5df596d4240c1a60cd30ff112355b": {
          "model_module": "@jupyter-widgets/controls",
          "model_name": "DescriptionStyleModel",
          "model_module_version": "1.5.0",
          "state": {
            "_model_module": "@jupyter-widgets/controls",
            "_model_module_version": "1.5.0",
            "_model_name": "DescriptionStyleModel",
            "_view_count": null,
            "_view_module": "@jupyter-widgets/base",
            "_view_module_version": "1.2.0",
            "_view_name": "StyleView",
            "description_width": ""
          }
        },
        "5b4c0afb58944e4ba90d1694ae5a7976": {
          "model_module": "@jupyter-widgets/controls",
          "model_name": "VBoxModel",
          "model_module_version": "1.5.0",
          "state": {
            "_dom_classes": [],
            "_model_module": "@jupyter-widgets/controls",
            "_model_module_version": "1.5.0",
            "_model_name": "VBoxModel",
            "_view_count": null,
            "_view_module": "@jupyter-widgets/controls",
            "_view_module_version": "1.5.0",
            "_view_name": "VBoxView",
            "box_style": "",
            "children": [
              "IPY_MODEL_8b872a7740c3439b9ccb2c0c1f49a399",
              "IPY_MODEL_e95e17e3207e4bfc9d1f320829c2a20b"
            ],
            "layout": "IPY_MODEL_6aed69be85db46f8b581695234a47006"
          }
        },
        "8b872a7740c3439b9ccb2c0c1f49a399": {
          "model_module": "@jupyter-widgets/controls",
          "model_name": "LabelModel",
          "model_module_version": "1.5.0",
          "state": {
            "_dom_classes": [],
            "_model_module": "@jupyter-widgets/controls",
            "_model_module_version": "1.5.0",
            "_model_name": "LabelModel",
            "_view_count": null,
            "_view_module": "@jupyter-widgets/controls",
            "_view_module_version": "1.5.0",
            "_view_name": "LabelView",
            "description": "",
            "description_tooltip": null,
            "layout": "IPY_MODEL_72fa2ecaf4d8470d8402e72205f50ff3",
            "placeholder": "​",
            "style": "IPY_MODEL_3eb9edeabfc148a6a7367967f12cb399",
            "value": "0.002 MB of 0.013 MB uploaded (0.000 MB deduped)\r"
          }
        },
        "e95e17e3207e4bfc9d1f320829c2a20b": {
          "model_module": "@jupyter-widgets/controls",
          "model_name": "FloatProgressModel",
          "model_module_version": "1.5.0",
          "state": {
            "_dom_classes": [],
            "_model_module": "@jupyter-widgets/controls",
            "_model_module_version": "1.5.0",
            "_model_name": "FloatProgressModel",
            "_view_count": null,
            "_view_module": "@jupyter-widgets/controls",
            "_view_module_version": "1.5.0",
            "_view_name": "ProgressView",
            "bar_style": "",
            "description": "",
            "description_tooltip": null,
            "layout": "IPY_MODEL_981fecdbf6e847be9d7a7e21675463b7",
            "max": 1,
            "min": 0,
            "orientation": "horizontal",
            "style": "IPY_MODEL_bdb55aa3c1f0410090848acb80c95157",
            "value": 0.16751870786100614
          }
        },
        "6aed69be85db46f8b581695234a47006": {
          "model_module": "@jupyter-widgets/base",
          "model_name": "LayoutModel",
          "model_module_version": "1.2.0",
          "state": {
            "_model_module": "@jupyter-widgets/base",
            "_model_module_version": "1.2.0",
            "_model_name": "LayoutModel",
            "_view_count": null,
            "_view_module": "@jupyter-widgets/base",
            "_view_module_version": "1.2.0",
            "_view_name": "LayoutView",
            "align_content": null,
            "align_items": null,
            "align_self": null,
            "border": null,
            "bottom": null,
            "display": null,
            "flex": null,
            "flex_flow": null,
            "grid_area": null,
            "grid_auto_columns": null,
            "grid_auto_flow": null,
            "grid_auto_rows": null,
            "grid_column": null,
            "grid_gap": null,
            "grid_row": null,
            "grid_template_areas": null,
            "grid_template_columns": null,
            "grid_template_rows": null,
            "height": null,
            "justify_content": null,
            "justify_items": null,
            "left": null,
            "margin": null,
            "max_height": null,
            "max_width": null,
            "min_height": null,
            "min_width": null,
            "object_fit": null,
            "object_position": null,
            "order": null,
            "overflow": null,
            "overflow_x": null,
            "overflow_y": null,
            "padding": null,
            "right": null,
            "top": null,
            "visibility": null,
            "width": null
          }
        },
        "72fa2ecaf4d8470d8402e72205f50ff3": {
          "model_module": "@jupyter-widgets/base",
          "model_name": "LayoutModel",
          "model_module_version": "1.2.0",
          "state": {
            "_model_module": "@jupyter-widgets/base",
            "_model_module_version": "1.2.0",
            "_model_name": "LayoutModel",
            "_view_count": null,
            "_view_module": "@jupyter-widgets/base",
            "_view_module_version": "1.2.0",
            "_view_name": "LayoutView",
            "align_content": null,
            "align_items": null,
            "align_self": null,
            "border": null,
            "bottom": null,
            "display": null,
            "flex": null,
            "flex_flow": null,
            "grid_area": null,
            "grid_auto_columns": null,
            "grid_auto_flow": null,
            "grid_auto_rows": null,
            "grid_column": null,
            "grid_gap": null,
            "grid_row": null,
            "grid_template_areas": null,
            "grid_template_columns": null,
            "grid_template_rows": null,
            "height": null,
            "justify_content": null,
            "justify_items": null,
            "left": null,
            "margin": null,
            "max_height": null,
            "max_width": null,
            "min_height": null,
            "min_width": null,
            "object_fit": null,
            "object_position": null,
            "order": null,
            "overflow": null,
            "overflow_x": null,
            "overflow_y": null,
            "padding": null,
            "right": null,
            "top": null,
            "visibility": null,
            "width": null
          }
        },
        "3eb9edeabfc148a6a7367967f12cb399": {
          "model_module": "@jupyter-widgets/controls",
          "model_name": "DescriptionStyleModel",
          "model_module_version": "1.5.0",
          "state": {
            "_model_module": "@jupyter-widgets/controls",
            "_model_module_version": "1.5.0",
            "_model_name": "DescriptionStyleModel",
            "_view_count": null,
            "_view_module": "@jupyter-widgets/base",
            "_view_module_version": "1.2.0",
            "_view_name": "StyleView",
            "description_width": ""
          }
        },
        "981fecdbf6e847be9d7a7e21675463b7": {
          "model_module": "@jupyter-widgets/base",
          "model_name": "LayoutModel",
          "model_module_version": "1.2.0",
          "state": {
            "_model_module": "@jupyter-widgets/base",
            "_model_module_version": "1.2.0",
            "_model_name": "LayoutModel",
            "_view_count": null,
            "_view_module": "@jupyter-widgets/base",
            "_view_module_version": "1.2.0",
            "_view_name": "LayoutView",
            "align_content": null,
            "align_items": null,
            "align_self": null,
            "border": null,
            "bottom": null,
            "display": null,
            "flex": null,
            "flex_flow": null,
            "grid_area": null,
            "grid_auto_columns": null,
            "grid_auto_flow": null,
            "grid_auto_rows": null,
            "grid_column": null,
            "grid_gap": null,
            "grid_row": null,
            "grid_template_areas": null,
            "grid_template_columns": null,
            "grid_template_rows": null,
            "height": null,
            "justify_content": null,
            "justify_items": null,
            "left": null,
            "margin": null,
            "max_height": null,
            "max_width": null,
            "min_height": null,
            "min_width": null,
            "object_fit": null,
            "object_position": null,
            "order": null,
            "overflow": null,
            "overflow_x": null,
            "overflow_y": null,
            "padding": null,
            "right": null,
            "top": null,
            "visibility": null,
            "width": null
          }
        },
        "bdb55aa3c1f0410090848acb80c95157": {
          "model_module": "@jupyter-widgets/controls",
          "model_name": "ProgressStyleModel",
          "model_module_version": "1.5.0",
          "state": {
            "_model_module": "@jupyter-widgets/controls",
            "_model_module_version": "1.5.0",
            "_model_name": "ProgressStyleModel",
            "_view_count": null,
            "_view_module": "@jupyter-widgets/base",
            "_view_module_version": "1.2.0",
            "_view_name": "StyleView",
            "bar_color": null,
            "description_width": ""
          }
        },
        "0358f9ddf735455988deed4fb273fa55": {
          "model_module": "@jupyter-widgets/controls",
          "model_name": "VBoxModel",
          "model_module_version": "1.5.0",
          "state": {
            "_dom_classes": [],
            "_model_module": "@jupyter-widgets/controls",
            "_model_module_version": "1.5.0",
            "_model_name": "VBoxModel",
            "_view_count": null,
            "_view_module": "@jupyter-widgets/controls",
            "_view_module_version": "1.5.0",
            "_view_name": "VBoxView",
            "box_style": "",
            "children": [
              "IPY_MODEL_2cdb1c306e5f4fd7ab3f0994c320dbb2",
              "IPY_MODEL_d89708aed8184014b139641a650c048a"
            ],
            "layout": "IPY_MODEL_b8bf99974a5e41eea61b66a1a19f4bdc"
          }
        },
        "2cdb1c306e5f4fd7ab3f0994c320dbb2": {
          "model_module": "@jupyter-widgets/controls",
          "model_name": "LabelModel",
          "model_module_version": "1.5.0",
          "state": {
            "_dom_classes": [],
            "_model_module": "@jupyter-widgets/controls",
            "_model_module_version": "1.5.0",
            "_model_name": "LabelModel",
            "_view_count": null,
            "_view_module": "@jupyter-widgets/controls",
            "_view_module_version": "1.5.0",
            "_view_name": "LabelView",
            "description": "",
            "description_tooltip": null,
            "layout": "IPY_MODEL_06a7a3c1ed1d4d119975250981f157ac",
            "placeholder": "​",
            "style": "IPY_MODEL_2caf5dee04094d7495be70ace9c55999",
            "value": "Waiting for wandb.init()...\r"
          }
        },
        "d89708aed8184014b139641a650c048a": {
          "model_module": "@jupyter-widgets/controls",
          "model_name": "FloatProgressModel",
          "model_module_version": "1.5.0",
          "state": {
            "_dom_classes": [],
            "_model_module": "@jupyter-widgets/controls",
            "_model_module_version": "1.5.0",
            "_model_name": "FloatProgressModel",
            "_view_count": null,
            "_view_module": "@jupyter-widgets/controls",
            "_view_module_version": "1.5.0",
            "_view_name": "ProgressView",
            "bar_style": "",
            "description": "",
            "description_tooltip": null,
            "layout": "IPY_MODEL_94958d38673b4315bf081814f0d52c9c",
            "max": 1,
            "min": 0,
            "orientation": "horizontal",
            "style": "IPY_MODEL_d033ca20c817478f9d904dc11663d7e0",
            "value": 1
          }
        },
        "b8bf99974a5e41eea61b66a1a19f4bdc": {
          "model_module": "@jupyter-widgets/base",
          "model_name": "LayoutModel",
          "model_module_version": "1.2.0",
          "state": {
            "_model_module": "@jupyter-widgets/base",
            "_model_module_version": "1.2.0",
            "_model_name": "LayoutModel",
            "_view_count": null,
            "_view_module": "@jupyter-widgets/base",
            "_view_module_version": "1.2.0",
            "_view_name": "LayoutView",
            "align_content": null,
            "align_items": null,
            "align_self": null,
            "border": null,
            "bottom": null,
            "display": null,
            "flex": null,
            "flex_flow": null,
            "grid_area": null,
            "grid_auto_columns": null,
            "grid_auto_flow": null,
            "grid_auto_rows": null,
            "grid_column": null,
            "grid_gap": null,
            "grid_row": null,
            "grid_template_areas": null,
            "grid_template_columns": null,
            "grid_template_rows": null,
            "height": null,
            "justify_content": null,
            "justify_items": null,
            "left": null,
            "margin": null,
            "max_height": null,
            "max_width": null,
            "min_height": null,
            "min_width": null,
            "object_fit": null,
            "object_position": null,
            "order": null,
            "overflow": null,
            "overflow_x": null,
            "overflow_y": null,
            "padding": null,
            "right": null,
            "top": null,
            "visibility": null,
            "width": null
          }
        },
        "06a7a3c1ed1d4d119975250981f157ac": {
          "model_module": "@jupyter-widgets/base",
          "model_name": "LayoutModel",
          "model_module_version": "1.2.0",
          "state": {
            "_model_module": "@jupyter-widgets/base",
            "_model_module_version": "1.2.0",
            "_model_name": "LayoutModel",
            "_view_count": null,
            "_view_module": "@jupyter-widgets/base",
            "_view_module_version": "1.2.0",
            "_view_name": "LayoutView",
            "align_content": null,
            "align_items": null,
            "align_self": null,
            "border": null,
            "bottom": null,
            "display": null,
            "flex": null,
            "flex_flow": null,
            "grid_area": null,
            "grid_auto_columns": null,
            "grid_auto_flow": null,
            "grid_auto_rows": null,
            "grid_column": null,
            "grid_gap": null,
            "grid_row": null,
            "grid_template_areas": null,
            "grid_template_columns": null,
            "grid_template_rows": null,
            "height": null,
            "justify_content": null,
            "justify_items": null,
            "left": null,
            "margin": null,
            "max_height": null,
            "max_width": null,
            "min_height": null,
            "min_width": null,
            "object_fit": null,
            "object_position": null,
            "order": null,
            "overflow": null,
            "overflow_x": null,
            "overflow_y": null,
            "padding": null,
            "right": null,
            "top": null,
            "visibility": null,
            "width": null
          }
        },
        "2caf5dee04094d7495be70ace9c55999": {
          "model_module": "@jupyter-widgets/controls",
          "model_name": "DescriptionStyleModel",
          "model_module_version": "1.5.0",
          "state": {
            "_model_module": "@jupyter-widgets/controls",
            "_model_module_version": "1.5.0",
            "_model_name": "DescriptionStyleModel",
            "_view_count": null,
            "_view_module": "@jupyter-widgets/base",
            "_view_module_version": "1.2.0",
            "_view_name": "StyleView",
            "description_width": ""
          }
        },
        "94958d38673b4315bf081814f0d52c9c": {
          "model_module": "@jupyter-widgets/base",
          "model_name": "LayoutModel",
          "model_module_version": "1.2.0",
          "state": {
            "_model_module": "@jupyter-widgets/base",
            "_model_module_version": "1.2.0",
            "_model_name": "LayoutModel",
            "_view_count": null,
            "_view_module": "@jupyter-widgets/base",
            "_view_module_version": "1.2.0",
            "_view_name": "LayoutView",
            "align_content": null,
            "align_items": null,
            "align_self": null,
            "border": null,
            "bottom": null,
            "display": null,
            "flex": null,
            "flex_flow": null,
            "grid_area": null,
            "grid_auto_columns": null,
            "grid_auto_flow": null,
            "grid_auto_rows": null,
            "grid_column": null,
            "grid_gap": null,
            "grid_row": null,
            "grid_template_areas": null,
            "grid_template_columns": null,
            "grid_template_rows": null,
            "height": null,
            "justify_content": null,
            "justify_items": null,
            "left": null,
            "margin": null,
            "max_height": null,
            "max_width": null,
            "min_height": null,
            "min_width": null,
            "object_fit": null,
            "object_position": null,
            "order": null,
            "overflow": null,
            "overflow_x": null,
            "overflow_y": null,
            "padding": null,
            "right": null,
            "top": null,
            "visibility": null,
            "width": null
          }
        },
        "d033ca20c817478f9d904dc11663d7e0": {
          "model_module": "@jupyter-widgets/controls",
          "model_name": "ProgressStyleModel",
          "model_module_version": "1.5.0",
          "state": {
            "_model_module": "@jupyter-widgets/controls",
            "_model_module_version": "1.5.0",
            "_model_name": "ProgressStyleModel",
            "_view_count": null,
            "_view_module": "@jupyter-widgets/base",
            "_view_module_version": "1.2.0",
            "_view_name": "StyleView",
            "bar_color": null,
            "description_width": ""
          }
        },
        "020c296db8734f74b9bf718a367e5b3f": {
          "model_module": "@jupyter-widgets/controls",
          "model_name": "VBoxModel",
          "model_module_version": "1.5.0",
          "state": {
            "_dom_classes": [],
            "_model_module": "@jupyter-widgets/controls",
            "_model_module_version": "1.5.0",
            "_model_name": "VBoxModel",
            "_view_count": null,
            "_view_module": "@jupyter-widgets/controls",
            "_view_module_version": "1.5.0",
            "_view_name": "VBoxView",
            "box_style": "",
            "children": [
              "IPY_MODEL_0af29494e7814f1596abe7603719d501",
              "IPY_MODEL_ba221942d0d2484cab06685f76540a78"
            ],
            "layout": "IPY_MODEL_500d2a3a32c24ee0a8282949e45f2676"
          }
        },
        "0af29494e7814f1596abe7603719d501": {
          "model_module": "@jupyter-widgets/controls",
          "model_name": "LabelModel",
          "model_module_version": "1.5.0",
          "state": {
            "_dom_classes": [],
            "_model_module": "@jupyter-widgets/controls",
            "_model_module_version": "1.5.0",
            "_model_name": "LabelModel",
            "_view_count": null,
            "_view_module": "@jupyter-widgets/controls",
            "_view_module_version": "1.5.0",
            "_view_name": "LabelView",
            "description": "",
            "description_tooltip": null,
            "layout": "IPY_MODEL_f21e94875dea406489b319d061fbfd5c",
            "placeholder": "​",
            "style": "IPY_MODEL_8e688c6e21534096a4075c46cf4f0709",
            "value": "0.013 MB of 0.013 MB uploaded (0.000 MB deduped)\r"
          }
        },
        "ba221942d0d2484cab06685f76540a78": {
          "model_module": "@jupyter-widgets/controls",
          "model_name": "FloatProgressModel",
          "model_module_version": "1.5.0",
          "state": {
            "_dom_classes": [],
            "_model_module": "@jupyter-widgets/controls",
            "_model_module_version": "1.5.0",
            "_model_name": "FloatProgressModel",
            "_view_count": null,
            "_view_module": "@jupyter-widgets/controls",
            "_view_module_version": "1.5.0",
            "_view_name": "ProgressView",
            "bar_style": "",
            "description": "",
            "description_tooltip": null,
            "layout": "IPY_MODEL_30c3d22b25a94a26a93b3d8289ef88a0",
            "max": 1,
            "min": 0,
            "orientation": "horizontal",
            "style": "IPY_MODEL_351dce2e954e4aafadc393b08492a277",
            "value": 1
          }
        },
        "500d2a3a32c24ee0a8282949e45f2676": {
          "model_module": "@jupyter-widgets/base",
          "model_name": "LayoutModel",
          "model_module_version": "1.2.0",
          "state": {
            "_model_module": "@jupyter-widgets/base",
            "_model_module_version": "1.2.0",
            "_model_name": "LayoutModel",
            "_view_count": null,
            "_view_module": "@jupyter-widgets/base",
            "_view_module_version": "1.2.0",
            "_view_name": "LayoutView",
            "align_content": null,
            "align_items": null,
            "align_self": null,
            "border": null,
            "bottom": null,
            "display": null,
            "flex": null,
            "flex_flow": null,
            "grid_area": null,
            "grid_auto_columns": null,
            "grid_auto_flow": null,
            "grid_auto_rows": null,
            "grid_column": null,
            "grid_gap": null,
            "grid_row": null,
            "grid_template_areas": null,
            "grid_template_columns": null,
            "grid_template_rows": null,
            "height": null,
            "justify_content": null,
            "justify_items": null,
            "left": null,
            "margin": null,
            "max_height": null,
            "max_width": null,
            "min_height": null,
            "min_width": null,
            "object_fit": null,
            "object_position": null,
            "order": null,
            "overflow": null,
            "overflow_x": null,
            "overflow_y": null,
            "padding": null,
            "right": null,
            "top": null,
            "visibility": null,
            "width": null
          }
        },
        "f21e94875dea406489b319d061fbfd5c": {
          "model_module": "@jupyter-widgets/base",
          "model_name": "LayoutModel",
          "model_module_version": "1.2.0",
          "state": {
            "_model_module": "@jupyter-widgets/base",
            "_model_module_version": "1.2.0",
            "_model_name": "LayoutModel",
            "_view_count": null,
            "_view_module": "@jupyter-widgets/base",
            "_view_module_version": "1.2.0",
            "_view_name": "LayoutView",
            "align_content": null,
            "align_items": null,
            "align_self": null,
            "border": null,
            "bottom": null,
            "display": null,
            "flex": null,
            "flex_flow": null,
            "grid_area": null,
            "grid_auto_columns": null,
            "grid_auto_flow": null,
            "grid_auto_rows": null,
            "grid_column": null,
            "grid_gap": null,
            "grid_row": null,
            "grid_template_areas": null,
            "grid_template_columns": null,
            "grid_template_rows": null,
            "height": null,
            "justify_content": null,
            "justify_items": null,
            "left": null,
            "margin": null,
            "max_height": null,
            "max_width": null,
            "min_height": null,
            "min_width": null,
            "object_fit": null,
            "object_position": null,
            "order": null,
            "overflow": null,
            "overflow_x": null,
            "overflow_y": null,
            "padding": null,
            "right": null,
            "top": null,
            "visibility": null,
            "width": null
          }
        },
        "8e688c6e21534096a4075c46cf4f0709": {
          "model_module": "@jupyter-widgets/controls",
          "model_name": "DescriptionStyleModel",
          "model_module_version": "1.5.0",
          "state": {
            "_model_module": "@jupyter-widgets/controls",
            "_model_module_version": "1.5.0",
            "_model_name": "DescriptionStyleModel",
            "_view_count": null,
            "_view_module": "@jupyter-widgets/base",
            "_view_module_version": "1.2.0",
            "_view_name": "StyleView",
            "description_width": ""
          }
        },
        "30c3d22b25a94a26a93b3d8289ef88a0": {
          "model_module": "@jupyter-widgets/base",
          "model_name": "LayoutModel",
          "model_module_version": "1.2.0",
          "state": {
            "_model_module": "@jupyter-widgets/base",
            "_model_module_version": "1.2.0",
            "_model_name": "LayoutModel",
            "_view_count": null,
            "_view_module": "@jupyter-widgets/base",
            "_view_module_version": "1.2.0",
            "_view_name": "LayoutView",
            "align_content": null,
            "align_items": null,
            "align_self": null,
            "border": null,
            "bottom": null,
            "display": null,
            "flex": null,
            "flex_flow": null,
            "grid_area": null,
            "grid_auto_columns": null,
            "grid_auto_flow": null,
            "grid_auto_rows": null,
            "grid_column": null,
            "grid_gap": null,
            "grid_row": null,
            "grid_template_areas": null,
            "grid_template_columns": null,
            "grid_template_rows": null,
            "height": null,
            "justify_content": null,
            "justify_items": null,
            "left": null,
            "margin": null,
            "max_height": null,
            "max_width": null,
            "min_height": null,
            "min_width": null,
            "object_fit": null,
            "object_position": null,
            "order": null,
            "overflow": null,
            "overflow_x": null,
            "overflow_y": null,
            "padding": null,
            "right": null,
            "top": null,
            "visibility": null,
            "width": null
          }
        },
        "351dce2e954e4aafadc393b08492a277": {
          "model_module": "@jupyter-widgets/controls",
          "model_name": "ProgressStyleModel",
          "model_module_version": "1.5.0",
          "state": {
            "_model_module": "@jupyter-widgets/controls",
            "_model_module_version": "1.5.0",
            "_model_name": "ProgressStyleModel",
            "_view_count": null,
            "_view_module": "@jupyter-widgets/base",
            "_view_module_version": "1.2.0",
            "_view_name": "StyleView",
            "bar_color": null,
            "description_width": ""
          }
        },
        "455eb0b98ccb4b60911a052e43f15d32": {
          "model_module": "@jupyter-widgets/controls",
          "model_name": "VBoxModel",
          "model_module_version": "1.5.0",
          "state": {
            "_dom_classes": [],
            "_model_module": "@jupyter-widgets/controls",
            "_model_module_version": "1.5.0",
            "_model_name": "VBoxModel",
            "_view_count": null,
            "_view_module": "@jupyter-widgets/controls",
            "_view_module_version": "1.5.0",
            "_view_name": "VBoxView",
            "box_style": "",
            "children": [
              "IPY_MODEL_fe9391544bae44bbb5a10debbf821961",
              "IPY_MODEL_78cbc4d4216741dc83f425cf6b9c8d92"
            ],
            "layout": "IPY_MODEL_c8067683cf2d45a1ac3ab598a3cd9567"
          }
        },
        "fe9391544bae44bbb5a10debbf821961": {
          "model_module": "@jupyter-widgets/controls",
          "model_name": "LabelModel",
          "model_module_version": "1.5.0",
          "state": {
            "_dom_classes": [],
            "_model_module": "@jupyter-widgets/controls",
            "_model_module_version": "1.5.0",
            "_model_name": "LabelModel",
            "_view_count": null,
            "_view_module": "@jupyter-widgets/controls",
            "_view_module_version": "1.5.0",
            "_view_name": "LabelView",
            "description": "",
            "description_tooltip": null,
            "layout": "IPY_MODEL_e1ef2d6832f54557ada3e7b6d4a45028",
            "placeholder": "​",
            "style": "IPY_MODEL_fc1d784229ca44ed99a18c051925f132",
            "value": "0.012 MB of 0.013 MB uploaded (0.000 MB deduped)\r"
          }
        },
        "78cbc4d4216741dc83f425cf6b9c8d92": {
          "model_module": "@jupyter-widgets/controls",
          "model_name": "FloatProgressModel",
          "model_module_version": "1.5.0",
          "state": {
            "_dom_classes": [],
            "_model_module": "@jupyter-widgets/controls",
            "_model_module_version": "1.5.0",
            "_model_name": "FloatProgressModel",
            "_view_count": null,
            "_view_module": "@jupyter-widgets/controls",
            "_view_module_version": "1.5.0",
            "_view_name": "ProgressView",
            "bar_style": "",
            "description": "",
            "description_tooltip": null,
            "layout": "IPY_MODEL_ac606b52ad944195b60f815ff4cc2c8f",
            "max": 1,
            "min": 0,
            "orientation": "horizontal",
            "style": "IPY_MODEL_117477c8c60343438bcdf6ee93199c16",
            "value": 0.8933700855940809
          }
        },
        "c8067683cf2d45a1ac3ab598a3cd9567": {
          "model_module": "@jupyter-widgets/base",
          "model_name": "LayoutModel",
          "model_module_version": "1.2.0",
          "state": {
            "_model_module": "@jupyter-widgets/base",
            "_model_module_version": "1.2.0",
            "_model_name": "LayoutModel",
            "_view_count": null,
            "_view_module": "@jupyter-widgets/base",
            "_view_module_version": "1.2.0",
            "_view_name": "LayoutView",
            "align_content": null,
            "align_items": null,
            "align_self": null,
            "border": null,
            "bottom": null,
            "display": null,
            "flex": null,
            "flex_flow": null,
            "grid_area": null,
            "grid_auto_columns": null,
            "grid_auto_flow": null,
            "grid_auto_rows": null,
            "grid_column": null,
            "grid_gap": null,
            "grid_row": null,
            "grid_template_areas": null,
            "grid_template_columns": null,
            "grid_template_rows": null,
            "height": null,
            "justify_content": null,
            "justify_items": null,
            "left": null,
            "margin": null,
            "max_height": null,
            "max_width": null,
            "min_height": null,
            "min_width": null,
            "object_fit": null,
            "object_position": null,
            "order": null,
            "overflow": null,
            "overflow_x": null,
            "overflow_y": null,
            "padding": null,
            "right": null,
            "top": null,
            "visibility": null,
            "width": null
          }
        },
        "e1ef2d6832f54557ada3e7b6d4a45028": {
          "model_module": "@jupyter-widgets/base",
          "model_name": "LayoutModel",
          "model_module_version": "1.2.0",
          "state": {
            "_model_module": "@jupyter-widgets/base",
            "_model_module_version": "1.2.0",
            "_model_name": "LayoutModel",
            "_view_count": null,
            "_view_module": "@jupyter-widgets/base",
            "_view_module_version": "1.2.0",
            "_view_name": "LayoutView",
            "align_content": null,
            "align_items": null,
            "align_self": null,
            "border": null,
            "bottom": null,
            "display": null,
            "flex": null,
            "flex_flow": null,
            "grid_area": null,
            "grid_auto_columns": null,
            "grid_auto_flow": null,
            "grid_auto_rows": null,
            "grid_column": null,
            "grid_gap": null,
            "grid_row": null,
            "grid_template_areas": null,
            "grid_template_columns": null,
            "grid_template_rows": null,
            "height": null,
            "justify_content": null,
            "justify_items": null,
            "left": null,
            "margin": null,
            "max_height": null,
            "max_width": null,
            "min_height": null,
            "min_width": null,
            "object_fit": null,
            "object_position": null,
            "order": null,
            "overflow": null,
            "overflow_x": null,
            "overflow_y": null,
            "padding": null,
            "right": null,
            "top": null,
            "visibility": null,
            "width": null
          }
        },
        "fc1d784229ca44ed99a18c051925f132": {
          "model_module": "@jupyter-widgets/controls",
          "model_name": "DescriptionStyleModel",
          "model_module_version": "1.5.0",
          "state": {
            "_model_module": "@jupyter-widgets/controls",
            "_model_module_version": "1.5.0",
            "_model_name": "DescriptionStyleModel",
            "_view_count": null,
            "_view_module": "@jupyter-widgets/base",
            "_view_module_version": "1.2.0",
            "_view_name": "StyleView",
            "description_width": ""
          }
        },
        "ac606b52ad944195b60f815ff4cc2c8f": {
          "model_module": "@jupyter-widgets/base",
          "model_name": "LayoutModel",
          "model_module_version": "1.2.0",
          "state": {
            "_model_module": "@jupyter-widgets/base",
            "_model_module_version": "1.2.0",
            "_model_name": "LayoutModel",
            "_view_count": null,
            "_view_module": "@jupyter-widgets/base",
            "_view_module_version": "1.2.0",
            "_view_name": "LayoutView",
            "align_content": null,
            "align_items": null,
            "align_self": null,
            "border": null,
            "bottom": null,
            "display": null,
            "flex": null,
            "flex_flow": null,
            "grid_area": null,
            "grid_auto_columns": null,
            "grid_auto_flow": null,
            "grid_auto_rows": null,
            "grid_column": null,
            "grid_gap": null,
            "grid_row": null,
            "grid_template_areas": null,
            "grid_template_columns": null,
            "grid_template_rows": null,
            "height": null,
            "justify_content": null,
            "justify_items": null,
            "left": null,
            "margin": null,
            "max_height": null,
            "max_width": null,
            "min_height": null,
            "min_width": null,
            "object_fit": null,
            "object_position": null,
            "order": null,
            "overflow": null,
            "overflow_x": null,
            "overflow_y": null,
            "padding": null,
            "right": null,
            "top": null,
            "visibility": null,
            "width": null
          }
        },
        "117477c8c60343438bcdf6ee93199c16": {
          "model_module": "@jupyter-widgets/controls",
          "model_name": "ProgressStyleModel",
          "model_module_version": "1.5.0",
          "state": {
            "_model_module": "@jupyter-widgets/controls",
            "_model_module_version": "1.5.0",
            "_model_name": "ProgressStyleModel",
            "_view_count": null,
            "_view_module": "@jupyter-widgets/base",
            "_view_module_version": "1.2.0",
            "_view_name": "StyleView",
            "bar_color": null,
            "description_width": ""
          }
        },
        "088a6e9fe63448a58d1a33131174d585": {
          "model_module": "@jupyter-widgets/controls",
          "model_name": "VBoxModel",
          "model_module_version": "1.5.0",
          "state": {
            "_dom_classes": [],
            "_model_module": "@jupyter-widgets/controls",
            "_model_module_version": "1.5.0",
            "_model_name": "VBoxModel",
            "_view_count": null,
            "_view_module": "@jupyter-widgets/controls",
            "_view_module_version": "1.5.0",
            "_view_name": "VBoxView",
            "box_style": "",
            "children": [
              "IPY_MODEL_f46aa30ffbe843578abf065deb3fe9c0",
              "IPY_MODEL_9438c9ad16734f5f8c489b0ec72d0a87"
            ],
            "layout": "IPY_MODEL_ecbe54cbbc164735a5ab98a78da18878"
          }
        },
        "f46aa30ffbe843578abf065deb3fe9c0": {
          "model_module": "@jupyter-widgets/controls",
          "model_name": "LabelModel",
          "model_module_version": "1.5.0",
          "state": {
            "_dom_classes": [],
            "_model_module": "@jupyter-widgets/controls",
            "_model_module_version": "1.5.0",
            "_model_name": "LabelModel",
            "_view_count": null,
            "_view_module": "@jupyter-widgets/controls",
            "_view_module_version": "1.5.0",
            "_view_name": "LabelView",
            "description": "",
            "description_tooltip": null,
            "layout": "IPY_MODEL_055232a39816439a9101156b974b5395",
            "placeholder": "​",
            "style": "IPY_MODEL_04095addeea64c9787cba09e23a33d83",
            "value": "0.011 MB of 0.012 MB uploaded (0.000 MB deduped)\r"
          }
        },
        "9438c9ad16734f5f8c489b0ec72d0a87": {
          "model_module": "@jupyter-widgets/controls",
          "model_name": "FloatProgressModel",
          "model_module_version": "1.5.0",
          "state": {
            "_dom_classes": [],
            "_model_module": "@jupyter-widgets/controls",
            "_model_module_version": "1.5.0",
            "_model_name": "FloatProgressModel",
            "_view_count": null,
            "_view_module": "@jupyter-widgets/controls",
            "_view_module_version": "1.5.0",
            "_view_name": "ProgressView",
            "bar_style": "",
            "description": "",
            "description_tooltip": null,
            "layout": "IPY_MODEL_01f708ef62c942929a70d2e9f5cbd2c3",
            "max": 1,
            "min": 0,
            "orientation": "horizontal",
            "style": "IPY_MODEL_0a62a0082ff64e4490edebb02bb37f59",
            "value": 0.8876886539492836
          }
        },
        "ecbe54cbbc164735a5ab98a78da18878": {
          "model_module": "@jupyter-widgets/base",
          "model_name": "LayoutModel",
          "model_module_version": "1.2.0",
          "state": {
            "_model_module": "@jupyter-widgets/base",
            "_model_module_version": "1.2.0",
            "_model_name": "LayoutModel",
            "_view_count": null,
            "_view_module": "@jupyter-widgets/base",
            "_view_module_version": "1.2.0",
            "_view_name": "LayoutView",
            "align_content": null,
            "align_items": null,
            "align_self": null,
            "border": null,
            "bottom": null,
            "display": null,
            "flex": null,
            "flex_flow": null,
            "grid_area": null,
            "grid_auto_columns": null,
            "grid_auto_flow": null,
            "grid_auto_rows": null,
            "grid_column": null,
            "grid_gap": null,
            "grid_row": null,
            "grid_template_areas": null,
            "grid_template_columns": null,
            "grid_template_rows": null,
            "height": null,
            "justify_content": null,
            "justify_items": null,
            "left": null,
            "margin": null,
            "max_height": null,
            "max_width": null,
            "min_height": null,
            "min_width": null,
            "object_fit": null,
            "object_position": null,
            "order": null,
            "overflow": null,
            "overflow_x": null,
            "overflow_y": null,
            "padding": null,
            "right": null,
            "top": null,
            "visibility": null,
            "width": null
          }
        },
        "055232a39816439a9101156b974b5395": {
          "model_module": "@jupyter-widgets/base",
          "model_name": "LayoutModel",
          "model_module_version": "1.2.0",
          "state": {
            "_model_module": "@jupyter-widgets/base",
            "_model_module_version": "1.2.0",
            "_model_name": "LayoutModel",
            "_view_count": null,
            "_view_module": "@jupyter-widgets/base",
            "_view_module_version": "1.2.0",
            "_view_name": "LayoutView",
            "align_content": null,
            "align_items": null,
            "align_self": null,
            "border": null,
            "bottom": null,
            "display": null,
            "flex": null,
            "flex_flow": null,
            "grid_area": null,
            "grid_auto_columns": null,
            "grid_auto_flow": null,
            "grid_auto_rows": null,
            "grid_column": null,
            "grid_gap": null,
            "grid_row": null,
            "grid_template_areas": null,
            "grid_template_columns": null,
            "grid_template_rows": null,
            "height": null,
            "justify_content": null,
            "justify_items": null,
            "left": null,
            "margin": null,
            "max_height": null,
            "max_width": null,
            "min_height": null,
            "min_width": null,
            "object_fit": null,
            "object_position": null,
            "order": null,
            "overflow": null,
            "overflow_x": null,
            "overflow_y": null,
            "padding": null,
            "right": null,
            "top": null,
            "visibility": null,
            "width": null
          }
        },
        "04095addeea64c9787cba09e23a33d83": {
          "model_module": "@jupyter-widgets/controls",
          "model_name": "DescriptionStyleModel",
          "model_module_version": "1.5.0",
          "state": {
            "_model_module": "@jupyter-widgets/controls",
            "_model_module_version": "1.5.0",
            "_model_name": "DescriptionStyleModel",
            "_view_count": null,
            "_view_module": "@jupyter-widgets/base",
            "_view_module_version": "1.2.0",
            "_view_name": "StyleView",
            "description_width": ""
          }
        },
        "01f708ef62c942929a70d2e9f5cbd2c3": {
          "model_module": "@jupyter-widgets/base",
          "model_name": "LayoutModel",
          "model_module_version": "1.2.0",
          "state": {
            "_model_module": "@jupyter-widgets/base",
            "_model_module_version": "1.2.0",
            "_model_name": "LayoutModel",
            "_view_count": null,
            "_view_module": "@jupyter-widgets/base",
            "_view_module_version": "1.2.0",
            "_view_name": "LayoutView",
            "align_content": null,
            "align_items": null,
            "align_self": null,
            "border": null,
            "bottom": null,
            "display": null,
            "flex": null,
            "flex_flow": null,
            "grid_area": null,
            "grid_auto_columns": null,
            "grid_auto_flow": null,
            "grid_auto_rows": null,
            "grid_column": null,
            "grid_gap": null,
            "grid_row": null,
            "grid_template_areas": null,
            "grid_template_columns": null,
            "grid_template_rows": null,
            "height": null,
            "justify_content": null,
            "justify_items": null,
            "left": null,
            "margin": null,
            "max_height": null,
            "max_width": null,
            "min_height": null,
            "min_width": null,
            "object_fit": null,
            "object_position": null,
            "order": null,
            "overflow": null,
            "overflow_x": null,
            "overflow_y": null,
            "padding": null,
            "right": null,
            "top": null,
            "visibility": null,
            "width": null
          }
        },
        "0a62a0082ff64e4490edebb02bb37f59": {
          "model_module": "@jupyter-widgets/controls",
          "model_name": "ProgressStyleModel",
          "model_module_version": "1.5.0",
          "state": {
            "_model_module": "@jupyter-widgets/controls",
            "_model_module_version": "1.5.0",
            "_model_name": "ProgressStyleModel",
            "_view_count": null,
            "_view_module": "@jupyter-widgets/base",
            "_view_module_version": "1.2.0",
            "_view_name": "StyleView",
            "bar_color": null,
            "description_width": ""
          }
        },
        "5454bfc69acf4cd6a564f4862549d99f": {
          "model_module": "@jupyter-widgets/controls",
          "model_name": "VBoxModel",
          "model_module_version": "1.5.0",
          "state": {
            "_dom_classes": [],
            "_model_module": "@jupyter-widgets/controls",
            "_model_module_version": "1.5.0",
            "_model_name": "VBoxModel",
            "_view_count": null,
            "_view_module": "@jupyter-widgets/controls",
            "_view_module_version": "1.5.0",
            "_view_name": "VBoxView",
            "box_style": "",
            "children": [
              "IPY_MODEL_ec30cc585c2f4d719d64b91a328d310b",
              "IPY_MODEL_cce6b4aa539b476cbcd1361f77faff5d"
            ],
            "layout": "IPY_MODEL_127de86dcb2f412d813fe14a17dee3ad"
          }
        },
        "ec30cc585c2f4d719d64b91a328d310b": {
          "model_module": "@jupyter-widgets/controls",
          "model_name": "LabelModel",
          "model_module_version": "1.5.0",
          "state": {
            "_dom_classes": [],
            "_model_module": "@jupyter-widgets/controls",
            "_model_module_version": "1.5.0",
            "_model_name": "LabelModel",
            "_view_count": null,
            "_view_module": "@jupyter-widgets/controls",
            "_view_module_version": "1.5.0",
            "_view_name": "LabelView",
            "description": "",
            "description_tooltip": null,
            "layout": "IPY_MODEL_1e16674614724f46b533519f197140b9",
            "placeholder": "​",
            "style": "IPY_MODEL_0aeb4e07036a4cdd9af75dff9d088113",
            "value": "0.010 MB of 0.013 MB uploaded (0.000 MB deduped)\r"
          }
        },
        "cce6b4aa539b476cbcd1361f77faff5d": {
          "model_module": "@jupyter-widgets/controls",
          "model_name": "FloatProgressModel",
          "model_module_version": "1.5.0",
          "state": {
            "_dom_classes": [],
            "_model_module": "@jupyter-widgets/controls",
            "_model_module_version": "1.5.0",
            "_model_name": "FloatProgressModel",
            "_view_count": null,
            "_view_module": "@jupyter-widgets/controls",
            "_view_module_version": "1.5.0",
            "_view_name": "ProgressView",
            "bar_style": "",
            "description": "",
            "description_tooltip": null,
            "layout": "IPY_MODEL_f94cd9af18c64a34aa143c899e3f2677",
            "max": 1,
            "min": 0,
            "orientation": "horizontal",
            "style": "IPY_MODEL_83f26372895546cdb9f057a777d933ca",
            "value": 0.7457565646307849
          }
        },
        "127de86dcb2f412d813fe14a17dee3ad": {
          "model_module": "@jupyter-widgets/base",
          "model_name": "LayoutModel",
          "model_module_version": "1.2.0",
          "state": {
            "_model_module": "@jupyter-widgets/base",
            "_model_module_version": "1.2.0",
            "_model_name": "LayoutModel",
            "_view_count": null,
            "_view_module": "@jupyter-widgets/base",
            "_view_module_version": "1.2.0",
            "_view_name": "LayoutView",
            "align_content": null,
            "align_items": null,
            "align_self": null,
            "border": null,
            "bottom": null,
            "display": null,
            "flex": null,
            "flex_flow": null,
            "grid_area": null,
            "grid_auto_columns": null,
            "grid_auto_flow": null,
            "grid_auto_rows": null,
            "grid_column": null,
            "grid_gap": null,
            "grid_row": null,
            "grid_template_areas": null,
            "grid_template_columns": null,
            "grid_template_rows": null,
            "height": null,
            "justify_content": null,
            "justify_items": null,
            "left": null,
            "margin": null,
            "max_height": null,
            "max_width": null,
            "min_height": null,
            "min_width": null,
            "object_fit": null,
            "object_position": null,
            "order": null,
            "overflow": null,
            "overflow_x": null,
            "overflow_y": null,
            "padding": null,
            "right": null,
            "top": null,
            "visibility": null,
            "width": null
          }
        },
        "1e16674614724f46b533519f197140b9": {
          "model_module": "@jupyter-widgets/base",
          "model_name": "LayoutModel",
          "model_module_version": "1.2.0",
          "state": {
            "_model_module": "@jupyter-widgets/base",
            "_model_module_version": "1.2.0",
            "_model_name": "LayoutModel",
            "_view_count": null,
            "_view_module": "@jupyter-widgets/base",
            "_view_module_version": "1.2.0",
            "_view_name": "LayoutView",
            "align_content": null,
            "align_items": null,
            "align_self": null,
            "border": null,
            "bottom": null,
            "display": null,
            "flex": null,
            "flex_flow": null,
            "grid_area": null,
            "grid_auto_columns": null,
            "grid_auto_flow": null,
            "grid_auto_rows": null,
            "grid_column": null,
            "grid_gap": null,
            "grid_row": null,
            "grid_template_areas": null,
            "grid_template_columns": null,
            "grid_template_rows": null,
            "height": null,
            "justify_content": null,
            "justify_items": null,
            "left": null,
            "margin": null,
            "max_height": null,
            "max_width": null,
            "min_height": null,
            "min_width": null,
            "object_fit": null,
            "object_position": null,
            "order": null,
            "overflow": null,
            "overflow_x": null,
            "overflow_y": null,
            "padding": null,
            "right": null,
            "top": null,
            "visibility": null,
            "width": null
          }
        },
        "0aeb4e07036a4cdd9af75dff9d088113": {
          "model_module": "@jupyter-widgets/controls",
          "model_name": "DescriptionStyleModel",
          "model_module_version": "1.5.0",
          "state": {
            "_model_module": "@jupyter-widgets/controls",
            "_model_module_version": "1.5.0",
            "_model_name": "DescriptionStyleModel",
            "_view_count": null,
            "_view_module": "@jupyter-widgets/base",
            "_view_module_version": "1.2.0",
            "_view_name": "StyleView",
            "description_width": ""
          }
        },
        "f94cd9af18c64a34aa143c899e3f2677": {
          "model_module": "@jupyter-widgets/base",
          "model_name": "LayoutModel",
          "model_module_version": "1.2.0",
          "state": {
            "_model_module": "@jupyter-widgets/base",
            "_model_module_version": "1.2.0",
            "_model_name": "LayoutModel",
            "_view_count": null,
            "_view_module": "@jupyter-widgets/base",
            "_view_module_version": "1.2.0",
            "_view_name": "LayoutView",
            "align_content": null,
            "align_items": null,
            "align_self": null,
            "border": null,
            "bottom": null,
            "display": null,
            "flex": null,
            "flex_flow": null,
            "grid_area": null,
            "grid_auto_columns": null,
            "grid_auto_flow": null,
            "grid_auto_rows": null,
            "grid_column": null,
            "grid_gap": null,
            "grid_row": null,
            "grid_template_areas": null,
            "grid_template_columns": null,
            "grid_template_rows": null,
            "height": null,
            "justify_content": null,
            "justify_items": null,
            "left": null,
            "margin": null,
            "max_height": null,
            "max_width": null,
            "min_height": null,
            "min_width": null,
            "object_fit": null,
            "object_position": null,
            "order": null,
            "overflow": null,
            "overflow_x": null,
            "overflow_y": null,
            "padding": null,
            "right": null,
            "top": null,
            "visibility": null,
            "width": null
          }
        },
        "83f26372895546cdb9f057a777d933ca": {
          "model_module": "@jupyter-widgets/controls",
          "model_name": "ProgressStyleModel",
          "model_module_version": "1.5.0",
          "state": {
            "_model_module": "@jupyter-widgets/controls",
            "_model_module_version": "1.5.0",
            "_model_name": "ProgressStyleModel",
            "_view_count": null,
            "_view_module": "@jupyter-widgets/base",
            "_view_module_version": "1.2.0",
            "_view_name": "StyleView",
            "bar_color": null,
            "description_width": ""
          }
        },
        "716e75a2a4e1428caae2e54601c0290b": {
          "model_module": "@jupyter-widgets/controls",
          "model_name": "VBoxModel",
          "model_module_version": "1.5.0",
          "state": {
            "_dom_classes": [],
            "_model_module": "@jupyter-widgets/controls",
            "_model_module_version": "1.5.0",
            "_model_name": "VBoxModel",
            "_view_count": null,
            "_view_module": "@jupyter-widgets/controls",
            "_view_module_version": "1.5.0",
            "_view_name": "VBoxView",
            "box_style": "",
            "children": [
              "IPY_MODEL_b24e4077082149418c043920f8f0d13a",
              "IPY_MODEL_14e8d8bbe547459a88f78de95e895c50"
            ],
            "layout": "IPY_MODEL_eb161da9ec674cc1b77813639f067880"
          }
        },
        "b24e4077082149418c043920f8f0d13a": {
          "model_module": "@jupyter-widgets/controls",
          "model_name": "LabelModel",
          "model_module_version": "1.5.0",
          "state": {
            "_dom_classes": [],
            "_model_module": "@jupyter-widgets/controls",
            "_model_module_version": "1.5.0",
            "_model_name": "LabelModel",
            "_view_count": null,
            "_view_module": "@jupyter-widgets/controls",
            "_view_module_version": "1.5.0",
            "_view_name": "LabelView",
            "description": "",
            "description_tooltip": null,
            "layout": "IPY_MODEL_3b69158c5ede4f7f8f4f6fa53575e1cc",
            "placeholder": "​",
            "style": "IPY_MODEL_546536457e084e989ab2ae7e4149454a",
            "value": "0.013 MB of 0.013 MB uploaded (0.000 MB deduped)\r"
          }
        },
        "14e8d8bbe547459a88f78de95e895c50": {
          "model_module": "@jupyter-widgets/controls",
          "model_name": "FloatProgressModel",
          "model_module_version": "1.5.0",
          "state": {
            "_dom_classes": [],
            "_model_module": "@jupyter-widgets/controls",
            "_model_module_version": "1.5.0",
            "_model_name": "FloatProgressModel",
            "_view_count": null,
            "_view_module": "@jupyter-widgets/controls",
            "_view_module_version": "1.5.0",
            "_view_name": "ProgressView",
            "bar_style": "",
            "description": "",
            "description_tooltip": null,
            "layout": "IPY_MODEL_8758ef960d7a45ae8269c29e44bf488b",
            "max": 1,
            "min": 0,
            "orientation": "horizontal",
            "style": "IPY_MODEL_db1442b2cac24b9ba647eb4124ec97c1",
            "value": 1
          }
        },
        "eb161da9ec674cc1b77813639f067880": {
          "model_module": "@jupyter-widgets/base",
          "model_name": "LayoutModel",
          "model_module_version": "1.2.0",
          "state": {
            "_model_module": "@jupyter-widgets/base",
            "_model_module_version": "1.2.0",
            "_model_name": "LayoutModel",
            "_view_count": null,
            "_view_module": "@jupyter-widgets/base",
            "_view_module_version": "1.2.0",
            "_view_name": "LayoutView",
            "align_content": null,
            "align_items": null,
            "align_self": null,
            "border": null,
            "bottom": null,
            "display": null,
            "flex": null,
            "flex_flow": null,
            "grid_area": null,
            "grid_auto_columns": null,
            "grid_auto_flow": null,
            "grid_auto_rows": null,
            "grid_column": null,
            "grid_gap": null,
            "grid_row": null,
            "grid_template_areas": null,
            "grid_template_columns": null,
            "grid_template_rows": null,
            "height": null,
            "justify_content": null,
            "justify_items": null,
            "left": null,
            "margin": null,
            "max_height": null,
            "max_width": null,
            "min_height": null,
            "min_width": null,
            "object_fit": null,
            "object_position": null,
            "order": null,
            "overflow": null,
            "overflow_x": null,
            "overflow_y": null,
            "padding": null,
            "right": null,
            "top": null,
            "visibility": null,
            "width": null
          }
        },
        "3b69158c5ede4f7f8f4f6fa53575e1cc": {
          "model_module": "@jupyter-widgets/base",
          "model_name": "LayoutModel",
          "model_module_version": "1.2.0",
          "state": {
            "_model_module": "@jupyter-widgets/base",
            "_model_module_version": "1.2.0",
            "_model_name": "LayoutModel",
            "_view_count": null,
            "_view_module": "@jupyter-widgets/base",
            "_view_module_version": "1.2.0",
            "_view_name": "LayoutView",
            "align_content": null,
            "align_items": null,
            "align_self": null,
            "border": null,
            "bottom": null,
            "display": null,
            "flex": null,
            "flex_flow": null,
            "grid_area": null,
            "grid_auto_columns": null,
            "grid_auto_flow": null,
            "grid_auto_rows": null,
            "grid_column": null,
            "grid_gap": null,
            "grid_row": null,
            "grid_template_areas": null,
            "grid_template_columns": null,
            "grid_template_rows": null,
            "height": null,
            "justify_content": null,
            "justify_items": null,
            "left": null,
            "margin": null,
            "max_height": null,
            "max_width": null,
            "min_height": null,
            "min_width": null,
            "object_fit": null,
            "object_position": null,
            "order": null,
            "overflow": null,
            "overflow_x": null,
            "overflow_y": null,
            "padding": null,
            "right": null,
            "top": null,
            "visibility": null,
            "width": null
          }
        },
        "546536457e084e989ab2ae7e4149454a": {
          "model_module": "@jupyter-widgets/controls",
          "model_name": "DescriptionStyleModel",
          "model_module_version": "1.5.0",
          "state": {
            "_model_module": "@jupyter-widgets/controls",
            "_model_module_version": "1.5.0",
            "_model_name": "DescriptionStyleModel",
            "_view_count": null,
            "_view_module": "@jupyter-widgets/base",
            "_view_module_version": "1.2.0",
            "_view_name": "StyleView",
            "description_width": ""
          }
        },
        "8758ef960d7a45ae8269c29e44bf488b": {
          "model_module": "@jupyter-widgets/base",
          "model_name": "LayoutModel",
          "model_module_version": "1.2.0",
          "state": {
            "_model_module": "@jupyter-widgets/base",
            "_model_module_version": "1.2.0",
            "_model_name": "LayoutModel",
            "_view_count": null,
            "_view_module": "@jupyter-widgets/base",
            "_view_module_version": "1.2.0",
            "_view_name": "LayoutView",
            "align_content": null,
            "align_items": null,
            "align_self": null,
            "border": null,
            "bottom": null,
            "display": null,
            "flex": null,
            "flex_flow": null,
            "grid_area": null,
            "grid_auto_columns": null,
            "grid_auto_flow": null,
            "grid_auto_rows": null,
            "grid_column": null,
            "grid_gap": null,
            "grid_row": null,
            "grid_template_areas": null,
            "grid_template_columns": null,
            "grid_template_rows": null,
            "height": null,
            "justify_content": null,
            "justify_items": null,
            "left": null,
            "margin": null,
            "max_height": null,
            "max_width": null,
            "min_height": null,
            "min_width": null,
            "object_fit": null,
            "object_position": null,
            "order": null,
            "overflow": null,
            "overflow_x": null,
            "overflow_y": null,
            "padding": null,
            "right": null,
            "top": null,
            "visibility": null,
            "width": null
          }
        },
        "db1442b2cac24b9ba647eb4124ec97c1": {
          "model_module": "@jupyter-widgets/controls",
          "model_name": "ProgressStyleModel",
          "model_module_version": "1.5.0",
          "state": {
            "_model_module": "@jupyter-widgets/controls",
            "_model_module_version": "1.5.0",
            "_model_name": "ProgressStyleModel",
            "_view_count": null,
            "_view_module": "@jupyter-widgets/base",
            "_view_module_version": "1.2.0",
            "_view_name": "StyleView",
            "bar_color": null,
            "description_width": ""
          }
        },
        "ae437ad0f65242119561f062f89a33c8": {
          "model_module": "@jupyter-widgets/controls",
          "model_name": "VBoxModel",
          "model_module_version": "1.5.0",
          "state": {
            "_dom_classes": [],
            "_model_module": "@jupyter-widgets/controls",
            "_model_module_version": "1.5.0",
            "_model_name": "VBoxModel",
            "_view_count": null,
            "_view_module": "@jupyter-widgets/controls",
            "_view_module_version": "1.5.0",
            "_view_name": "VBoxView",
            "box_style": "",
            "children": [
              "IPY_MODEL_fecd30bc8b414f978a3cdd66bdb82464",
              "IPY_MODEL_a3766e9186634fd7a9e7f0e8211a5d69"
            ],
            "layout": "IPY_MODEL_ab6f228d2f1e4886bfccc7a1bdd16fd2"
          }
        },
        "fecd30bc8b414f978a3cdd66bdb82464": {
          "model_module": "@jupyter-widgets/controls",
          "model_name": "LabelModel",
          "model_module_version": "1.5.0",
          "state": {
            "_dom_classes": [],
            "_model_module": "@jupyter-widgets/controls",
            "_model_module_version": "1.5.0",
            "_model_name": "LabelModel",
            "_view_count": null,
            "_view_module": "@jupyter-widgets/controls",
            "_view_module_version": "1.5.0",
            "_view_name": "LabelView",
            "description": "",
            "description_tooltip": null,
            "layout": "IPY_MODEL_804063d178a24587b4d06dcda31b1aee",
            "placeholder": "​",
            "style": "IPY_MODEL_9d202060db42452bb26e35128fdc6065",
            "value": "0.013 MB of 0.013 MB uploaded (0.000 MB deduped)\r"
          }
        },
        "a3766e9186634fd7a9e7f0e8211a5d69": {
          "model_module": "@jupyter-widgets/controls",
          "model_name": "FloatProgressModel",
          "model_module_version": "1.5.0",
          "state": {
            "_dom_classes": [],
            "_model_module": "@jupyter-widgets/controls",
            "_model_module_version": "1.5.0",
            "_model_name": "FloatProgressModel",
            "_view_count": null,
            "_view_module": "@jupyter-widgets/controls",
            "_view_module_version": "1.5.0",
            "_view_name": "ProgressView",
            "bar_style": "",
            "description": "",
            "description_tooltip": null,
            "layout": "IPY_MODEL_21d10aac279c4fdbaa9e3f516a96b93d",
            "max": 1,
            "min": 0,
            "orientation": "horizontal",
            "style": "IPY_MODEL_83ea24c1cccf4606a0539954759d748a",
            "value": 1
          }
        },
        "ab6f228d2f1e4886bfccc7a1bdd16fd2": {
          "model_module": "@jupyter-widgets/base",
          "model_name": "LayoutModel",
          "model_module_version": "1.2.0",
          "state": {
            "_model_module": "@jupyter-widgets/base",
            "_model_module_version": "1.2.0",
            "_model_name": "LayoutModel",
            "_view_count": null,
            "_view_module": "@jupyter-widgets/base",
            "_view_module_version": "1.2.0",
            "_view_name": "LayoutView",
            "align_content": null,
            "align_items": null,
            "align_self": null,
            "border": null,
            "bottom": null,
            "display": null,
            "flex": null,
            "flex_flow": null,
            "grid_area": null,
            "grid_auto_columns": null,
            "grid_auto_flow": null,
            "grid_auto_rows": null,
            "grid_column": null,
            "grid_gap": null,
            "grid_row": null,
            "grid_template_areas": null,
            "grid_template_columns": null,
            "grid_template_rows": null,
            "height": null,
            "justify_content": null,
            "justify_items": null,
            "left": null,
            "margin": null,
            "max_height": null,
            "max_width": null,
            "min_height": null,
            "min_width": null,
            "object_fit": null,
            "object_position": null,
            "order": null,
            "overflow": null,
            "overflow_x": null,
            "overflow_y": null,
            "padding": null,
            "right": null,
            "top": null,
            "visibility": null,
            "width": null
          }
        },
        "804063d178a24587b4d06dcda31b1aee": {
          "model_module": "@jupyter-widgets/base",
          "model_name": "LayoutModel",
          "model_module_version": "1.2.0",
          "state": {
            "_model_module": "@jupyter-widgets/base",
            "_model_module_version": "1.2.0",
            "_model_name": "LayoutModel",
            "_view_count": null,
            "_view_module": "@jupyter-widgets/base",
            "_view_module_version": "1.2.0",
            "_view_name": "LayoutView",
            "align_content": null,
            "align_items": null,
            "align_self": null,
            "border": null,
            "bottom": null,
            "display": null,
            "flex": null,
            "flex_flow": null,
            "grid_area": null,
            "grid_auto_columns": null,
            "grid_auto_flow": null,
            "grid_auto_rows": null,
            "grid_column": null,
            "grid_gap": null,
            "grid_row": null,
            "grid_template_areas": null,
            "grid_template_columns": null,
            "grid_template_rows": null,
            "height": null,
            "justify_content": null,
            "justify_items": null,
            "left": null,
            "margin": null,
            "max_height": null,
            "max_width": null,
            "min_height": null,
            "min_width": null,
            "object_fit": null,
            "object_position": null,
            "order": null,
            "overflow": null,
            "overflow_x": null,
            "overflow_y": null,
            "padding": null,
            "right": null,
            "top": null,
            "visibility": null,
            "width": null
          }
        },
        "9d202060db42452bb26e35128fdc6065": {
          "model_module": "@jupyter-widgets/controls",
          "model_name": "DescriptionStyleModel",
          "model_module_version": "1.5.0",
          "state": {
            "_model_module": "@jupyter-widgets/controls",
            "_model_module_version": "1.5.0",
            "_model_name": "DescriptionStyleModel",
            "_view_count": null,
            "_view_module": "@jupyter-widgets/base",
            "_view_module_version": "1.2.0",
            "_view_name": "StyleView",
            "description_width": ""
          }
        },
        "21d10aac279c4fdbaa9e3f516a96b93d": {
          "model_module": "@jupyter-widgets/base",
          "model_name": "LayoutModel",
          "model_module_version": "1.2.0",
          "state": {
            "_model_module": "@jupyter-widgets/base",
            "_model_module_version": "1.2.0",
            "_model_name": "LayoutModel",
            "_view_count": null,
            "_view_module": "@jupyter-widgets/base",
            "_view_module_version": "1.2.0",
            "_view_name": "LayoutView",
            "align_content": null,
            "align_items": null,
            "align_self": null,
            "border": null,
            "bottom": null,
            "display": null,
            "flex": null,
            "flex_flow": null,
            "grid_area": null,
            "grid_auto_columns": null,
            "grid_auto_flow": null,
            "grid_auto_rows": null,
            "grid_column": null,
            "grid_gap": null,
            "grid_row": null,
            "grid_template_areas": null,
            "grid_template_columns": null,
            "grid_template_rows": null,
            "height": null,
            "justify_content": null,
            "justify_items": null,
            "left": null,
            "margin": null,
            "max_height": null,
            "max_width": null,
            "min_height": null,
            "min_width": null,
            "object_fit": null,
            "object_position": null,
            "order": null,
            "overflow": null,
            "overflow_x": null,
            "overflow_y": null,
            "padding": null,
            "right": null,
            "top": null,
            "visibility": null,
            "width": null
          }
        },
        "83ea24c1cccf4606a0539954759d748a": {
          "model_module": "@jupyter-widgets/controls",
          "model_name": "ProgressStyleModel",
          "model_module_version": "1.5.0",
          "state": {
            "_model_module": "@jupyter-widgets/controls",
            "_model_module_version": "1.5.0",
            "_model_name": "ProgressStyleModel",
            "_view_count": null,
            "_view_module": "@jupyter-widgets/base",
            "_view_module_version": "1.2.0",
            "_view_name": "StyleView",
            "bar_color": null,
            "description_width": ""
          }
        }
      }
    }
  },
  "nbformat": 4,
  "nbformat_minor": 0
}