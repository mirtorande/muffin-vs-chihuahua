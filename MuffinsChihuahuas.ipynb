{
  "cells": [
    {
      "cell_type": "markdown",
      "metadata": {
        "id": "view-in-github",
        "colab_type": "text"
      },
      "source": [
        "<a href=\"https://colab.research.google.com/github/mirtorande/muffin-vs-chihuahua/blob/main/MuffinsChihuahuas.ipynb\" target=\"_parent\"><img src=\"https://colab.research.google.com/assets/colab-badge.svg\" alt=\"Open In Colab\"/></a>"
      ]
    },
    {
      "cell_type": "markdown",
      "metadata": {
        "id": "d-UYPRw5OWLS"
      },
      "source": [
        "## Setup"
      ]
    },
    {
      "cell_type": "code",
      "source": [
        "! pip install -qq wandb\n",
        "import wandb\n",
        "from wandb.keras import WandbMetricsLogger\n",
        "wandb.login()\n",
        "import tensorflow as tf\n",
        "from tensorflow import keras\n",
        "from tensorflow.keras import layers\n",
        "import matplotlib.pyplot as plt\n",
        "import os\n",
        "from tqdm.auto import tqdm\n",
        "from tensorflow.keras.utils import plot_model\n",
        "import numpy as np\n",
        "from sklearn.model_selection import StratifiedKFold"
      ],
      "metadata": {
        "colab": {
          "base_uri": "https://localhost:8080/"
        },
        "id": "jX3ONMhsDk7T",
        "outputId": "1fc56062-468f-4362-d932-0ae28d3decd5"
      },
      "execution_count": null,
      "outputs": [
        {
          "output_type": "stream",
          "name": "stderr",
          "text": [
            "\u001b[34m\u001b[1mwandb\u001b[0m: Currently logged in as: \u001b[33mmirtorande\u001b[0m (\u001b[33mminigi\u001b[0m). Use \u001b[1m`wandb login --relogin`\u001b[0m to force relogin\n"
          ]
        }
      ]
    },
    {
      "cell_type": "code",
      "source": [
        "# Define a config dictionary object\n",
        "configs = dict(\n",
        "    image_size = 64,\n",
        "    #batch_size=1024,\n",
        "    #init_learning_rate = 3e-4,\n",
        "    epochs = 50,\n",
        "    optimizer = 'adam',\n",
        "    loss_fn = 'binary_crossentropy',\n",
        "    metrics = ['acc'],\n",
        ")"
      ],
      "metadata": {
        "id": "34tOTS_s_l1R"
      },
      "execution_count": null,
      "outputs": []
    },
    {
      "cell_type": "markdown",
      "metadata": {
        "id": "05LIIOopOWLV"
      },
      "source": [
        "## Load the data: the Muffins vs Chihuahuas dataset"
      ]
    },
    {
      "cell_type": "markdown",
      "metadata": {
        "id": "zmqOEOyYOWLV"
      },
      "source": [
        "### Data download\n"
      ]
    },
    {
      "cell_type": "code",
      "source": [
        "from google.colab import drive\n",
        "drive.mount('/content/drive')"
      ],
      "metadata": {
        "id": "VyakI2wNWVvh",
        "outputId": "e8b8e68d-b6d1-43aa-eeb9-24d666f8b67d",
        "colab": {
          "base_uri": "https://localhost:8080/"
        }
      },
      "execution_count": null,
      "outputs": [
        {
          "output_type": "stream",
          "name": "stdout",
          "text": [
            "Drive already mounted at /content/drive; to attempt to forcibly remount, call drive.mount(\"/content/drive\", force_remount=True).\n"
          ]
        }
      ]
    },
    {
      "cell_type": "code",
      "source": [
        "dataset_path = \"/content/drive/My Drive/Datasets/archive\""
      ],
      "metadata": {
        "id": "zS4nkIlmXlwg"
      },
      "execution_count": null,
      "outputs": []
    },
    {
      "cell_type": "markdown",
      "metadata": {
        "id": "_OzI0KLSOWLW"
      },
      "source": [
        "### Filter out the corrupted images"
      ]
    },
    {
      "cell_type": "code",
      "execution_count": null,
      "metadata": {
        "id": "iIXy-185OWLX",
        "outputId": "3ed6ffc2-3cc4-40d0-ae59-55da18798e29",
        "colab": {
          "base_uri": "https://localhost:8080/",
          "height": 71
        }
      },
      "outputs": [
        {
          "output_type": "execute_result",
          "data": {
            "text/plain": [
              "'num_skipped = 0\\nfor folder_name in (\\'test/chihuahua\\', \\'train/chihuahua\\', \\'test/muffin\\', \\'train/muffin\\'):\\n    folder_path = os.path.join(dataset_path, folder_name)\\n    for fname in tqdm(os.listdir(folder_path)):\\n        fpath = os.path.join(folder_path, fname)\\n        try:\\n            fobj = open(fpath, \"rb\")\\n            is_jfif = tf.compat.as_bytes(\"JFIF\") in fobj.peek(10)\\n        finally:\\n            fobj.close()\\n\\n        if not is_jfif:\\n            num_skipped += 1\\n            # Delete corrupted image\\n            os.remove(fpath)\\n\\nprint(\"Deleted %d images\" % num_skipped)'"
            ],
            "application/vnd.google.colaboratory.intrinsic+json": {
              "type": "string"
            }
          },
          "metadata": {},
          "execution_count": 5
        }
      ],
      "source": [
        "\"\"\"num_skipped = 0\n",
        "for folder_name in ('test/chihuahua', 'train/chihuahua', 'test/muffin', 'train/muffin'):\n",
        "    folder_path = os.path.join(dataset_path, folder_name)\n",
        "    for fname in tqdm(os.listdir(folder_path)):\n",
        "        fpath = os.path.join(folder_path, fname)\n",
        "        try:\n",
        "            fobj = open(fpath, \"rb\")\n",
        "            is_jfif = tf.compat.as_bytes(\"JFIF\") in fobj.peek(10)\n",
        "        finally:\n",
        "            fobj.close()\n",
        "\n",
        "        if not is_jfif:\n",
        "            num_skipped += 1\n",
        "            # Delete corrupted image\n",
        "            os.remove(fpath)\n",
        "\n",
        "print(\"Deleted %d images\" % num_skipped)\"\"\"\n"
      ]
    },
    {
      "cell_type": "markdown",
      "metadata": {
        "id": "dJXQNBbxOWLX"
      },
      "source": [
        "### Generate a Dataset"
      ]
    },
    {
      "cell_type": "code",
      "execution_count": null,
      "metadata": {
        "id": "TVT_hk0aOWLY"
      },
      "outputs": [],
      "source": [
        "def load_datasets(config, use_val=True):\n",
        "  \"\"\"\n",
        "  Loads Training and Test datasets\n",
        "  \"\"\"\n",
        "  image_size = (config['image_size'], config['image_size']) # (224, 224) originally\n",
        "  batch_size = config['batch_size']\n",
        "\n",
        "  if use_val:\n",
        "    train_ds, val_ds = tf.keras.utils.image_dataset_from_directory(\n",
        "        dataset_path + '/train',\n",
        "        image_size=image_size,\n",
        "        batch_size=batch_size,\n",
        "        validation_split = 0.2,\n",
        "        subset='both',\n",
        "        shuffle=True,\n",
        "        seed=1337\n",
        "    )\n",
        "  else:\n",
        "    train_ds = tf.keras.utils.image_dataset_from_directory(\n",
        "        dataset_path + '/train',\n",
        "        image_size=image_size,\n",
        "        batch_size=batch_size,\n",
        "        shuffle=True,\n",
        "        seed=1337\n",
        "    )\n",
        "    val_ds = None\n",
        "\n",
        "  test_ds = tf.keras.utils.image_dataset_from_directory(\n",
        "      dataset_path + '/test',\n",
        "      image_size=image_size,\n",
        "      batch_size=batch_size,\n",
        "      shuffle=False\n",
        "  )\n",
        "  return train_ds, val_ds, test_ds"
      ]
    },
    {
      "cell_type": "markdown",
      "metadata": {
        "id": "P8BWsRK8OWLZ"
      },
      "source": [
        "## Visualize the data"
      ]
    },
    {
      "cell_type": "code",
      "source": [
        "def print_class_counts(dataset):\n",
        "  n_muf=0\n",
        "  n_chi = 0\n",
        "  for images, labels in tqdm(dataset):\n",
        "    for label in labels:\n",
        "      if label == 0:\n",
        "        n_chi += 1\n",
        "      else:\n",
        "        n_muf += 1\n",
        "\n",
        "  print(n_muf, n_chi)"
      ],
      "metadata": {
        "id": "Owbg5GE-cBL2"
      },
      "execution_count": null,
      "outputs": []
    },
    {
      "cell_type": "code",
      "execution_count": null,
      "metadata": {
        "id": "2OwqYu0XOWLZ"
      },
      "outputs": [],
      "source": [
        "def show_sample_figures(dataset):\n",
        "  plt.figure(figsize=(10, 10))\n",
        "  for images, labels in dataset.take(1):\n",
        "      for i in range(9):\n",
        "          ax = plt.subplot(3, 3, i + 1)\n",
        "          plt.imshow(images[i].numpy().astype(\"uint8\"))\n",
        "          plt.title(int(labels[i]))\n",
        "          plt.axis(\"off\")"
      ]
    },
    {
      "cell_type": "markdown",
      "metadata": {
        "id": "XGPFSx1wOWLZ"
      },
      "source": [
        "## Using image data augmentation"
      ]
    },
    {
      "cell_type": "code",
      "execution_count": null,
      "metadata": {
        "id": "2b53EppWOWLa"
      },
      "outputs": [],
      "source": [
        "def augment_dataset(dataset, show_preview=False):\n",
        "  data_augmentation = keras.Sequential(\n",
        "      [\n",
        "          layers.RandomFlip(\"horizontal\"),\n",
        "          layers.RandomRotation(0.1),\n",
        "      ]\n",
        "  )\n",
        "\n",
        "  # Show augmentation preview\n",
        "  if show_preview:\n",
        "    plt.figure(figsize=(10, 10))\n",
        "    for images, _ in dataset.take(1):\n",
        "        for i in range(9):\n",
        "            augmented_images = data_augmentation(images)\n",
        "            ax = plt.subplot(3, 3, i + 1)\n",
        "            plt.imshow(augmented_images[1].numpy().astype(\"uint8\"))\n",
        "            plt.axis(\"off\")\n",
        "\n",
        "  # Apply `data_augmentation` to the training images.\n",
        "  dataset = dataset.map(\n",
        "    lambda img, label: (data_augmentation(img), label),\n",
        "    num_parallel_calls=tf.data.AUTOTUNE,\n",
        "  )\n",
        "\n",
        "  return dataset"
      ]
    },
    {
      "cell_type": "code",
      "source": [
        "def prefetch_datasets(*args):\n",
        "  # Prefetching samples in GPU memory helps maximize GPU utilization.\n",
        "  for i in range(len(args)):\n",
        "    args[i] = args[i].prefetch(tf.data.AUTOTUNE)\n",
        "  return args"
      ],
      "metadata": {
        "id": "0UDRrdhB9CEd"
      },
      "execution_count": null,
      "outputs": []
    },
    {
      "cell_type": "markdown",
      "metadata": {
        "id": "1QmlepllOWLb"
      },
      "source": [
        "# Build the model"
      ]
    },
    {
      "cell_type": "code",
      "execution_count": null,
      "metadata": {
        "id": "CSJDCoF9OWLb"
      },
      "outputs": [],
      "source": [
        "def make_model(config, input_shape, num_classes):\n",
        "  inputs = keras.Input(shape=input_shape)\n",
        "\n",
        "  # Entry block\n",
        "  x = layers.Rescaling(1.0 / 255)(inputs)\n",
        "  x = layers.Conv2D(128, 3, strides=2, padding=\"same\")(x)\n",
        "  x = layers.BatchNormalization()(x)\n",
        "  x = layers.Activation(\"relu\")(x)\n",
        "\n",
        "  previous_block_activation = x  # Set aside residual\n",
        "\n",
        "  for size in [256, 512, 728]:\n",
        "      x = layers.Activation(\"relu\")(x)\n",
        "      x = layers.SeparableConv2D(size, 3, padding=\"same\")(x)\n",
        "      x = layers.BatchNormalization()(x)\n",
        "\n",
        "      x = layers.Activation(\"relu\")(x)\n",
        "      x = layers.SeparableConv2D(size, 3, padding=\"same\")(x)\n",
        "      x = layers.BatchNormalization()(x)\n",
        "\n",
        "      x = layers.MaxPooling2D(3, strides=2, padding=\"same\")(x)\n",
        "\n",
        "      # Project residual\n",
        "      residual = layers.Conv2D(size, 1, strides=2, padding=\"same\")(\n",
        "          previous_block_activation\n",
        "      )\n",
        "      x = layers.add([x, residual])  # Add back residual\n",
        "      previous_block_activation = x  # Set aside next residual\n",
        "\n",
        "  x = layers.SeparableConv2D(1024, 3, padding=\"same\")(x)\n",
        "  x = layers.BatchNormalization()(x)\n",
        "  x = layers.Activation(\"relu\")(x)\n",
        "\n",
        "  x = layers.GlobalAveragePooling2D()(x)\n",
        "  if num_classes == 2:\n",
        "      activation = \"sigmoid\"\n",
        "      units = 1\n",
        "  else:\n",
        "      activation = \"softmax\"\n",
        "      units = num_classes\n",
        "\n",
        "  x = layers.Dropout(config['dropout'])(x)\n",
        "  outputs = layers.Dense(units, activation=activation)(x)\n",
        "\n",
        "  return keras.Model(inputs, outputs)"
      ]
    },
    {
      "cell_type": "markdown",
      "metadata": {
        "id": "E6nu933hOWLc"
      },
      "source": [
        "# Train the model"
      ]
    },
    {
      "cell_type": "code",
      "execution_count": null,
      "metadata": {
        "id": "HjtnZN3cOWLc"
      },
      "outputs": [],
      "source": [
        "def train_model(config, train_ds, test_ds):\n",
        "  model = make_model(config, input_shape=(config.image_size, config.image_size) + (3,), num_classes=2)\n",
        "  keras.utils.plot_model(model, show_shapes=True)\n",
        "\n",
        "  epochs = config.epochs\n",
        "\n",
        "  model.compile(\n",
        "      optimizer=keras.optimizers.Adam(config.init_learning_rate),\n",
        "      loss=config.loss_fn,\n",
        "      metrics=[\"accuracy\"],\n",
        "  )\n",
        "\n",
        "  callbacks = [tf.keras.callbacks.EarlyStopping(monitor='val_accuracy', patience=3, start_from_epoch=5), WandbMetricsLogger(log_freq=2)]\n",
        "\n",
        "  history = model.fit(\n",
        "      train_ds,\n",
        "      epochs=epochs,\n",
        "      callbacks=callbacks,\n",
        "      validation_data=test_ds,\n",
        "  )\n",
        "  return history"
      ]
    },
    {
      "cell_type": "markdown",
      "source": [
        "# Objective"
      ],
      "metadata": {
        "id": "1M83TSSE-Dj8"
      }
    },
    {
      "cell_type": "code",
      "source": [
        "def objective(config):\n",
        "  train, val, _ = load_datasets(config)\n",
        "  print_class_counts(train)\n",
        "  show_sample_figures(train)\n",
        "  train = augment_dataset(train, show_preview=True)\n",
        "  train, val = prefetch_datasets(train, val)\n",
        "  history = train_model(config, train, val)\n",
        "  return max(history.history['val_accuracy'])"
      ],
      "metadata": {
        "id": "TKsdWF-PIU7M"
      },
      "execution_count": null,
      "outputs": []
    },
    {
      "cell_type": "code",
      "source": [
        "def objective_5fold(config):\n",
        "  train, _, _ = load_datasets(config, use_val=False)\n",
        "  print_class_counts(train)\n",
        "  show_sample_figures(train)\n",
        "  train = augment_dataset(train, show_preview=True)\n",
        "\n",
        "  #TODO: trovare una versione più veloce\n",
        "  train_x = np.concatenate([x for x, y in train], axis=0)\n",
        "  train_y = np.concatenate([y for x, y in train], axis=0)\n",
        "\n",
        "  accuracies = []\n",
        "\n",
        "  for train_indexes, val_indexes in StratifiedKFold(n_splits=5).split(train_x, train_y):\n",
        "    model = make_model(config, input_shape=(config.image_size, config.image_size) + (3,), num_classes=2)\n",
        "\n",
        "    epochs = config.epochs\n",
        "\n",
        "    model.compile(\n",
        "        optimizer=keras.optimizers.Adam(config.init_learning_rate),\n",
        "        loss=config.loss_fn,\n",
        "        metrics=[\"accuracy\"],\n",
        "    )\n",
        "\n",
        "    callbacks = [tf.keras.callbacks.EarlyStopping(monitor='val_accuracy', patience=3, start_from_epoch=5), WandbMetricsLogger(log_freq=2)]\n",
        "\n",
        "    history = model.fit(\n",
        "        train_x[train_indexes], train_y[train_indexes],\n",
        "        epochs=epochs,\n",
        "        callbacks=callbacks,\n",
        "        validation_data=(train_x[val_indexes], train_y[val_indexes]),\n",
        "    )\n",
        "    accuracies.append(max(history.history['val_accuracy']))\n",
        "\n",
        "  return np.mean(accuracies)"
      ],
      "metadata": {
        "id": "ixBxpjDFp3xN"
      },
      "execution_count": null,
      "outputs": []
    },
    {
      "cell_type": "code",
      "source": [
        "def main():\n",
        "    wandb.init()\n",
        "    val_accuracy = objective_5fold(wandb.config)\n",
        "    wandb.log({'val_accuracy': val_accuracy})\n",
        "\n",
        "# 2: Define the search space\n",
        "sweep_configuration = {\n",
        "    'method': 'bayes',\n",
        "    'metric':\n",
        "    {\n",
        "        'goal': 'maximize',\n",
        "        'name': 'val_accuracy'\n",
        "    },\n",
        "    'parameters':\n",
        "    {\n",
        "        'init_learning_rate': {\n",
        "            'distribution': 'log_uniform_values', 'max': 1e-2, 'min': 1e-5\n",
        "        },\n",
        "        'batch_size': {\n",
        "          # integers between 32 and 1024\n",
        "          # with evenly-distributed logarithms\n",
        "          'distribution': 'q_log_uniform_values',\n",
        "          'q': 32,\n",
        "          'min': 32,\n",
        "          'max': 1024,\n",
        "        },\n",
        "        'dropout': {\n",
        "          'values': [0.2, 0.3, 0.4, 0.5, 0.7]\n",
        "        },\n",
        "    }\n",
        "}\n",
        "sweep_configuration['parameters'].update({attribute:{'value':value} for attribute, value in configs.items()})\n",
        "\n",
        "# 3: Start the sweep\n",
        "sweep_id = wandb.sweep(\n",
        "    sweep=sweep_configuration,\n",
        "    project='MuffinChihuahuas'\n",
        ")\n",
        "\n",
        "wandb.agent(sweep_id, function=main, count=10)"
      ],
      "metadata": {
        "colab": {
          "base_uri": "https://localhost:8080/",
          "height": 1000,
          "referenced_widgets": [
            "eba917af608545c7bb3d85c21e980f9e",
            "748ff5e75d5c4c588f95856839a6f898",
            "e8ebf5f59b0f45beba413ff334f0ea3f",
            "1090f4d118bd4164ac163d1817df945a",
            "36c40ae603f34720b4196e43ce09e72b",
            "bc181a44197042758f2c4000c52a75a9",
            "e1bf62ea0c304959ac339c6002a2aeeb",
            "b45231af00fc4f17b2bf0edd1257c8bb",
            "c6dcaabe5a7e4ad8afa1c193fff46a88",
            "2f9b6ae0c35c4d5c8e74c79865b71b54",
            "f682124841844d68b6772bebd7fa1925",
            "811d0c4710fa4318a0d1df7ace7a2096",
            "4771629c480f4d889468b0caa7755c95",
            "a5d28383cc0947e289cbf78811ccfb00",
            "97697e99cbcd431d95bed32351b17356",
            "2f20d77ea1944a1e9b92f787afa52e71",
            "22ef852925b141b8abe9ebbfcd5f5c65",
            "2b36b98969184e03b339570e920d5a4c",
            "730e9bd3e76648aea368b4b0e2851de7",
            "64c93980ce37424c86e622ee033fdc6b",
            "91a7739281964f9fb5c9b0b7dc8dab67",
            "803605f4aab94ee99f6d78711ade6a34",
            "cc4c7a8f13e547f9ba7fa2c87e6cbd9b",
            "dd856c6c20cd4937a93a1ec438a07efd"
          ]
        },
        "id": "VB30QRYvAFgy",
        "outputId": "a442e6e0-58d5-474c-9d77-a5957e662cd6"
      },
      "execution_count": null,
      "outputs": [
        {
          "output_type": "stream",
          "name": "stdout",
          "text": [
            "Create sweep with ID: jgnvihae\n",
            "Sweep URL: https://wandb.ai/minigi/MuffinChihuahuas/sweeps/jgnvihae\n"
          ]
        },
        {
          "output_type": "stream",
          "name": "stderr",
          "text": [
            "\u001b[34m\u001b[1mwandb\u001b[0m: Agent Starting Run: fs6c3sch with config:\n",
            "\u001b[34m\u001b[1mwandb\u001b[0m: \tbatch_size: 128\n",
            "\u001b[34m\u001b[1mwandb\u001b[0m: \tdropout: 0.4\n",
            "\u001b[34m\u001b[1mwandb\u001b[0m: \tepochs: 50\n",
            "\u001b[34m\u001b[1mwandb\u001b[0m: \timage_size: 64\n",
            "\u001b[34m\u001b[1mwandb\u001b[0m: \tinit_learning_rate: 0.0005844683598220263\n",
            "\u001b[34m\u001b[1mwandb\u001b[0m: \tloss_fn: binary_crossentropy\n",
            "\u001b[34m\u001b[1mwandb\u001b[0m: \tmetrics: ['acc']\n",
            "\u001b[34m\u001b[1mwandb\u001b[0m: \toptimizer: adam\n"
          ]
        },
        {
          "output_type": "display_data",
          "data": {
            "text/plain": [
              "<IPython.core.display.HTML object>"
            ],
            "text/html": [
              "Tracking run with wandb version 0.15.5"
            ]
          },
          "metadata": {}
        },
        {
          "output_type": "display_data",
          "data": {
            "text/plain": [
              "<IPython.core.display.HTML object>"
            ],
            "text/html": [
              "Run data is saved locally in <code>/content/wandb/run-20230722_003431-fs6c3sch</code>"
            ]
          },
          "metadata": {}
        },
        {
          "output_type": "display_data",
          "data": {
            "text/plain": [
              "<IPython.core.display.HTML object>"
            ],
            "text/html": [
              "Syncing run <strong><a href='https://wandb.ai/minigi/MuffinChihuahuas/runs/fs6c3sch' target=\"_blank\">glowing-sweep-1</a></strong> to <a href='https://wandb.ai/minigi/MuffinChihuahuas' target=\"_blank\">Weights & Biases</a> (<a href='https://wandb.me/run' target=\"_blank\">docs</a>)<br/>Sweep page: <a href='https://wandb.ai/minigi/MuffinChihuahuas/sweeps/jgnvihae' target=\"_blank\">https://wandb.ai/minigi/MuffinChihuahuas/sweeps/jgnvihae</a>"
            ]
          },
          "metadata": {}
        },
        {
          "output_type": "display_data",
          "data": {
            "text/plain": [
              "<IPython.core.display.HTML object>"
            ],
            "text/html": [
              " View project at <a href='https://wandb.ai/minigi/MuffinChihuahuas' target=\"_blank\">https://wandb.ai/minigi/MuffinChihuahuas</a>"
            ]
          },
          "metadata": {}
        },
        {
          "output_type": "display_data",
          "data": {
            "text/plain": [
              "<IPython.core.display.HTML object>"
            ],
            "text/html": [
              " View sweep at <a href='https://wandb.ai/minigi/MuffinChihuahuas/sweeps/jgnvihae' target=\"_blank\">https://wandb.ai/minigi/MuffinChihuahuas/sweeps/jgnvihae</a>"
            ]
          },
          "metadata": {}
        },
        {
          "output_type": "display_data",
          "data": {
            "text/plain": [
              "<IPython.core.display.HTML object>"
            ],
            "text/html": [
              " View run at <a href='https://wandb.ai/minigi/MuffinChihuahuas/runs/fs6c3sch' target=\"_blank\">https://wandb.ai/minigi/MuffinChihuahuas/runs/fs6c3sch</a>"
            ]
          },
          "metadata": {}
        },
        {
          "output_type": "display_data",
          "data": {
            "text/plain": [
              "<IPython.core.display.HTML object>"
            ],
            "text/html": [
              "Waiting for W&B process to finish... <strong style=\"color:red\">(failed 1).</strong> Press Control-C to abort syncing."
            ]
          },
          "metadata": {}
        },
        {
          "output_type": "display_data",
          "data": {
            "text/plain": [
              "VBox(children=(Label(value='0.002 MB of 0.011 MB uploaded (0.000 MB deduped)\\r'), FloatProgress(value=0.203455…"
            ],
            "application/vnd.jupyter.widget-view+json": {
              "version_major": 2,
              "version_minor": 0,
              "model_id": "eba917af608545c7bb3d85c21e980f9e"
            }
          },
          "metadata": {}
        },
        {
          "output_type": "display_data",
          "data": {
            "text/plain": [
              "<IPython.core.display.HTML object>"
            ],
            "text/html": [
              " View run <strong style=\"color:#cdcd00\">glowing-sweep-1</strong> at: <a href='https://wandb.ai/minigi/MuffinChihuahuas/runs/fs6c3sch' target=\"_blank\">https://wandb.ai/minigi/MuffinChihuahuas/runs/fs6c3sch</a><br/>Synced 4 W&B file(s), 0 media file(s), 0 artifact file(s) and 0 other file(s)"
            ]
          },
          "metadata": {}
        },
        {
          "output_type": "display_data",
          "data": {
            "text/plain": [
              "<IPython.core.display.HTML object>"
            ],
            "text/html": [
              "Find logs at: <code>./wandb/run-20230722_003431-fs6c3sch/logs</code>"
            ]
          },
          "metadata": {}
        },
        {
          "output_type": "stream",
          "name": "stderr",
          "text": [
            "Run fs6c3sch errored: NameError(\"name 'objective_5fold' is not defined\")\n",
            "\u001b[34m\u001b[1mwandb\u001b[0m: \u001b[32m\u001b[41mERROR\u001b[0m Run fs6c3sch errored: NameError(\"name 'objective_5fold' is not defined\")\n",
            "\u001b[34m\u001b[1mwandb\u001b[0m: Agent Starting Run: nnh3d7y1 with config:\n",
            "\u001b[34m\u001b[1mwandb\u001b[0m: \tbatch_size: 576\n",
            "\u001b[34m\u001b[1mwandb\u001b[0m: \tdropout: 0.4\n",
            "\u001b[34m\u001b[1mwandb\u001b[0m: \tepochs: 50\n",
            "\u001b[34m\u001b[1mwandb\u001b[0m: \timage_size: 64\n",
            "\u001b[34m\u001b[1mwandb\u001b[0m: \tinit_learning_rate: 0.0007756209000089389\n",
            "\u001b[34m\u001b[1mwandb\u001b[0m: \tloss_fn: binary_crossentropy\n",
            "\u001b[34m\u001b[1mwandb\u001b[0m: \tmetrics: ['acc']\n",
            "\u001b[34m\u001b[1mwandb\u001b[0m: \toptimizer: adam\n"
          ]
        },
        {
          "output_type": "display_data",
          "data": {
            "text/plain": [
              "<IPython.core.display.HTML object>"
            ],
            "text/html": [
              "Tracking run with wandb version 0.15.5"
            ]
          },
          "metadata": {}
        },
        {
          "output_type": "display_data",
          "data": {
            "text/plain": [
              "<IPython.core.display.HTML object>"
            ],
            "text/html": [
              "Run data is saved locally in <code>/content/wandb/run-20230722_003447-nnh3d7y1</code>"
            ]
          },
          "metadata": {}
        },
        {
          "output_type": "display_data",
          "data": {
            "text/plain": [
              "<IPython.core.display.HTML object>"
            ],
            "text/html": [
              "Syncing run <strong><a href='https://wandb.ai/minigi/MuffinChihuahuas/runs/nnh3d7y1' target=\"_blank\">different-sweep-2</a></strong> to <a href='https://wandb.ai/minigi/MuffinChihuahuas' target=\"_blank\">Weights & Biases</a> (<a href='https://wandb.me/run' target=\"_blank\">docs</a>)<br/>Sweep page: <a href='https://wandb.ai/minigi/MuffinChihuahuas/sweeps/jgnvihae' target=\"_blank\">https://wandb.ai/minigi/MuffinChihuahuas/sweeps/jgnvihae</a>"
            ]
          },
          "metadata": {}
        },
        {
          "output_type": "display_data",
          "data": {
            "text/plain": [
              "<IPython.core.display.HTML object>"
            ],
            "text/html": [
              " View project at <a href='https://wandb.ai/minigi/MuffinChihuahuas' target=\"_blank\">https://wandb.ai/minigi/MuffinChihuahuas</a>"
            ]
          },
          "metadata": {}
        },
        {
          "output_type": "display_data",
          "data": {
            "text/plain": [
              "<IPython.core.display.HTML object>"
            ],
            "text/html": [
              " View sweep at <a href='https://wandb.ai/minigi/MuffinChihuahuas/sweeps/jgnvihae' target=\"_blank\">https://wandb.ai/minigi/MuffinChihuahuas/sweeps/jgnvihae</a>"
            ]
          },
          "metadata": {}
        },
        {
          "output_type": "display_data",
          "data": {
            "text/plain": [
              "<IPython.core.display.HTML object>"
            ],
            "text/html": [
              " View run at <a href='https://wandb.ai/minigi/MuffinChihuahuas/runs/nnh3d7y1' target=\"_blank\">https://wandb.ai/minigi/MuffinChihuahuas/runs/nnh3d7y1</a>"
            ]
          },
          "metadata": {}
        },
        {
          "output_type": "display_data",
          "data": {
            "text/plain": [
              "<IPython.core.display.HTML object>"
            ],
            "text/html": [
              "Waiting for W&B process to finish... <strong style=\"color:red\">(failed 1).</strong> Press Control-C to abort syncing."
            ]
          },
          "metadata": {}
        },
        {
          "output_type": "display_data",
          "data": {
            "text/plain": [
              "VBox(children=(Label(value='0.002 MB of 0.011 MB uploaded (0.000 MB deduped)\\r'), FloatProgress(value=0.203383…"
            ],
            "application/vnd.jupyter.widget-view+json": {
              "version_major": 2,
              "version_minor": 0,
              "model_id": "c6dcaabe5a7e4ad8afa1c193fff46a88"
            }
          },
          "metadata": {}
        },
        {
          "output_type": "display_data",
          "data": {
            "text/plain": [
              "<IPython.core.display.HTML object>"
            ],
            "text/html": [
              " View run <strong style=\"color:#cdcd00\">different-sweep-2</strong> at: <a href='https://wandb.ai/minigi/MuffinChihuahuas/runs/nnh3d7y1' target=\"_blank\">https://wandb.ai/minigi/MuffinChihuahuas/runs/nnh3d7y1</a><br/>Synced 4 W&B file(s), 0 media file(s), 0 artifact file(s) and 0 other file(s)"
            ]
          },
          "metadata": {}
        },
        {
          "output_type": "display_data",
          "data": {
            "text/plain": [
              "<IPython.core.display.HTML object>"
            ],
            "text/html": [
              "Find logs at: <code>./wandb/run-20230722_003447-nnh3d7y1/logs</code>"
            ]
          },
          "metadata": {}
        },
        {
          "output_type": "stream",
          "name": "stderr",
          "text": [
            "Run nnh3d7y1 errored: NameError(\"name 'objective_5fold' is not defined\")\n",
            "\u001b[34m\u001b[1mwandb\u001b[0m: \u001b[32m\u001b[41mERROR\u001b[0m Run nnh3d7y1 errored: NameError(\"name 'objective_5fold' is not defined\")\n",
            "\u001b[34m\u001b[1mwandb\u001b[0m: Sweep Agent: Waiting for job.\n",
            "\u001b[34m\u001b[1mwandb\u001b[0m: Job received.\n",
            "\u001b[34m\u001b[1mwandb\u001b[0m: Agent Starting Run: rtqsqprm with config:\n",
            "\u001b[34m\u001b[1mwandb\u001b[0m: \tbatch_size: 992\n",
            "\u001b[34m\u001b[1mwandb\u001b[0m: \tdropout: 0.7\n",
            "\u001b[34m\u001b[1mwandb\u001b[0m: \tepochs: 50\n",
            "\u001b[34m\u001b[1mwandb\u001b[0m: \timage_size: 64\n",
            "\u001b[34m\u001b[1mwandb\u001b[0m: \tinit_learning_rate: 5.589937577247177e-05\n",
            "\u001b[34m\u001b[1mwandb\u001b[0m: \tloss_fn: binary_crossentropy\n",
            "\u001b[34m\u001b[1mwandb\u001b[0m: \tmetrics: ['acc']\n",
            "\u001b[34m\u001b[1mwandb\u001b[0m: \toptimizer: adam\n"
          ]
        },
        {
          "output_type": "display_data",
          "data": {
            "text/plain": [
              "<IPython.core.display.HTML object>"
            ],
            "text/html": [
              "Tracking run with wandb version 0.15.5"
            ]
          },
          "metadata": {}
        },
        {
          "output_type": "display_data",
          "data": {
            "text/plain": [
              "<IPython.core.display.HTML object>"
            ],
            "text/html": [
              "Run data is saved locally in <code>/content/wandb/run-20230722_003509-rtqsqprm</code>"
            ]
          },
          "metadata": {}
        },
        {
          "output_type": "display_data",
          "data": {
            "text/plain": [
              "<IPython.core.display.HTML object>"
            ],
            "text/html": [
              "Syncing run <strong><a href='https://wandb.ai/minigi/MuffinChihuahuas/runs/rtqsqprm' target=\"_blank\">fresh-sweep-3</a></strong> to <a href='https://wandb.ai/minigi/MuffinChihuahuas' target=\"_blank\">Weights & Biases</a> (<a href='https://wandb.me/run' target=\"_blank\">docs</a>)<br/>Sweep page: <a href='https://wandb.ai/minigi/MuffinChihuahuas/sweeps/jgnvihae' target=\"_blank\">https://wandb.ai/minigi/MuffinChihuahuas/sweeps/jgnvihae</a>"
            ]
          },
          "metadata": {}
        },
        {
          "output_type": "display_data",
          "data": {
            "text/plain": [
              "<IPython.core.display.HTML object>"
            ],
            "text/html": [
              " View project at <a href='https://wandb.ai/minigi/MuffinChihuahuas' target=\"_blank\">https://wandb.ai/minigi/MuffinChihuahuas</a>"
            ]
          },
          "metadata": {}
        },
        {
          "output_type": "display_data",
          "data": {
            "text/plain": [
              "<IPython.core.display.HTML object>"
            ],
            "text/html": [
              " View sweep at <a href='https://wandb.ai/minigi/MuffinChihuahuas/sweeps/jgnvihae' target=\"_blank\">https://wandb.ai/minigi/MuffinChihuahuas/sweeps/jgnvihae</a>"
            ]
          },
          "metadata": {}
        },
        {
          "output_type": "display_data",
          "data": {
            "text/plain": [
              "<IPython.core.display.HTML object>"
            ],
            "text/html": [
              " View run at <a href='https://wandb.ai/minigi/MuffinChihuahuas/runs/rtqsqprm' target=\"_blank\">https://wandb.ai/minigi/MuffinChihuahuas/runs/rtqsqprm</a>"
            ]
          },
          "metadata": {}
        },
        {
          "output_type": "display_data",
          "data": {
            "text/plain": [
              "<IPython.core.display.HTML object>"
            ],
            "text/html": [
              "Waiting for W&B process to finish... <strong style=\"color:red\">(failed 1).</strong> Press Control-C to abort syncing."
            ]
          },
          "metadata": {}
        },
        {
          "output_type": "display_data",
          "data": {
            "text/plain": [
              "VBox(children=(Label(value='0.002 MB of 0.011 MB uploaded (0.000 MB deduped)\\r'), FloatProgress(value=0.203473…"
            ],
            "application/vnd.jupyter.widget-view+json": {
              "version_major": 2,
              "version_minor": 0,
              "model_id": "22ef852925b141b8abe9ebbfcd5f5c65"
            }
          },
          "metadata": {}
        },
        {
          "output_type": "display_data",
          "data": {
            "text/plain": [
              "<IPython.core.display.HTML object>"
            ],
            "text/html": [
              " View run <strong style=\"color:#cdcd00\">fresh-sweep-3</strong> at: <a href='https://wandb.ai/minigi/MuffinChihuahuas/runs/rtqsqprm' target=\"_blank\">https://wandb.ai/minigi/MuffinChihuahuas/runs/rtqsqprm</a><br/>Synced 4 W&B file(s), 0 media file(s), 0 artifact file(s) and 0 other file(s)"
            ]
          },
          "metadata": {}
        },
        {
          "output_type": "display_data",
          "data": {
            "text/plain": [
              "<IPython.core.display.HTML object>"
            ],
            "text/html": [
              "Find logs at: <code>./wandb/run-20230722_003509-rtqsqprm/logs</code>"
            ]
          },
          "metadata": {}
        },
        {
          "output_type": "stream",
          "name": "stderr",
          "text": [
            "Run rtqsqprm errored: NameError(\"name 'objective_5fold' is not defined\")\n",
            "\u001b[34m\u001b[1mwandb\u001b[0m: \u001b[32m\u001b[41mERROR\u001b[0m Run rtqsqprm errored: NameError(\"name 'objective_5fold' is not defined\")\n",
            "Detected 3 failed runs in the first 60 seconds, killing sweep.\n",
            "\u001b[34m\u001b[1mwandb\u001b[0m: \u001b[32m\u001b[41mERROR\u001b[0m Detected 3 failed runs in the first 60 seconds, killing sweep.\n",
            "\u001b[34m\u001b[1mwandb\u001b[0m: To disable this check set WANDB_AGENT_DISABLE_FLAPPING=true\n"
          ]
        }
      ]
    },
    {
      "cell_type": "markdown",
      "source": [
        "Getting best values"
      ],
      "metadata": {
        "id": "IW50tUsz8AeY"
      }
    },
    {
      "cell_type": "code",
      "source": [
        "api = wandb.Api()\n",
        "sweep = api.sweep(f\"minigi/MuffinChihuahuas/sweeps/hmwv6nzd\")\n",
        "\n",
        "# Get best run parameters\n",
        "best_run = sweep.best_run(order='val_accuracy')\n",
        "best_parameters = best_run.config\n",
        "print(best_parameters)"
      ],
      "metadata": {
        "colab": {
          "base_uri": "https://localhost:8080/"
        },
        "id": "xNilE8De8AJ6",
        "outputId": "70248632-8371-4299-a5d0-777cd9a39a0c"
      },
      "execution_count": null,
      "outputs": [
        {
          "output_type": "stream",
          "name": "stderr",
          "text": [
            "\u001b[34m\u001b[1mwandb\u001b[0m: Sorting runs by -summary_metrics.val_accuracy\n"
          ]
        },
        {
          "output_type": "stream",
          "name": "stdout",
          "text": [
            "{'epochs': 50, 'dropout': 0.1, 'loss_fn': 'binary_crossentropy', 'metrics': ['acc'], 'optimizer': 'adam', 'batch_size': 32, 'image_size': 64, 'init_learning_rate': 0.0010611468952407492}\n"
          ]
        }
      ]
    },
    {
      "cell_type": "code",
      "source": [
        "best_run.summary"
      ],
      "metadata": {
        "colab": {
          "base_uri": "https://localhost:8080/"
        },
        "id": "9X7t6xb48bae",
        "outputId": "7cb0d2e3-91f5-4479-8ab0-dd0b6c5ae125"
      },
      "execution_count": null,
      "outputs": [
        {
          "output_type": "execute_result",
          "data": {
            "text/plain": [
              "{'epoch/epoch': 9, 'batch/batch_step': 1198, '_runtime': 81.629061460495, 'epoch/loss': 0.16502374410629272, 'epoch/val_accuracy': 0.9048625826835632, '_step': 610, 'batch/loss': 0.16502374410629272, 'epoch/accuracy': 0.9355690479278564, '_timestamp': 1689979253.0471263, 'batch/accuracy': 0.9355690479278564, 'epoch/val_loss': 0.2531700134277344, 'batch/learning_rate': 0.0010611468460410831, 'epoch/learning_rate': 0.0010611468460410831, '_wandb': {'runtime': 78}, 'val_accuracy': 0.920718789100647}"
            ]
          },
          "metadata": {},
          "execution_count": 16
        }
      ]
    },
    {
      "cell_type": "code",
      "source": [
        "! wandb sweep --stop minigi/MuffinChihuahuas/hmwv6nzd"
      ],
      "metadata": {
        "colab": {
          "base_uri": "https://localhost:8080/"
        },
        "id": "woJ0PLZc_Kzo",
        "outputId": "12fe694f-7b53-428a-f4a3-4d67673b0611"
      },
      "execution_count": null,
      "outputs": [
        {
          "output_type": "stream",
          "name": "stdout",
          "text": [
            "\u001b[34m\u001b[1mwandb\u001b[0m: Stopping sweep minigi/MuffinChihuahuas/hmwv6nzd\n",
            "Traceback (most recent call last):\n",
            "  File \"/usr/local/bin/wandb\", line 8, in <module>\n",
            "    sys.exit(cli())\n",
            "  File \"/usr/local/lib/python3.10/dist-packages/click/core.py\", line 1157, in __call__\n",
            "    return self.main(*args, **kwargs)\n",
            "  File \"/usr/local/lib/python3.10/dist-packages/click/core.py\", line 1078, in main\n",
            "    rv = self.invoke(ctx)\n",
            "  File \"/usr/local/lib/python3.10/dist-packages/click/core.py\", line 1688, in invoke\n",
            "    return _process_result(sub_ctx.command.invoke(sub_ctx))\n",
            "  File \"/usr/local/lib/python3.10/dist-packages/click/core.py\", line 1434, in invoke\n",
            "    return ctx.invoke(self.callback, **ctx.params)\n",
            "  File \"/usr/local/lib/python3.10/dist-packages/click/core.py\", line 783, in invoke\n",
            "    return __callback(*args, **kwargs)\n",
            "  File \"/usr/local/lib/python3.10/dist-packages/click/decorators.py\", line 33, in new_func\n",
            "    return f(get_current_context(), *args, **kwargs)\n",
            "  File \"/usr/local/lib/python3.10/dist-packages/wandb/cli/cli.py\", line 106, in wrapper\n",
            "    return func(*args, **kwargs)\n",
            "  File \"/usr/local/lib/python3.10/dist-packages/wandb/cli/cli.py\", line 747, in sweep\n",
            "    getattr(api, \"%s_sweep\" % state)(sweep_id, entity=entity, project=project)\n",
            "  File \"/usr/local/lib/python3.10/dist-packages/wandb/apis/internal.py\", line 138, in stop_sweep\n",
            "    return self.api.stop_sweep(*args, **kwargs)\n",
            "  File \"/usr/local/lib/python3.10/dist-packages/wandb/sdk/internal/internal_api.py\", line 3614, in stop_sweep\n",
            "    self.set_sweep_state(\n",
            "  File \"/usr/local/lib/python3.10/dist-packages/wandb/sdk/internal/internal_api.py\", line 3574, in set_sweep_state\n",
            "    raise Exception(\"Sweep already %s.\" % curr_state.lower())\n",
            "Exception: Sweep already finished.\n"
          ]
        }
      ]
    },
    {
      "cell_type": "code",
      "source": [
        "wandb.init(project='MuffinChihuahua', config=best_parameters)\n",
        "print(wandb.config)\n",
        "finale_value = objective_5fold(wandb.config)\n",
        "print(final_value)\n",
        "wandb.finish()"
      ],
      "metadata": {
        "colab": {
          "base_uri": "https://localhost:8080/",
          "height": 278,
          "referenced_widgets": [
            "c8d7a3c488ff4cb3ba50341fb99d2f69",
            "ce1af60bc7e24b95a694263596470a65",
            "dad5d5d32e2c4679ba375b19e969f684",
            "417428d0e81d44749b9a0886c873bd81",
            "d6ebdb4c65474690953786de477962a7",
            "9d70d1c6b031493f9e01aede421a603b",
            "1206aaa7582a4ab19acb08d32ee7bb29",
            "ad3d66c1b6bf4470ae22613bc96f57b1",
            "a6e4f7121ab64a4fb4c644e6c16519a6",
            "331d05c845d14265a9c2ddec570d3ba4",
            "c20d27fe5ed047e6be8effb6c0eee178"
          ]
        },
        "id": "Zes6YcyxMYN_",
        "outputId": "ee25f7b0-10dd-42db-a8cb-9e424c4ebb87"
      },
      "execution_count": null,
      "outputs": [
        {
          "output_type": "display_data",
          "data": {
            "text/plain": [
              "<IPython.core.display.HTML object>"
            ],
            "text/html": [
              "Changes to your `wandb` environment variables will be ignored because your `wandb` session has already started. For more information on how to modify your settings with `wandb.init()` arguments, please refer to <a href='https://wandb.me/wandb-init' target=\"_blank\">the W&B docs</a>."
            ]
          },
          "metadata": {}
        },
        {
          "output_type": "stream",
          "name": "stderr",
          "text": [
            "\u001b[34m\u001b[1mwandb\u001b[0m: \u001b[33mWARNING\u001b[0m Ignored wandb.init() arg project when running a sweep.\n"
          ]
        },
        {
          "output_type": "display_data",
          "data": {
            "text/plain": [
              "<IPython.core.display.HTML object>"
            ],
            "text/html": [
              "Tracking run with wandb version 0.15.5"
            ]
          },
          "metadata": {}
        },
        {
          "output_type": "display_data",
          "data": {
            "text/plain": [
              "<IPython.core.display.HTML object>"
            ],
            "text/html": [
              "Run data is saved locally in <code>/content/wandb/run-20230722_003518-rtqsqprm</code>"
            ]
          },
          "metadata": {}
        },
        {
          "output_type": "display_data",
          "data": {
            "text/plain": [
              "<IPython.core.display.HTML object>"
            ],
            "text/html": [
              "Syncing run <strong><a href='https://wandb.ai/minigi/MuffinChihuahuas/runs/rtqsqprm' target=\"_blank\">fresh-sweep-3</a></strong> to <a href='https://wandb.ai/minigi/MuffinChihuahuas' target=\"_blank\">Weights & Biases</a> (<a href='https://wandb.me/run' target=\"_blank\">docs</a>)<br/>Sweep page: <a href='https://wandb.ai/minigi/MuffinChihuahuas/sweeps/jgnvihae' target=\"_blank\">https://wandb.ai/minigi/MuffinChihuahuas/sweeps/jgnvihae</a>"
            ]
          },
          "metadata": {}
        },
        {
          "output_type": "display_data",
          "data": {
            "text/plain": [
              "<IPython.core.display.HTML object>"
            ],
            "text/html": [
              " View project at <a href='https://wandb.ai/minigi/MuffinChihuahuas' target=\"_blank\">https://wandb.ai/minigi/MuffinChihuahuas</a>"
            ]
          },
          "metadata": {}
        },
        {
          "output_type": "display_data",
          "data": {
            "text/plain": [
              "<IPython.core.display.HTML object>"
            ],
            "text/html": [
              " View sweep at <a href='https://wandb.ai/minigi/MuffinChihuahuas/sweeps/jgnvihae' target=\"_blank\">https://wandb.ai/minigi/MuffinChihuahuas/sweeps/jgnvihae</a>"
            ]
          },
          "metadata": {}
        },
        {
          "output_type": "display_data",
          "data": {
            "text/plain": [
              "<IPython.core.display.HTML object>"
            ],
            "text/html": [
              " View run at <a href='https://wandb.ai/minigi/MuffinChihuahuas/runs/rtqsqprm' target=\"_blank\">https://wandb.ai/minigi/MuffinChihuahuas/runs/rtqsqprm</a>"
            ]
          },
          "metadata": {}
        },
        {
          "output_type": "stream",
          "name": "stdout",
          "text": [
            "{'batch_size': 992, 'dropout': 0.7, 'epochs': 50, 'image_size': 64, 'init_learning_rate': 5.589937577247177e-05, 'loss_fn': 'binary_crossentropy', 'metrics': ['acc'], 'optimizer': 'adam'}\n",
            "Found 4733 files belonging to 2 classes.\n",
            "Found 1184 files belonging to 2 classes.\n"
          ]
        },
        {
          "output_type": "display_data",
          "data": {
            "text/plain": [
              "  0%|          | 0/5 [00:00<?, ?it/s]"
            ],
            "application/vnd.jupyter.widget-view+json": {
              "version_major": 2,
              "version_minor": 0,
              "model_id": "c8d7a3c488ff4cb3ba50341fb99d2f69"
            }
          },
          "metadata": {}
        },
        {
          "output_type": "stream",
          "name": "stdout",
          "text": [
            "2174 2559\n"
          ]
        }
      ]
    },
    {
      "cell_type": "markdown",
      "metadata": {
        "id": "bclMguTeOWLc"
      },
      "source": [
        "# Run inference on new data"
      ]
    },
    {
      "cell_type": "code",
      "execution_count": null,
      "metadata": {
        "id": "IGch4GVyOWLc"
      },
      "outputs": [],
      "source": [
        "\"\"\"def keralize_img(path):\n",
        "  img = keras.utils.load_img(\n",
        "    path, target_size=configs.image_size\n",
        "  )\n",
        "  img_array = keras.utils.img_to_array(img)\n",
        "  img_array = tf.expand_dims(img_array, 0)  # Create batch axis\n",
        "  return img_array\n",
        "\n",
        "chihuahua_img = keralize_img(dataset_path + '/test/muffin/img_0_67.jpg')\n",
        "muffin_img = keralize_img(dataset_path + '/test/chihuahua/img_0_1107.jpg')\n",
        "\n",
        "def predict(img):\n",
        "  model.load_weights(\"/content/save_at_7.keras\")\n",
        "  predictions = model.predict(img)\n",
        "  score = float(predictions[0])\n",
        "  print(f\"This image is {100 * (1 - score):.2f}% muffin and {100 * score:.2f}% chihuahua.\")\n",
        "\n",
        "predict(chihuahua_img)\n",
        "predict(muffin_img)\"\"\""
      ]
    }
  ],
  "metadata": {
    "kernelspec": {
      "display_name": "Python 3",
      "name": "python3"
    },
    "language_info": {
      "codemirror_mode": {
        "name": "ipython",
        "version": 3
      },
      "file_extension": ".py",
      "mimetype": "text/x-python",
      "name": "python",
      "nbconvert_exporter": "python",
      "pygments_lexer": "ipython3",
      "version": "3.10.6"
    },
    "orig_nbformat": 4,
    "colab": {
      "provenance": [],
      "gpuType": "A100",
      "machine_shape": "hm",
      "include_colab_link": true
    },
    "accelerator": "GPU",
    "widgets": {
      "application/vnd.jupyter.widget-state+json": {
        "eba917af608545c7bb3d85c21e980f9e": {
          "model_module": "@jupyter-widgets/controls",
          "model_name": "VBoxModel",
          "model_module_version": "1.5.0",
          "state": {
            "_dom_classes": [],
            "_model_module": "@jupyter-widgets/controls",
            "_model_module_version": "1.5.0",
            "_model_name": "VBoxModel",
            "_view_count": null,
            "_view_module": "@jupyter-widgets/controls",
            "_view_module_version": "1.5.0",
            "_view_name": "VBoxView",
            "box_style": "",
            "children": [
              "IPY_MODEL_748ff5e75d5c4c588f95856839a6f898",
              "IPY_MODEL_e8ebf5f59b0f45beba413ff334f0ea3f"
            ],
            "layout": "IPY_MODEL_1090f4d118bd4164ac163d1817df945a"
          }
        },
        "748ff5e75d5c4c588f95856839a6f898": {
          "model_module": "@jupyter-widgets/controls",
          "model_name": "LabelModel",
          "model_module_version": "1.5.0",
          "state": {
            "_dom_classes": [],
            "_model_module": "@jupyter-widgets/controls",
            "_model_module_version": "1.5.0",
            "_model_name": "LabelModel",
            "_view_count": null,
            "_view_module": "@jupyter-widgets/controls",
            "_view_module_version": "1.5.0",
            "_view_name": "LabelView",
            "description": "",
            "description_tooltip": null,
            "layout": "IPY_MODEL_36c40ae603f34720b4196e43ce09e72b",
            "placeholder": "​",
            "style": "IPY_MODEL_bc181a44197042758f2c4000c52a75a9",
            "value": "0.002 MB of 0.011 MB uploaded (0.000 MB deduped)\r"
          }
        },
        "e8ebf5f59b0f45beba413ff334f0ea3f": {
          "model_module": "@jupyter-widgets/controls",
          "model_name": "FloatProgressModel",
          "model_module_version": "1.5.0",
          "state": {
            "_dom_classes": [],
            "_model_module": "@jupyter-widgets/controls",
            "_model_module_version": "1.5.0",
            "_model_name": "FloatProgressModel",
            "_view_count": null,
            "_view_module": "@jupyter-widgets/controls",
            "_view_module_version": "1.5.0",
            "_view_name": "ProgressView",
            "bar_style": "",
            "description": "",
            "description_tooltip": null,
            "layout": "IPY_MODEL_e1bf62ea0c304959ac339c6002a2aeeb",
            "max": 1,
            "min": 0,
            "orientation": "horizontal",
            "style": "IPY_MODEL_b45231af00fc4f17b2bf0edd1257c8bb",
            "value": 0.2034554125798614
          }
        },
        "1090f4d118bd4164ac163d1817df945a": {
          "model_module": "@jupyter-widgets/base",
          "model_name": "LayoutModel",
          "model_module_version": "1.2.0",
          "state": {
            "_model_module": "@jupyter-widgets/base",
            "_model_module_version": "1.2.0",
            "_model_name": "LayoutModel",
            "_view_count": null,
            "_view_module": "@jupyter-widgets/base",
            "_view_module_version": "1.2.0",
            "_view_name": "LayoutView",
            "align_content": null,
            "align_items": null,
            "align_self": null,
            "border": null,
            "bottom": null,
            "display": null,
            "flex": null,
            "flex_flow": null,
            "grid_area": null,
            "grid_auto_columns": null,
            "grid_auto_flow": null,
            "grid_auto_rows": null,
            "grid_column": null,
            "grid_gap": null,
            "grid_row": null,
            "grid_template_areas": null,
            "grid_template_columns": null,
            "grid_template_rows": null,
            "height": null,
            "justify_content": null,
            "justify_items": null,
            "left": null,
            "margin": null,
            "max_height": null,
            "max_width": null,
            "min_height": null,
            "min_width": null,
            "object_fit": null,
            "object_position": null,
            "order": null,
            "overflow": null,
            "overflow_x": null,
            "overflow_y": null,
            "padding": null,
            "right": null,
            "top": null,
            "visibility": null,
            "width": null
          }
        },
        "36c40ae603f34720b4196e43ce09e72b": {
          "model_module": "@jupyter-widgets/base",
          "model_name": "LayoutModel",
          "model_module_version": "1.2.0",
          "state": {
            "_model_module": "@jupyter-widgets/base",
            "_model_module_version": "1.2.0",
            "_model_name": "LayoutModel",
            "_view_count": null,
            "_view_module": "@jupyter-widgets/base",
            "_view_module_version": "1.2.0",
            "_view_name": "LayoutView",
            "align_content": null,
            "align_items": null,
            "align_self": null,
            "border": null,
            "bottom": null,
            "display": null,
            "flex": null,
            "flex_flow": null,
            "grid_area": null,
            "grid_auto_columns": null,
            "grid_auto_flow": null,
            "grid_auto_rows": null,
            "grid_column": null,
            "grid_gap": null,
            "grid_row": null,
            "grid_template_areas": null,
            "grid_template_columns": null,
            "grid_template_rows": null,
            "height": null,
            "justify_content": null,
            "justify_items": null,
            "left": null,
            "margin": null,
            "max_height": null,
            "max_width": null,
            "min_height": null,
            "min_width": null,
            "object_fit": null,
            "object_position": null,
            "order": null,
            "overflow": null,
            "overflow_x": null,
            "overflow_y": null,
            "padding": null,
            "right": null,
            "top": null,
            "visibility": null,
            "width": null
          }
        },
        "bc181a44197042758f2c4000c52a75a9": {
          "model_module": "@jupyter-widgets/controls",
          "model_name": "DescriptionStyleModel",
          "model_module_version": "1.5.0",
          "state": {
            "_model_module": "@jupyter-widgets/controls",
            "_model_module_version": "1.5.0",
            "_model_name": "DescriptionStyleModel",
            "_view_count": null,
            "_view_module": "@jupyter-widgets/base",
            "_view_module_version": "1.2.0",
            "_view_name": "StyleView",
            "description_width": ""
          }
        },
        "e1bf62ea0c304959ac339c6002a2aeeb": {
          "model_module": "@jupyter-widgets/base",
          "model_name": "LayoutModel",
          "model_module_version": "1.2.0",
          "state": {
            "_model_module": "@jupyter-widgets/base",
            "_model_module_version": "1.2.0",
            "_model_name": "LayoutModel",
            "_view_count": null,
            "_view_module": "@jupyter-widgets/base",
            "_view_module_version": "1.2.0",
            "_view_name": "LayoutView",
            "align_content": null,
            "align_items": null,
            "align_self": null,
            "border": null,
            "bottom": null,
            "display": null,
            "flex": null,
            "flex_flow": null,
            "grid_area": null,
            "grid_auto_columns": null,
            "grid_auto_flow": null,
            "grid_auto_rows": null,
            "grid_column": null,
            "grid_gap": null,
            "grid_row": null,
            "grid_template_areas": null,
            "grid_template_columns": null,
            "grid_template_rows": null,
            "height": null,
            "justify_content": null,
            "justify_items": null,
            "left": null,
            "margin": null,
            "max_height": null,
            "max_width": null,
            "min_height": null,
            "min_width": null,
            "object_fit": null,
            "object_position": null,
            "order": null,
            "overflow": null,
            "overflow_x": null,
            "overflow_y": null,
            "padding": null,
            "right": null,
            "top": null,
            "visibility": null,
            "width": null
          }
        },
        "b45231af00fc4f17b2bf0edd1257c8bb": {
          "model_module": "@jupyter-widgets/controls",
          "model_name": "ProgressStyleModel",
          "model_module_version": "1.5.0",
          "state": {
            "_model_module": "@jupyter-widgets/controls",
            "_model_module_version": "1.5.0",
            "_model_name": "ProgressStyleModel",
            "_view_count": null,
            "_view_module": "@jupyter-widgets/base",
            "_view_module_version": "1.2.0",
            "_view_name": "StyleView",
            "bar_color": null,
            "description_width": ""
          }
        },
        "c6dcaabe5a7e4ad8afa1c193fff46a88": {
          "model_module": "@jupyter-widgets/controls",
          "model_name": "VBoxModel",
          "model_module_version": "1.5.0",
          "state": {
            "_dom_classes": [],
            "_model_module": "@jupyter-widgets/controls",
            "_model_module_version": "1.5.0",
            "_model_name": "VBoxModel",
            "_view_count": null,
            "_view_module": "@jupyter-widgets/controls",
            "_view_module_version": "1.5.0",
            "_view_name": "VBoxView",
            "box_style": "",
            "children": [
              "IPY_MODEL_2f9b6ae0c35c4d5c8e74c79865b71b54",
              "IPY_MODEL_f682124841844d68b6772bebd7fa1925"
            ],
            "layout": "IPY_MODEL_811d0c4710fa4318a0d1df7ace7a2096"
          }
        },
        "2f9b6ae0c35c4d5c8e74c79865b71b54": {
          "model_module": "@jupyter-widgets/controls",
          "model_name": "LabelModel",
          "model_module_version": "1.5.0",
          "state": {
            "_dom_classes": [],
            "_model_module": "@jupyter-widgets/controls",
            "_model_module_version": "1.5.0",
            "_model_name": "LabelModel",
            "_view_count": null,
            "_view_module": "@jupyter-widgets/controls",
            "_view_module_version": "1.5.0",
            "_view_name": "LabelView",
            "description": "",
            "description_tooltip": null,
            "layout": "IPY_MODEL_4771629c480f4d889468b0caa7755c95",
            "placeholder": "​",
            "style": "IPY_MODEL_a5d28383cc0947e289cbf78811ccfb00",
            "value": "0.002 MB of 0.011 MB uploaded (0.000 MB deduped)\r"
          }
        },
        "f682124841844d68b6772bebd7fa1925": {
          "model_module": "@jupyter-widgets/controls",
          "model_name": "FloatProgressModel",
          "model_module_version": "1.5.0",
          "state": {
            "_dom_classes": [],
            "_model_module": "@jupyter-widgets/controls",
            "_model_module_version": "1.5.0",
            "_model_name": "FloatProgressModel",
            "_view_count": null,
            "_view_module": "@jupyter-widgets/controls",
            "_view_module_version": "1.5.0",
            "_view_name": "ProgressView",
            "bar_style": "",
            "description": "",
            "description_tooltip": null,
            "layout": "IPY_MODEL_97697e99cbcd431d95bed32351b17356",
            "max": 1,
            "min": 0,
            "orientation": "horizontal",
            "style": "IPY_MODEL_2f20d77ea1944a1e9b92f787afa52e71",
            "value": 0.20338372930165588
          }
        },
        "811d0c4710fa4318a0d1df7ace7a2096": {
          "model_module": "@jupyter-widgets/base",
          "model_name": "LayoutModel",
          "model_module_version": "1.2.0",
          "state": {
            "_model_module": "@jupyter-widgets/base",
            "_model_module_version": "1.2.0",
            "_model_name": "LayoutModel",
            "_view_count": null,
            "_view_module": "@jupyter-widgets/base",
            "_view_module_version": "1.2.0",
            "_view_name": "LayoutView",
            "align_content": null,
            "align_items": null,
            "align_self": null,
            "border": null,
            "bottom": null,
            "display": null,
            "flex": null,
            "flex_flow": null,
            "grid_area": null,
            "grid_auto_columns": null,
            "grid_auto_flow": null,
            "grid_auto_rows": null,
            "grid_column": null,
            "grid_gap": null,
            "grid_row": null,
            "grid_template_areas": null,
            "grid_template_columns": null,
            "grid_template_rows": null,
            "height": null,
            "justify_content": null,
            "justify_items": null,
            "left": null,
            "margin": null,
            "max_height": null,
            "max_width": null,
            "min_height": null,
            "min_width": null,
            "object_fit": null,
            "object_position": null,
            "order": null,
            "overflow": null,
            "overflow_x": null,
            "overflow_y": null,
            "padding": null,
            "right": null,
            "top": null,
            "visibility": null,
            "width": null
          }
        },
        "4771629c480f4d889468b0caa7755c95": {
          "model_module": "@jupyter-widgets/base",
          "model_name": "LayoutModel",
          "model_module_version": "1.2.0",
          "state": {
            "_model_module": "@jupyter-widgets/base",
            "_model_module_version": "1.2.0",
            "_model_name": "LayoutModel",
            "_view_count": null,
            "_view_module": "@jupyter-widgets/base",
            "_view_module_version": "1.2.0",
            "_view_name": "LayoutView",
            "align_content": null,
            "align_items": null,
            "align_self": null,
            "border": null,
            "bottom": null,
            "display": null,
            "flex": null,
            "flex_flow": null,
            "grid_area": null,
            "grid_auto_columns": null,
            "grid_auto_flow": null,
            "grid_auto_rows": null,
            "grid_column": null,
            "grid_gap": null,
            "grid_row": null,
            "grid_template_areas": null,
            "grid_template_columns": null,
            "grid_template_rows": null,
            "height": null,
            "justify_content": null,
            "justify_items": null,
            "left": null,
            "margin": null,
            "max_height": null,
            "max_width": null,
            "min_height": null,
            "min_width": null,
            "object_fit": null,
            "object_position": null,
            "order": null,
            "overflow": null,
            "overflow_x": null,
            "overflow_y": null,
            "padding": null,
            "right": null,
            "top": null,
            "visibility": null,
            "width": null
          }
        },
        "a5d28383cc0947e289cbf78811ccfb00": {
          "model_module": "@jupyter-widgets/controls",
          "model_name": "DescriptionStyleModel",
          "model_module_version": "1.5.0",
          "state": {
            "_model_module": "@jupyter-widgets/controls",
            "_model_module_version": "1.5.0",
            "_model_name": "DescriptionStyleModel",
            "_view_count": null,
            "_view_module": "@jupyter-widgets/base",
            "_view_module_version": "1.2.0",
            "_view_name": "StyleView",
            "description_width": ""
          }
        },
        "97697e99cbcd431d95bed32351b17356": {
          "model_module": "@jupyter-widgets/base",
          "model_name": "LayoutModel",
          "model_module_version": "1.2.0",
          "state": {
            "_model_module": "@jupyter-widgets/base",
            "_model_module_version": "1.2.0",
            "_model_name": "LayoutModel",
            "_view_count": null,
            "_view_module": "@jupyter-widgets/base",
            "_view_module_version": "1.2.0",
            "_view_name": "LayoutView",
            "align_content": null,
            "align_items": null,
            "align_self": null,
            "border": null,
            "bottom": null,
            "display": null,
            "flex": null,
            "flex_flow": null,
            "grid_area": null,
            "grid_auto_columns": null,
            "grid_auto_flow": null,
            "grid_auto_rows": null,
            "grid_column": null,
            "grid_gap": null,
            "grid_row": null,
            "grid_template_areas": null,
            "grid_template_columns": null,
            "grid_template_rows": null,
            "height": null,
            "justify_content": null,
            "justify_items": null,
            "left": null,
            "margin": null,
            "max_height": null,
            "max_width": null,
            "min_height": null,
            "min_width": null,
            "object_fit": null,
            "object_position": null,
            "order": null,
            "overflow": null,
            "overflow_x": null,
            "overflow_y": null,
            "padding": null,
            "right": null,
            "top": null,
            "visibility": null,
            "width": null
          }
        },
        "2f20d77ea1944a1e9b92f787afa52e71": {
          "model_module": "@jupyter-widgets/controls",
          "model_name": "ProgressStyleModel",
          "model_module_version": "1.5.0",
          "state": {
            "_model_module": "@jupyter-widgets/controls",
            "_model_module_version": "1.5.0",
            "_model_name": "ProgressStyleModel",
            "_view_count": null,
            "_view_module": "@jupyter-widgets/base",
            "_view_module_version": "1.2.0",
            "_view_name": "StyleView",
            "bar_color": null,
            "description_width": ""
          }
        },
        "22ef852925b141b8abe9ebbfcd5f5c65": {
          "model_module": "@jupyter-widgets/controls",
          "model_name": "VBoxModel",
          "model_module_version": "1.5.0",
          "state": {
            "_dom_classes": [],
            "_model_module": "@jupyter-widgets/controls",
            "_model_module_version": "1.5.0",
            "_model_name": "VBoxModel",
            "_view_count": null,
            "_view_module": "@jupyter-widgets/controls",
            "_view_module_version": "1.5.0",
            "_view_name": "VBoxView",
            "box_style": "",
            "children": [
              "IPY_MODEL_2b36b98969184e03b339570e920d5a4c",
              "IPY_MODEL_730e9bd3e76648aea368b4b0e2851de7"
            ],
            "layout": "IPY_MODEL_64c93980ce37424c86e622ee033fdc6b"
          }
        },
        "2b36b98969184e03b339570e920d5a4c": {
          "model_module": "@jupyter-widgets/controls",
          "model_name": "LabelModel",
          "model_module_version": "1.5.0",
          "state": {
            "_dom_classes": [],
            "_model_module": "@jupyter-widgets/controls",
            "_model_module_version": "1.5.0",
            "_model_name": "LabelModel",
            "_view_count": null,
            "_view_module": "@jupyter-widgets/controls",
            "_view_module_version": "1.5.0",
            "_view_name": "LabelView",
            "description": "",
            "description_tooltip": null,
            "layout": "IPY_MODEL_91a7739281964f9fb5c9b0b7dc8dab67",
            "placeholder": "​",
            "style": "IPY_MODEL_803605f4aab94ee99f6d78711ade6a34",
            "value": "0.002 MB of 0.011 MB uploaded (0.000 MB deduped)\r"
          }
        },
        "730e9bd3e76648aea368b4b0e2851de7": {
          "model_module": "@jupyter-widgets/controls",
          "model_name": "FloatProgressModel",
          "model_module_version": "1.5.0",
          "state": {
            "_dom_classes": [],
            "_model_module": "@jupyter-widgets/controls",
            "_model_module_version": "1.5.0",
            "_model_name": "FloatProgressModel",
            "_view_count": null,
            "_view_module": "@jupyter-widgets/controls",
            "_view_module_version": "1.5.0",
            "_view_name": "ProgressView",
            "bar_style": "",
            "description": "",
            "description_tooltip": null,
            "layout": "IPY_MODEL_cc4c7a8f13e547f9ba7fa2c87e6cbd9b",
            "max": 1,
            "min": 0,
            "orientation": "horizontal",
            "style": "IPY_MODEL_dd856c6c20cd4937a93a1ec438a07efd",
            "value": 0.20347372210223183
          }
        },
        "64c93980ce37424c86e622ee033fdc6b": {
          "model_module": "@jupyter-widgets/base",
          "model_name": "LayoutModel",
          "model_module_version": "1.2.0",
          "state": {
            "_model_module": "@jupyter-widgets/base",
            "_model_module_version": "1.2.0",
            "_model_name": "LayoutModel",
            "_view_count": null,
            "_view_module": "@jupyter-widgets/base",
            "_view_module_version": "1.2.0",
            "_view_name": "LayoutView",
            "align_content": null,
            "align_items": null,
            "align_self": null,
            "border": null,
            "bottom": null,
            "display": null,
            "flex": null,
            "flex_flow": null,
            "grid_area": null,
            "grid_auto_columns": null,
            "grid_auto_flow": null,
            "grid_auto_rows": null,
            "grid_column": null,
            "grid_gap": null,
            "grid_row": null,
            "grid_template_areas": null,
            "grid_template_columns": null,
            "grid_template_rows": null,
            "height": null,
            "justify_content": null,
            "justify_items": null,
            "left": null,
            "margin": null,
            "max_height": null,
            "max_width": null,
            "min_height": null,
            "min_width": null,
            "object_fit": null,
            "object_position": null,
            "order": null,
            "overflow": null,
            "overflow_x": null,
            "overflow_y": null,
            "padding": null,
            "right": null,
            "top": null,
            "visibility": null,
            "width": null
          }
        },
        "91a7739281964f9fb5c9b0b7dc8dab67": {
          "model_module": "@jupyter-widgets/base",
          "model_name": "LayoutModel",
          "model_module_version": "1.2.0",
          "state": {
            "_model_module": "@jupyter-widgets/base",
            "_model_module_version": "1.2.0",
            "_model_name": "LayoutModel",
            "_view_count": null,
            "_view_module": "@jupyter-widgets/base",
            "_view_module_version": "1.2.0",
            "_view_name": "LayoutView",
            "align_content": null,
            "align_items": null,
            "align_self": null,
            "border": null,
            "bottom": null,
            "display": null,
            "flex": null,
            "flex_flow": null,
            "grid_area": null,
            "grid_auto_columns": null,
            "grid_auto_flow": null,
            "grid_auto_rows": null,
            "grid_column": null,
            "grid_gap": null,
            "grid_row": null,
            "grid_template_areas": null,
            "grid_template_columns": null,
            "grid_template_rows": null,
            "height": null,
            "justify_content": null,
            "justify_items": null,
            "left": null,
            "margin": null,
            "max_height": null,
            "max_width": null,
            "min_height": null,
            "min_width": null,
            "object_fit": null,
            "object_position": null,
            "order": null,
            "overflow": null,
            "overflow_x": null,
            "overflow_y": null,
            "padding": null,
            "right": null,
            "top": null,
            "visibility": null,
            "width": null
          }
        },
        "803605f4aab94ee99f6d78711ade6a34": {
          "model_module": "@jupyter-widgets/controls",
          "model_name": "DescriptionStyleModel",
          "model_module_version": "1.5.0",
          "state": {
            "_model_module": "@jupyter-widgets/controls",
            "_model_module_version": "1.5.0",
            "_model_name": "DescriptionStyleModel",
            "_view_count": null,
            "_view_module": "@jupyter-widgets/base",
            "_view_module_version": "1.2.0",
            "_view_name": "StyleView",
            "description_width": ""
          }
        },
        "cc4c7a8f13e547f9ba7fa2c87e6cbd9b": {
          "model_module": "@jupyter-widgets/base",
          "model_name": "LayoutModel",
          "model_module_version": "1.2.0",
          "state": {
            "_model_module": "@jupyter-widgets/base",
            "_model_module_version": "1.2.0",
            "_model_name": "LayoutModel",
            "_view_count": null,
            "_view_module": "@jupyter-widgets/base",
            "_view_module_version": "1.2.0",
            "_view_name": "LayoutView",
            "align_content": null,
            "align_items": null,
            "align_self": null,
            "border": null,
            "bottom": null,
            "display": null,
            "flex": null,
            "flex_flow": null,
            "grid_area": null,
            "grid_auto_columns": null,
            "grid_auto_flow": null,
            "grid_auto_rows": null,
            "grid_column": null,
            "grid_gap": null,
            "grid_row": null,
            "grid_template_areas": null,
            "grid_template_columns": null,
            "grid_template_rows": null,
            "height": null,
            "justify_content": null,
            "justify_items": null,
            "left": null,
            "margin": null,
            "max_height": null,
            "max_width": null,
            "min_height": null,
            "min_width": null,
            "object_fit": null,
            "object_position": null,
            "order": null,
            "overflow": null,
            "overflow_x": null,
            "overflow_y": null,
            "padding": null,
            "right": null,
            "top": null,
            "visibility": null,
            "width": null
          }
        },
        "dd856c6c20cd4937a93a1ec438a07efd": {
          "model_module": "@jupyter-widgets/controls",
          "model_name": "ProgressStyleModel",
          "model_module_version": "1.5.0",
          "state": {
            "_model_module": "@jupyter-widgets/controls",
            "_model_module_version": "1.5.0",
            "_model_name": "ProgressStyleModel",
            "_view_count": null,
            "_view_module": "@jupyter-widgets/base",
            "_view_module_version": "1.2.0",
            "_view_name": "StyleView",
            "bar_color": null,
            "description_width": ""
          }
        },
        "c8d7a3c488ff4cb3ba50341fb99d2f69": {
          "model_module": "@jupyter-widgets/controls",
          "model_name": "HBoxModel",
          "model_module_version": "1.5.0",
          "state": {
            "_dom_classes": [],
            "_model_module": "@jupyter-widgets/controls",
            "_model_module_version": "1.5.0",
            "_model_name": "HBoxModel",
            "_view_count": null,
            "_view_module": "@jupyter-widgets/controls",
            "_view_module_version": "1.5.0",
            "_view_name": "HBoxView",
            "box_style": "",
            "children": [
              "IPY_MODEL_ce1af60bc7e24b95a694263596470a65",
              "IPY_MODEL_dad5d5d32e2c4679ba375b19e969f684",
              "IPY_MODEL_417428d0e81d44749b9a0886c873bd81"
            ],
            "layout": "IPY_MODEL_d6ebdb4c65474690953786de477962a7"
          }
        },
        "ce1af60bc7e24b95a694263596470a65": {
          "model_module": "@jupyter-widgets/controls",
          "model_name": "HTMLModel",
          "model_module_version": "1.5.0",
          "state": {
            "_dom_classes": [],
            "_model_module": "@jupyter-widgets/controls",
            "_model_module_version": "1.5.0",
            "_model_name": "HTMLModel",
            "_view_count": null,
            "_view_module": "@jupyter-widgets/controls",
            "_view_module_version": "1.5.0",
            "_view_name": "HTMLView",
            "description": "",
            "description_tooltip": null,
            "layout": "IPY_MODEL_9d70d1c6b031493f9e01aede421a603b",
            "placeholder": "​",
            "style": "IPY_MODEL_1206aaa7582a4ab19acb08d32ee7bb29",
            "value": "100%"
          }
        },
        "dad5d5d32e2c4679ba375b19e969f684": {
          "model_module": "@jupyter-widgets/controls",
          "model_name": "FloatProgressModel",
          "model_module_version": "1.5.0",
          "state": {
            "_dom_classes": [],
            "_model_module": "@jupyter-widgets/controls",
            "_model_module_version": "1.5.0",
            "_model_name": "FloatProgressModel",
            "_view_count": null,
            "_view_module": "@jupyter-widgets/controls",
            "_view_module_version": "1.5.0",
            "_view_name": "ProgressView",
            "bar_style": "success",
            "description": "",
            "description_tooltip": null,
            "layout": "IPY_MODEL_ad3d66c1b6bf4470ae22613bc96f57b1",
            "max": 5,
            "min": 0,
            "orientation": "horizontal",
            "style": "IPY_MODEL_a6e4f7121ab64a4fb4c644e6c16519a6",
            "value": 5
          }
        },
        "417428d0e81d44749b9a0886c873bd81": {
          "model_module": "@jupyter-widgets/controls",
          "model_name": "HTMLModel",
          "model_module_version": "1.5.0",
          "state": {
            "_dom_classes": [],
            "_model_module": "@jupyter-widgets/controls",
            "_model_module_version": "1.5.0",
            "_model_name": "HTMLModel",
            "_view_count": null,
            "_view_module": "@jupyter-widgets/controls",
            "_view_module_version": "1.5.0",
            "_view_name": "HTMLView",
            "description": "",
            "description_tooltip": null,
            "layout": "IPY_MODEL_331d05c845d14265a9c2ddec570d3ba4",
            "placeholder": "​",
            "style": "IPY_MODEL_c20d27fe5ed047e6be8effb6c0eee178",
            "value": " 5/5 [00:09&lt;00:00,  1.21s/it]"
          }
        },
        "d6ebdb4c65474690953786de477962a7": {
          "model_module": "@jupyter-widgets/base",
          "model_name": "LayoutModel",
          "model_module_version": "1.2.0",
          "state": {
            "_model_module": "@jupyter-widgets/base",
            "_model_module_version": "1.2.0",
            "_model_name": "LayoutModel",
            "_view_count": null,
            "_view_module": "@jupyter-widgets/base",
            "_view_module_version": "1.2.0",
            "_view_name": "LayoutView",
            "align_content": null,
            "align_items": null,
            "align_self": null,
            "border": null,
            "bottom": null,
            "display": null,
            "flex": null,
            "flex_flow": null,
            "grid_area": null,
            "grid_auto_columns": null,
            "grid_auto_flow": null,
            "grid_auto_rows": null,
            "grid_column": null,
            "grid_gap": null,
            "grid_row": null,
            "grid_template_areas": null,
            "grid_template_columns": null,
            "grid_template_rows": null,
            "height": null,
            "justify_content": null,
            "justify_items": null,
            "left": null,
            "margin": null,
            "max_height": null,
            "max_width": null,
            "min_height": null,
            "min_width": null,
            "object_fit": null,
            "object_position": null,
            "order": null,
            "overflow": null,
            "overflow_x": null,
            "overflow_y": null,
            "padding": null,
            "right": null,
            "top": null,
            "visibility": null,
            "width": null
          }
        },
        "9d70d1c6b031493f9e01aede421a603b": {
          "model_module": "@jupyter-widgets/base",
          "model_name": "LayoutModel",
          "model_module_version": "1.2.0",
          "state": {
            "_model_module": "@jupyter-widgets/base",
            "_model_module_version": "1.2.0",
            "_model_name": "LayoutModel",
            "_view_count": null,
            "_view_module": "@jupyter-widgets/base",
            "_view_module_version": "1.2.0",
            "_view_name": "LayoutView",
            "align_content": null,
            "align_items": null,
            "align_self": null,
            "border": null,
            "bottom": null,
            "display": null,
            "flex": null,
            "flex_flow": null,
            "grid_area": null,
            "grid_auto_columns": null,
            "grid_auto_flow": null,
            "grid_auto_rows": null,
            "grid_column": null,
            "grid_gap": null,
            "grid_row": null,
            "grid_template_areas": null,
            "grid_template_columns": null,
            "grid_template_rows": null,
            "height": null,
            "justify_content": null,
            "justify_items": null,
            "left": null,
            "margin": null,
            "max_height": null,
            "max_width": null,
            "min_height": null,
            "min_width": null,
            "object_fit": null,
            "object_position": null,
            "order": null,
            "overflow": null,
            "overflow_x": null,
            "overflow_y": null,
            "padding": null,
            "right": null,
            "top": null,
            "visibility": null,
            "width": null
          }
        },
        "1206aaa7582a4ab19acb08d32ee7bb29": {
          "model_module": "@jupyter-widgets/controls",
          "model_name": "DescriptionStyleModel",
          "model_module_version": "1.5.0",
          "state": {
            "_model_module": "@jupyter-widgets/controls",
            "_model_module_version": "1.5.0",
            "_model_name": "DescriptionStyleModel",
            "_view_count": null,
            "_view_module": "@jupyter-widgets/base",
            "_view_module_version": "1.2.0",
            "_view_name": "StyleView",
            "description_width": ""
          }
        },
        "ad3d66c1b6bf4470ae22613bc96f57b1": {
          "model_module": "@jupyter-widgets/base",
          "model_name": "LayoutModel",
          "model_module_version": "1.2.0",
          "state": {
            "_model_module": "@jupyter-widgets/base",
            "_model_module_version": "1.2.0",
            "_model_name": "LayoutModel",
            "_view_count": null,
            "_view_module": "@jupyter-widgets/base",
            "_view_module_version": "1.2.0",
            "_view_name": "LayoutView",
            "align_content": null,
            "align_items": null,
            "align_self": null,
            "border": null,
            "bottom": null,
            "display": null,
            "flex": null,
            "flex_flow": null,
            "grid_area": null,
            "grid_auto_columns": null,
            "grid_auto_flow": null,
            "grid_auto_rows": null,
            "grid_column": null,
            "grid_gap": null,
            "grid_row": null,
            "grid_template_areas": null,
            "grid_template_columns": null,
            "grid_template_rows": null,
            "height": null,
            "justify_content": null,
            "justify_items": null,
            "left": null,
            "margin": null,
            "max_height": null,
            "max_width": null,
            "min_height": null,
            "min_width": null,
            "object_fit": null,
            "object_position": null,
            "order": null,
            "overflow": null,
            "overflow_x": null,
            "overflow_y": null,
            "padding": null,
            "right": null,
            "top": null,
            "visibility": null,
            "width": null
          }
        },
        "a6e4f7121ab64a4fb4c644e6c16519a6": {
          "model_module": "@jupyter-widgets/controls",
          "model_name": "ProgressStyleModel",
          "model_module_version": "1.5.0",
          "state": {
            "_model_module": "@jupyter-widgets/controls",
            "_model_module_version": "1.5.0",
            "_model_name": "ProgressStyleModel",
            "_view_count": null,
            "_view_module": "@jupyter-widgets/base",
            "_view_module_version": "1.2.0",
            "_view_name": "StyleView",
            "bar_color": null,
            "description_width": ""
          }
        },
        "331d05c845d14265a9c2ddec570d3ba4": {
          "model_module": "@jupyter-widgets/base",
          "model_name": "LayoutModel",
          "model_module_version": "1.2.0",
          "state": {
            "_model_module": "@jupyter-widgets/base",
            "_model_module_version": "1.2.0",
            "_model_name": "LayoutModel",
            "_view_count": null,
            "_view_module": "@jupyter-widgets/base",
            "_view_module_version": "1.2.0",
            "_view_name": "LayoutView",
            "align_content": null,
            "align_items": null,
            "align_self": null,
            "border": null,
            "bottom": null,
            "display": null,
            "flex": null,
            "flex_flow": null,
            "grid_area": null,
            "grid_auto_columns": null,
            "grid_auto_flow": null,
            "grid_auto_rows": null,
            "grid_column": null,
            "grid_gap": null,
            "grid_row": null,
            "grid_template_areas": null,
            "grid_template_columns": null,
            "grid_template_rows": null,
            "height": null,
            "justify_content": null,
            "justify_items": null,
            "left": null,
            "margin": null,
            "max_height": null,
            "max_width": null,
            "min_height": null,
            "min_width": null,
            "object_fit": null,
            "object_position": null,
            "order": null,
            "overflow": null,
            "overflow_x": null,
            "overflow_y": null,
            "padding": null,
            "right": null,
            "top": null,
            "visibility": null,
            "width": null
          }
        },
        "c20d27fe5ed047e6be8effb6c0eee178": {
          "model_module": "@jupyter-widgets/controls",
          "model_name": "DescriptionStyleModel",
          "model_module_version": "1.5.0",
          "state": {
            "_model_module": "@jupyter-widgets/controls",
            "_model_module_version": "1.5.0",
            "_model_name": "DescriptionStyleModel",
            "_view_count": null,
            "_view_module": "@jupyter-widgets/base",
            "_view_module_version": "1.2.0",
            "_view_name": "StyleView",
            "description_width": ""
          }
        }
      }
    }
  },
  "nbformat": 4,
  "nbformat_minor": 0
}