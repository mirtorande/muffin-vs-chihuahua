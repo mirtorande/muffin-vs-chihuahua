{
  "cells": [
    {
      "cell_type": "markdown",
      "metadata": {
        "id": "view-in-github",
        "colab_type": "text"
      },
      "source": [
        "<a href=\"https://colab.research.google.com/github/mirtorande/muffin-vs-chihuahua/blob/main/MuffinsChihuahuas.ipynb\" target=\"_parent\"><img src=\"https://colab.research.google.com/assets/colab-badge.svg\" alt=\"Open In Colab\"/></a>"
      ]
    },
    {
      "cell_type": "markdown",
      "metadata": {
        "id": "d-UYPRw5OWLS"
      },
      "source": [
        "# Setup"
      ]
    },
    {
      "cell_type": "code",
      "source": [
        "! pip install -qq wandb\n",
        "import wandb\n",
        "from wandb.keras import WandbMetricsLogger\n",
        "wandb.login()\n",
        "import tensorflow as tf\n",
        "from tensorflow import keras\n",
        "from tensorflow.keras import layers\n",
        "import matplotlib.pyplot as plt\n",
        "import os\n",
        "import math\n",
        "import random\n",
        "from tqdm.auto import tqdm\n",
        "from tensorflow.keras.utils import plot_model\n",
        "import numpy as np\n",
        "from sklearn.model_selection import StratifiedKFold, KFold"
      ],
      "metadata": {
        "id": "jX3ONMhsDk7T",
        "colab": {
          "base_uri": "https://localhost:8080/",
          "height": 213
        },
        "outputId": "8ff08de3-9980-404a-fb71-ea72bd1272b8"
      },
      "execution_count": 1,
      "outputs": [
        {
          "output_type": "stream",
          "name": "stdout",
          "text": [
            "\u001b[2K     \u001b[90m━━━━━━━━━━━━━━━━━━━━━━━━━━━━━━━━━━━━━━━━\u001b[0m \u001b[32m2.1/2.1 MB\u001b[0m \u001b[31m10.9 MB/s\u001b[0m eta \u001b[36m0:00:00\u001b[0m\n",
            "\u001b[2K     \u001b[90m━━━━━━━━━━━━━━━━━━━━━━━━━━━━━━━━━━━━━━\u001b[0m \u001b[32m188.5/188.5 kB\u001b[0m \u001b[31m13.4 MB/s\u001b[0m eta \u001b[36m0:00:00\u001b[0m\n",
            "\u001b[2K     \u001b[90m━━━━━━━━━━━━━━━━━━━━━━━━━━━━━━━━━━━━━━\u001b[0m \u001b[32m214.7/214.7 kB\u001b[0m \u001b[31m10.4 MB/s\u001b[0m eta \u001b[36m0:00:00\u001b[0m\n",
            "\u001b[?25h  Preparing metadata (setup.py) ... \u001b[?25l\u001b[?25hdone\n",
            "\u001b[2K     \u001b[90m━━━━━━━━━━━━━━━━━━━━━━━━━━━━━━━━━━━━━━━━\u001b[0m \u001b[32m62.7/62.7 kB\u001b[0m \u001b[31m5.9 MB/s\u001b[0m eta \u001b[36m0:00:00\u001b[0m\n",
            "\u001b[?25h  Building wheel for pathtools (setup.py) ... \u001b[?25l\u001b[?25hdone\n"
          ]
        },
        {
          "output_type": "display_data",
          "data": {
            "text/plain": [
              "<IPython.core.display.Javascript object>"
            ],
            "application/javascript": [
              "\n",
              "        window._wandbApiKey = new Promise((resolve, reject) => {\n",
              "            function loadScript(url) {\n",
              "            return new Promise(function(resolve, reject) {\n",
              "                let newScript = document.createElement(\"script\");\n",
              "                newScript.onerror = reject;\n",
              "                newScript.onload = resolve;\n",
              "                document.body.appendChild(newScript);\n",
              "                newScript.src = url;\n",
              "            });\n",
              "            }\n",
              "            loadScript(\"https://cdn.jsdelivr.net/npm/postmate/build/postmate.min.js\").then(() => {\n",
              "            const iframe = document.createElement('iframe')\n",
              "            iframe.style.cssText = \"width:0;height:0;border:none\"\n",
              "            document.body.appendChild(iframe)\n",
              "            const handshake = new Postmate({\n",
              "                container: iframe,\n",
              "                url: 'https://wandb.ai/authorize'\n",
              "            });\n",
              "            const timeout = setTimeout(() => reject(\"Couldn't auto authenticate\"), 5000)\n",
              "            handshake.then(function(child) {\n",
              "                child.on('authorize', data => {\n",
              "                    clearTimeout(timeout)\n",
              "                    resolve(data)\n",
              "                });\n",
              "            });\n",
              "            })\n",
              "        });\n",
              "    "
            ]
          },
          "metadata": {}
        },
        {
          "output_type": "stream",
          "name": "stderr",
          "text": [
            "\u001b[34m\u001b[1mwandb\u001b[0m: Logging into wandb.ai. (Learn how to deploy a W&B server locally: https://wandb.me/wandb-server)\n",
            "\u001b[34m\u001b[1mwandb\u001b[0m: You can find your API key in your browser here: https://wandb.ai/authorize\n",
            "wandb: Paste an API key from your profile and hit enter, or press ctrl+c to quit:"
          ]
        },
        {
          "name": "stdout",
          "output_type": "stream",
          "text": [
            " ··········\n"
          ]
        },
        {
          "output_type": "stream",
          "name": "stderr",
          "text": [
            "\u001b[34m\u001b[1mwandb\u001b[0m: Appending key for api.wandb.ai to your netrc file: /root/.netrc\n"
          ]
        }
      ]
    },
    {
      "cell_type": "code",
      "source": [
        "# Define a config dictionary object\n",
        "configs = dict(\n",
        "    #batch_size= 32,\n",
        "    #init_learning_rate = 1e-3,\n",
        "    #dropout = 0.1,\n",
        "    image_size = 64,\n",
        "    architecture = 'nn',\n",
        "    epochs = 50,\n",
        "    optimizer = 'adam',\n",
        "    loss_fn = 'binary_crossentropy',\n",
        "    metrics = ['acc'],\n",
        ")"
      ],
      "metadata": {
        "id": "34tOTS_s_l1R"
      },
      "execution_count": 2,
      "outputs": []
    },
    {
      "cell_type": "markdown",
      "metadata": {
        "id": "05LIIOopOWLV"
      },
      "source": [
        "# Load the data: the Muffins vs Chihuahuas dataset"
      ]
    },
    {
      "cell_type": "markdown",
      "metadata": {
        "id": "zmqOEOyYOWLV"
      },
      "source": [
        "## Retrieve archive\n"
      ]
    },
    {
      "cell_type": "code",
      "source": [
        "from google.colab import drive\n",
        "drive.mount('/content/drive')"
      ],
      "metadata": {
        "id": "VyakI2wNWVvh",
        "colab": {
          "base_uri": "https://localhost:8080/"
        },
        "outputId": "56b517e4-2128-484c-cb6a-9bd43b0d6950"
      },
      "execution_count": 3,
      "outputs": [
        {
          "output_type": "stream",
          "name": "stdout",
          "text": [
            "Mounted at /content/drive\n"
          ]
        }
      ]
    },
    {
      "cell_type": "code",
      "source": [
        "dataset_path = \"/content/drive/My Drive/Datasets/archive\""
      ],
      "metadata": {
        "id": "zS4nkIlmXlwg"
      },
      "execution_count": 4,
      "outputs": []
    },
    {
      "cell_type": "markdown",
      "metadata": {
        "id": "_OzI0KLSOWLW"
      },
      "source": [
        "## Filter out corrupted images"
      ]
    },
    {
      "cell_type": "code",
      "execution_count": 5,
      "metadata": {
        "id": "iIXy-185OWLX",
        "colab": {
          "base_uri": "https://localhost:8080/",
          "height": 71
        },
        "outputId": "46ae2fea-eb0d-4c72-8a26-867738d9b680"
      },
      "outputs": [
        {
          "output_type": "execute_result",
          "data": {
            "text/plain": [
              "'num_skipped = 0\\nfor folder_name in (\\'test/chihuahua\\', \\'train/chihuahua\\', \\'test/muffin\\', \\'train/muffin\\'):\\n    folder_path = os.path.join(dataset_path, folder_name)\\n    for fname in tqdm(os.listdir(folder_path)):\\n        fpath = os.path.join(folder_path, fname)\\n        try:\\n            fobj = open(fpath, \"rb\")\\n            is_jfif = tf.compat.as_bytes(\"JFIF\") in fobj.peek(10)\\n        finally:\\n            fobj.close()\\n\\n        if not is_jfif:\\n            num_skipped += 1\\n            # Delete corrupted image\\n            os.remove(fpath)\\n\\nprint(\"Deleted %d images\" % num_skipped)'"
            ],
            "application/vnd.google.colaboratory.intrinsic+json": {
              "type": "string"
            }
          },
          "metadata": {},
          "execution_count": 5
        }
      ],
      "source": [
        "\"\"\"num_skipped = 0\n",
        "for folder_name in ('test/chihuahua', 'train/chihuahua', 'test/muffin', 'train/muffin'):\n",
        "    folder_path = os.path.join(dataset_path, folder_name)\n",
        "    for fname in tqdm(os.listdir(folder_path)):\n",
        "        fpath = os.path.join(folder_path, fname)\n",
        "        try:\n",
        "            fobj = open(fpath, \"rb\")\n",
        "            is_jfif = tf.compat.as_bytes(\"JFIF\") in fobj.peek(10)\n",
        "        finally:\n",
        "            fobj.close()\n",
        "\n",
        "        if not is_jfif:\n",
        "            num_skipped += 1\n",
        "            # Delete corrupted image\n",
        "            os.remove(fpath)\n",
        "\n",
        "print(\"Deleted %d images\" % num_skipped)\"\"\"\n"
      ]
    },
    {
      "cell_type": "markdown",
      "metadata": {
        "id": "dJXQNBbxOWLX"
      },
      "source": [
        "## Generate a dataset"
      ]
    },
    {
      "cell_type": "code",
      "execution_count": 6,
      "metadata": {
        "id": "TVT_hk0aOWLY"
      },
      "outputs": [],
      "source": [
        "def load_datasets(config, use_val=True):\n",
        "  \"\"\"\n",
        "  Loads Training and Test datasets\n",
        "  \"\"\"\n",
        "  image_size = (config['image_size'], config['image_size']) # (224, 224) originally\n",
        "  batch_size = config['batch_size']\n",
        "\n",
        "  if use_val:\n",
        "    train_ds, val_ds = tf.keras.utils.image_dataset_from_directory(\n",
        "        dataset_path + '/train',\n",
        "        image_size=image_size,\n",
        "        batch_size=batch_size,\n",
        "        validation_split = 0.2,\n",
        "        subset='both',\n",
        "        shuffle=True,\n",
        "        seed=1337\n",
        "    )\n",
        "  else:\n",
        "    train_ds = tf.keras.utils.image_dataset_from_directory(\n",
        "        dataset_path + '/train',\n",
        "        image_size=image_size,\n",
        "        batch_size=batch_size,\n",
        "        shuffle=True,\n",
        "        seed=1337\n",
        "    )\n",
        "    val_ds = None\n",
        "\n",
        "  test_ds = tf.keras.utils.image_dataset_from_directory(\n",
        "      dataset_path + '/test',\n",
        "      image_size=image_size,\n",
        "      batch_size=batch_size,\n",
        "      shuffle=False\n",
        "  )\n",
        "  return train_ds, val_ds, test_ds"
      ]
    },
    {
      "cell_type": "markdown",
      "metadata": {
        "id": "P8BWsRK8OWLZ"
      },
      "source": [
        "## Data visualization"
      ]
    },
    {
      "cell_type": "code",
      "source": [
        "def print_class_counts(dataset):\n",
        "  n_muf=0\n",
        "  n_chi = 0\n",
        "  for images, labels in tqdm(dataset):\n",
        "    for label in labels:\n",
        "      if label == 0:\n",
        "        n_chi += 1\n",
        "      else:\n",
        "        n_muf += 1\n",
        "\n",
        "  print(n_muf, n_chi)"
      ],
      "metadata": {
        "id": "Owbg5GE-cBL2"
      },
      "execution_count": 7,
      "outputs": []
    },
    {
      "cell_type": "code",
      "execution_count": 8,
      "metadata": {
        "id": "2OwqYu0XOWLZ"
      },
      "outputs": [],
      "source": [
        "def show_sample_figures(images, labels):\n",
        "  plt.figure(figsize=(10, 10))\n",
        "\n",
        "  for cell in range(9):\n",
        "      i = random.randint(0, len(labels)-1)\n",
        "      ax = plt.subplot(3, 3, cell + 1)\n",
        "      plt.imshow(images[i]/255)\n",
        "      plt.title(int(labels[i]))\n",
        "      plt.axis(\"off\")"
      ]
    },
    {
      "cell_type": "markdown",
      "metadata": {
        "id": "XGPFSx1wOWLZ"
      },
      "source": [
        "## Data augmentation and optimization"
      ]
    },
    {
      "cell_type": "code",
      "execution_count": 9,
      "metadata": {
        "id": "2b53EppWOWLa"
      },
      "outputs": [],
      "source": [
        "def augment_dataset(dataset, show_preview=False):\n",
        "  data_augmentation = keras.Sequential(\n",
        "      [\n",
        "          layers.RandomFlip(\"horizontal\"),\n",
        "          layers.RandomRotation(0.1),\n",
        "      ]\n",
        "  )\n",
        "\n",
        "  # Show augmentation preview\n",
        "  if show_preview:\n",
        "    plt.figure(figsize=(10, 10))\n",
        "    for images, _ in dataset.take(1):\n",
        "        for i in range(9):\n",
        "            augmented_images = data_augmentation(images)\n",
        "            ax = plt.subplot(3, 3, i + 1)\n",
        "            plt.imshow(augmented_images[1].numpy().astype(\"uint8\"))\n",
        "            plt.axis(\"off\")\n",
        "\n",
        "  # Apply `data_augmentation` to the training images.\n",
        "  dataset = dataset.map(\n",
        "    lambda img, label: (data_augmentation(img), label),\n",
        "    num_parallel_calls=tf.data.AUTOTUNE,\n",
        "  )\n",
        "\n",
        "  return dataset"
      ]
    },
    {
      "cell_type": "code",
      "source": [
        "def prefetch_datasets(*args):\n",
        "  args_list = [arg for arg in args]\n",
        "  # Prefetching samples in GPU memory helps maximize GPU utilization.\n",
        "  for i in range(len(args_list)):\n",
        "    args_list[i] = args_list[i].prefetch(tf.data.AUTOTUNE)\n",
        "  return args"
      ],
      "metadata": {
        "id": "0UDRrdhB9CEd"
      },
      "execution_count": 10,
      "outputs": []
    },
    {
      "cell_type": "markdown",
      "metadata": {
        "id": "1QmlepllOWLb"
      },
      "source": [
        "# Model builders"
      ]
    },
    {
      "cell_type": "code",
      "execution_count": 11,
      "metadata": {
        "id": "_BJ78JrXuHpu"
      },
      "outputs": [],
      "source": [
        "# Sources: https://stackoverflow.com/questions/46836358/keras-rgb-to-grayscale\n",
        "#          https://www.johndcook.com/blog/2009/08/24/algorithms-convert-color-grayscale/\n",
        "def greyscale(x):\n",
        "  # x has shape (batch, width, height, channels)\n",
        "  return (0.21 * x[:,:,:,:1]) + (0.72 * x[:,:,:,1:2]) + (0.07 * x[:,:,:,-1:])\n",
        "\n",
        "def make_nn(config, input_shape, num_classes):\n",
        "  inputs = keras.Input(shape=input_shape)\n",
        "\n",
        "  x = layers.Lambda(greyscale)(inputs)\n",
        "  x = layers.Rescaling(1.0 / 255)(x)\n",
        "  x = layers.Flatten(input_shape=input_shape)(x)\n",
        "  x = layers.Dense(config['image_size'], activation='relu')(x)\n",
        "  x = layers.Dense(config['image_size'] * 2, activation='relu')(x)\n",
        "  x = layers.Dense(config['image_size'] * 2, activation='relu')(x)\n",
        "  x = layers.Dropout(config['dropout'])(x)\n",
        "\n",
        "  if num_classes == 2:\n",
        "    units = 1\n",
        "  else:\n",
        "    units = num_classes\n",
        "\n",
        "  outputs = layers.Dense(units, activation=\"sigmoid\")(x)\n",
        "\n",
        "  model = keras.Model(inputs, outputs)\n",
        "  #model.summary()\n",
        "\n",
        "  return model"
      ]
    },
    {
      "cell_type": "code",
      "execution_count": 12,
      "metadata": {
        "id": "CSJDCoF9OWLb"
      },
      "outputs": [],
      "source": [
        "def make_cnn(config, input_shape, num_classes):\n",
        "  inputs = keras.Input(shape=input_shape)\n",
        "\n",
        "  # Entry block\n",
        "  x = layers.Rescaling(1.0 / 255)(inputs)\n",
        "  x = layers.Conv2D(64, 3, strides=2, padding=\"same\")(x)\n",
        "  x = layers.BatchNormalization()(x)\n",
        "  x = layers.Activation(\"relu\")(x)\n",
        "\n",
        "  previous_block_activation = x  # Set aside residual\n",
        "\n",
        "  for size in [128]:\n",
        "      x = layers.Activation(\"relu\")(x)\n",
        "      x = layers.SeparableConv2D(size, 3, padding=\"same\")(x)\n",
        "      x = layers.BatchNormalization()(x)\n",
        "\n",
        "      x = layers.Activation(\"relu\")(x)\n",
        "      x = layers.SeparableConv2D(size, 3, padding=\"same\")(x)\n",
        "      x = layers.BatchNormalization()(x)\n",
        "\n",
        "      x = layers.MaxPooling2D(3, strides=2, padding=\"same\")(x)\n",
        "\n",
        "      # Project residual\n",
        "      residual = layers.Conv2D(size, 1, strides=2, padding=\"same\")(\n",
        "          previous_block_activation\n",
        "      )\n",
        "      x = layers.add([x, residual])  # Add back residual\n",
        "      previous_block_activation = x  # Set aside next residual\n",
        "\n",
        "  x = layers.SeparableConv2D(256, 3, padding=\"same\")(x)\n",
        "  x = layers.BatchNormalization()(x)\n",
        "  x = layers.Activation(\"relu\")(x)\n",
        "\n",
        "  x = layers.GlobalAveragePooling2D()(x)\n",
        "  if num_classes == 2:\n",
        "      activation = \"sigmoid\"\n",
        "      units = 1\n",
        "  else:\n",
        "      activation = \"softmax\"\n",
        "      units = num_classes\n",
        "\n",
        "  x = layers.Dropout(config['dropout'])(x)\n",
        "  outputs = layers.Dense(units, activation=activation)(x)\n",
        "\n",
        "  return keras.Model(inputs, outputs)"
      ]
    },
    {
      "cell_type": "code",
      "source": [
        "def make_model(config, input_shape, num_classes):\n",
        "  if config.architecture == 'nn':\n",
        "    return make_nn(config, input_shape, num_classes)\n",
        "  if config.architecture == 'cnn':\n",
        "    return make_cnn(config, input_shape, num_classes)\n",
        "  raise ValueError('Invalid architecture defined in configs')"
      ],
      "metadata": {
        "id": "dgIeteRB0nyv"
      },
      "execution_count": 13,
      "outputs": []
    },
    {
      "cell_type": "markdown",
      "source": [
        "# Training and tuning"
      ],
      "metadata": {
        "id": "1M83TSSE-Dj8"
      }
    },
    {
      "cell_type": "code",
      "source": [
        "def objective(config):\n",
        "  train, val, _ = load_datasets(config)\n",
        "  #print_class_counts(train)\n",
        "  #show_sample_figures(train)\n",
        "  train = augment_dataset(train, show_preview=False)\n",
        "  train, val = prefetch_datasets(train, val)\n",
        "\n",
        "  model = make_model(config, input_shape=(config.image_size, config.image_size) + (3,), num_classes=2)\n",
        "  keras.utils.plot_model(model, show_shapes=True)\n",
        "\n",
        "  epochs = config.epochs\n",
        "\n",
        "  model.compile(\n",
        "    optimizer=keras.optimizers.Adam(config.init_learning_rate),\n",
        "    loss=config.loss_fn,\n",
        "    metrics=[\"accuracy\"],\n",
        "  )\n",
        "\n",
        "  callbacks = [tf.keras.callbacks.EarlyStopping(monitor='val_accuracy', patience=3, start_from_epoch=8), WandbMetricsLogger(log_freq=2)]\n",
        "\n",
        "  history = model.fit(\n",
        "    train,\n",
        "    epochs=epochs,\n",
        "    callbacks=callbacks,\n",
        "    validation_data=val,\n",
        "  )\n",
        "\n",
        "  return max(history.history['val_accuracy'])"
      ],
      "metadata": {
        "id": "TKsdWF-PIU7M"
      },
      "execution_count": 14,
      "outputs": []
    },
    {
      "cell_type": "code",
      "source": [
        "def cv(config, dataset):\n",
        "  # Retrieve data and labels from training set\n",
        "  ds_unbatched = dataset.unbatch()\n",
        "  ds_x = []\n",
        "  ds_y = []\n",
        "  for images, labels in ds_unbatched.map(lambda x, y: (x, y)):\n",
        "    ds_x.append(images)\n",
        "    ds_y.append(labels)\n",
        "  ds_x = np.array(ds_x)\n",
        "  ds_y = np.array(ds_y)\n",
        "\n",
        "  accuracies = []\n",
        "\n",
        "  for train_indexes, val_indexes in StratifiedKFold(n_splits=5).split(ds_x, ds_y):\n",
        "\n",
        "    fold_train_x = []\n",
        "    fold_train_y = []\n",
        "    for i in train_indexes:\n",
        "      fold_train_x.append(ds_x[i])\n",
        "      fold_train_y.append(ds_y[i])\n",
        "\n",
        "    fold_val_x = []\n",
        "    fold_val_y = []\n",
        "    for i in val_indexes:\n",
        "      fold_val_x.append(ds_x[i])\n",
        "      fold_val_y.append(ds_y[i])\n",
        "\n",
        "    model = make_model(config, input_shape=(config.image_size, config.image_size) + (3,), num_classes=2)\n",
        "\n",
        "    epochs = config.epochs\n",
        "\n",
        "    model.compile(\n",
        "        optimizer=keras.optimizers.Adam(config.init_learning_rate),\n",
        "        loss=config.loss_fn,\n",
        "        metrics=[\"accuracy\"],\n",
        "    )\n",
        "\n",
        "    callbacks = [tf.keras.callbacks.EarlyStopping(monitor='val_accuracy', patience=3, start_from_epoch=15), WandbMetricsLogger(log_freq=2)]\n",
        "\n",
        "    history = model.fit(\n",
        "        np.array(fold_train_x), np.array(fold_train_y),\n",
        "        epochs=epochs,\n",
        "        batch_size=config.batch_size,\n",
        "        callbacks=callbacks,\n",
        "        validation_data=(np.array(fold_val_x), np.array(fold_val_y)),\n",
        "    )\n",
        "    accuracies.append(max(history.history['val_accuracy']))\n",
        "\n",
        "    '''\n",
        "    # training preds\n",
        "    for i in range(10):\n",
        "      img = fold_train_x[i]\n",
        "      predictions = model.predict(np.reshape(img,(1,64,64,3)))\n",
        "      score = float(predictions[0])\n",
        "      ground_truth = fold_train_y[i]\n",
        "      print(f\"This image is {100 * (1 - score):.2f}% chihuahua and {100 * score:.2f}% muffin. and it should be {ground_truth}\")\n",
        "      plt.imshow(img/255)\n",
        "      plt.title(int(ground_truth))\n",
        "      plt.axis(\"off\")\n",
        "      plt.show()\n",
        "\n",
        "    # validation preds\n",
        "    for i in range(10):\n",
        "      img = fold_val_x[i]\n",
        "      predictions = model.predict(np.reshape(img,(1,64,64,3)))\n",
        "      score = float(predictions[0])\n",
        "      ground_truth = fold_val_y[i]\n",
        "      print(f\"This image is {100 * (1 - score):.2f}% chihuahua and {100 * score:.2f}% muffin. and it should be {ground_truth}\")\n",
        "      plt.imshow(img/255)\n",
        "      plt.title(int(ground_truth))\n",
        "      plt.axis(\"off\")\n",
        "      plt.show()\n",
        "    '''\n",
        "\n",
        "  return np.mean(accuracies)"
      ],
      "metadata": {
        "id": "J6dVskIB2Sf4"
      },
      "execution_count": 15,
      "outputs": []
    },
    {
      "cell_type": "code",
      "source": [
        "def objective_5fold(config):\n",
        "  train, _, _ = load_datasets(config, use_val=False)\n",
        "  train = augment_dataset(train, show_preview=False)\n",
        "\n",
        "  return cv(config, train)\n"
      ],
      "metadata": {
        "id": "ixBxpjDFp3xN"
      },
      "execution_count": 16,
      "outputs": []
    },
    {
      "cell_type": "code",
      "source": [
        "# 1: Define training function to run on the sweep\n",
        "def main():\n",
        "    wandb.init()\n",
        "    val_accuracy = objective(wandb.config)\n",
        "    wandb.log({'val_accuracy': val_accuracy})\n",
        "\n",
        "# 2: Define the search space\n",
        "sweep_configuration = {\n",
        "    'method': 'bayes',\n",
        "    'metric':\n",
        "    {\n",
        "        'goal': 'maximize',\n",
        "        'name': 'val_accuracy'\n",
        "    },\n",
        "    'parameters':\n",
        "    {\n",
        "        'init_learning_rate': {\n",
        "            'distribution': 'log_uniform_values', 'max': 1e-2, 'min': 1e-5\n",
        "        },\n",
        "        'batch_size': {\n",
        "          # integers between 32 and 1024\n",
        "          # with evenly-distributed logarithms\n",
        "          'distribution': 'q_log_uniform_values',\n",
        "          'q': 32,\n",
        "          'min': 32,\n",
        "          'max': 1024,\n",
        "        },\n",
        "        'dropout': {\n",
        "          'values': [0.2, 0.3, 0.4, 0.5, 0.7]\n",
        "        },\n",
        "    }\n",
        "}\n",
        "sweep_configuration['parameters'].update({attribute:{'value':value} for attribute, value in configs.items()})\n",
        "\n",
        "# 3: Start the sweep\n",
        "sweep_id = wandb.sweep(\n",
        "    sweep=sweep_configuration,\n",
        "    project='MuffinChihuahuas'\n",
        ")\n",
        "\n",
        "wandb.agent(sweep_id, function=main, count=10)"
      ],
      "metadata": {
        "id": "VB30QRYvAFgy",
        "colab": {
          "base_uri": "https://localhost:8080/",
          "height": 1000,
          "referenced_widgets": [
            "35dff0d965114102981408f8759cd088",
            "be37a4e4853b409ba79092403a711cb1",
            "19f7de699d8048db8ec7f3dcf35f2cc6",
            "76f1b309a4394eb18a428e59bc077f35",
            "4b5e15707e014fdab9a4b3e90e2394ae",
            "e537740cb13340b0a894078f627b25d4",
            "cd914993a67346139ae394be362402c1",
            "e9f9c40af9914232af7a9df84cdec8dc"
          ]
        },
        "outputId": "d9a6bd25-39f6-4323-b789-0018a51cca0a"
      },
      "execution_count": 17,
      "outputs": [
        {
          "output_type": "stream",
          "name": "stdout",
          "text": [
            "Create sweep with ID: cxrasd43\n",
            "Sweep URL: https://wandb.ai/minigi/MuffinChihuahuas/sweeps/cxrasd43\n"
          ]
        },
        {
          "output_type": "stream",
          "name": "stderr",
          "text": [
            "\u001b[34m\u001b[1mwandb\u001b[0m: Agent Starting Run: w9f8yywr with config:\n",
            "\u001b[34m\u001b[1mwandb\u001b[0m: \tarchitecture: nn\n",
            "\u001b[34m\u001b[1mwandb\u001b[0m: \tbatch_size: 96\n",
            "\u001b[34m\u001b[1mwandb\u001b[0m: \tdropout: 0.5\n",
            "\u001b[34m\u001b[1mwandb\u001b[0m: \tepochs: 50\n",
            "\u001b[34m\u001b[1mwandb\u001b[0m: \timage_size: 64\n",
            "\u001b[34m\u001b[1mwandb\u001b[0m: \tinit_learning_rate: 0.003476979384579064\n",
            "\u001b[34m\u001b[1mwandb\u001b[0m: \tloss_fn: binary_crossentropy\n",
            "\u001b[34m\u001b[1mwandb\u001b[0m: \tmetrics: ['acc']\n",
            "\u001b[34m\u001b[1mwandb\u001b[0m: \toptimizer: adam\n",
            "\u001b[34m\u001b[1mwandb\u001b[0m: Currently logged in as: \u001b[33mmirtorande\u001b[0m (\u001b[33mminigi\u001b[0m). Use \u001b[1m`wandb login --relogin`\u001b[0m to force relogin\n"
          ]
        },
        {
          "output_type": "display_data",
          "data": {
            "text/plain": [
              "<IPython.core.display.HTML object>"
            ],
            "text/html": [
              "Tracking run with wandb version 0.15.7"
            ]
          },
          "metadata": {}
        },
        {
          "output_type": "display_data",
          "data": {
            "text/plain": [
              "<IPython.core.display.HTML object>"
            ],
            "text/html": [
              "Run data is saved locally in <code>/content/wandb/run-20230726_113135-w9f8yywr</code>"
            ]
          },
          "metadata": {}
        },
        {
          "output_type": "display_data",
          "data": {
            "text/plain": [
              "<IPython.core.display.HTML object>"
            ],
            "text/html": [
              "Syncing run <strong><a href='https://wandb.ai/minigi/MuffinChihuahuas/runs/w9f8yywr' target=\"_blank\">drawn-sweep-1</a></strong> to <a href='https://wandb.ai/minigi/MuffinChihuahuas' target=\"_blank\">Weights & Biases</a> (<a href='https://wandb.me/run' target=\"_blank\">docs</a>)<br/>Sweep page: <a href='https://wandb.ai/minigi/MuffinChihuahuas/sweeps/cxrasd43' target=\"_blank\">https://wandb.ai/minigi/MuffinChihuahuas/sweeps/cxrasd43</a>"
            ]
          },
          "metadata": {}
        },
        {
          "output_type": "display_data",
          "data": {
            "text/plain": [
              "<IPython.core.display.HTML object>"
            ],
            "text/html": [
              " View project at <a href='https://wandb.ai/minigi/MuffinChihuahuas' target=\"_blank\">https://wandb.ai/minigi/MuffinChihuahuas</a>"
            ]
          },
          "metadata": {}
        },
        {
          "output_type": "display_data",
          "data": {
            "text/plain": [
              "<IPython.core.display.HTML object>"
            ],
            "text/html": [
              " View sweep at <a href='https://wandb.ai/minigi/MuffinChihuahuas/sweeps/cxrasd43' target=\"_blank\">https://wandb.ai/minigi/MuffinChihuahuas/sweeps/cxrasd43</a>"
            ]
          },
          "metadata": {}
        },
        {
          "output_type": "display_data",
          "data": {
            "text/plain": [
              "<IPython.core.display.HTML object>"
            ],
            "text/html": [
              " View run at <a href='https://wandb.ai/minigi/MuffinChihuahuas/runs/w9f8yywr' target=\"_blank\">https://wandb.ai/minigi/MuffinChihuahuas/runs/w9f8yywr</a>"
            ]
          },
          "metadata": {}
        },
        {
          "output_type": "stream",
          "name": "stdout",
          "text": [
            "Found 4733 files belonging to 2 classes.\n",
            "Using 3787 files for training.\n",
            "Using 946 files for validation.\n",
            "Found 1184 files belonging to 2 classes.\n",
            "Model: \"model\"\n",
            "_________________________________________________________________\n",
            " Layer (type)                Output Shape              Param #   \n",
            "=================================================================\n",
            " input_1 (InputLayer)        [(None, 64, 64, 3)]       0         \n",
            "                                                                 \n",
            " lambda (Lambda)             (None, 64, 64, 1)         0         \n",
            "                                                                 \n",
            " rescaling (Rescaling)       (None, 64, 64, 1)         0         \n",
            "                                                                 \n",
            " flatten (Flatten)           (None, 4096)              0         \n",
            "                                                                 \n",
            " dense (Dense)               (None, 64)                262208    \n",
            "                                                                 \n",
            " dense_1 (Dense)             (None, 128)               8320      \n",
            "                                                                 \n",
            " dense_2 (Dense)             (None, 128)               16512     \n",
            "                                                                 \n",
            " dropout (Dropout)           (None, 128)               0         \n",
            "                                                                 \n",
            " dense_3 (Dense)             (None, 1)                 129       \n",
            "                                                                 \n",
            "=================================================================\n",
            "Total params: 287,169\n",
            "Trainable params: 287,169\n",
            "Non-trainable params: 0\n",
            "_________________________________________________________________\n",
            "Epoch 1/50\n",
            "40/40 [==============================] - 203s 4s/step - loss: 0.9465 - accuracy: 0.5118 - val_loss: 0.6830 - val_accuracy: 0.5486\n",
            "Epoch 2/50\n",
            "40/40 [==============================] - 13s 263ms/step - loss: 0.6853 - accuracy: 0.5487 - val_loss: 0.6797 - val_accuracy: 0.6195\n",
            "Epoch 3/50\n",
            "40/40 [==============================] - 13s 280ms/step - loss: 0.6824 - accuracy: 0.5456 - val_loss: 0.6650 - val_accuracy: 0.5719\n",
            "Epoch 4/50\n",
            "40/40 [==============================] - 13s 280ms/step - loss: 0.6753 - accuracy: 0.5743 - val_loss: 0.6528 - val_accuracy: 0.6374\n",
            "Epoch 5/50\n",
            "40/40 [==============================] - 13s 277ms/step - loss: 0.6737 - accuracy: 0.5688 - val_loss: 0.6845 - val_accuracy: 0.5381\n",
            "Epoch 6/50\n",
            "40/40 [==============================] - 13s 275ms/step - loss: 0.6762 - accuracy: 0.5749 - val_loss: 0.6538 - val_accuracy: 0.6406\n",
            "Epoch 7/50\n",
            "40/40 [==============================] - 13s 276ms/step - loss: 0.6684 - accuracy: 0.5889 - val_loss: 0.6566 - val_accuracy: 0.5518\n",
            "Epoch 8/50\n",
            "40/40 [==============================] - 13s 278ms/step - loss: 0.6653 - accuracy: 0.5841 - val_loss: 0.6668 - val_accuracy: 0.6068\n",
            "Epoch 9/50\n",
            "40/40 [==============================] - 13s 277ms/step - loss: 0.6790 - accuracy: 0.5448 - val_loss: 0.6460 - val_accuracy: 0.5581\n",
            "Epoch 10/50\n",
            "40/40 [==============================] - 13s 275ms/step - loss: 0.6573 - accuracy: 0.5944 - val_loss: 0.6426 - val_accuracy: 0.6385\n",
            "Epoch 11/50\n",
            "40/40 [==============================] - 13s 268ms/step - loss: 0.6595 - accuracy: 0.5989 - val_loss: 0.6172 - val_accuracy: 0.6564\n",
            "Epoch 12/50\n",
            "40/40 [==============================] - 12s 257ms/step - loss: 0.6452 - accuracy: 0.6248 - val_loss: 0.6211 - val_accuracy: 0.6681\n",
            "Epoch 13/50\n",
            "40/40 [==============================] - 13s 276ms/step - loss: 0.6378 - accuracy: 0.6403 - val_loss: 0.6164 - val_accuracy: 0.6586\n",
            "Epoch 14/50\n",
            "40/40 [==============================] - 13s 279ms/step - loss: 0.6403 - accuracy: 0.6224 - val_loss: 0.6203 - val_accuracy: 0.6575\n",
            "Epoch 15/50\n",
            "40/40 [==============================] - 13s 279ms/step - loss: 0.6454 - accuracy: 0.6311 - val_loss: 0.6428 - val_accuracy: 0.6353\n"
          ]
        },
        {
          "output_type": "display_data",
          "data": {
            "text/plain": [
              "<IPython.core.display.HTML object>"
            ],
            "text/html": [
              "Waiting for W&B process to finish... <strong style=\"color:green\">(success).</strong>"
            ]
          },
          "metadata": {}
        },
        {
          "output_type": "display_data",
          "data": {
            "text/plain": [
              "VBox(children=(Label(value='0.001 MB of 0.001 MB uploaded (0.000 MB deduped)\\r'), FloatProgress(value=1.0, max…"
            ],
            "application/vnd.jupyter.widget-view+json": {
              "version_major": 2,
              "version_minor": 0,
              "model_id": "35dff0d965114102981408f8759cd088"
            }
          },
          "metadata": {}
        },
        {
          "output_type": "display_data",
          "data": {
            "text/plain": [
              "<IPython.core.display.HTML object>"
            ],
            "text/html": [
              "<style>\n",
              "    table.wandb td:nth-child(1) { padding: 0 10px; text-align: left ; width: auto;} td:nth-child(2) {text-align: left ; width: 100%}\n",
              "    .wandb-row { display: flex; flex-direction: row; flex-wrap: wrap; justify-content: flex-start; width: 100% }\n",
              "    .wandb-col { display: flex; flex-direction: column; flex-basis: 100%; flex: 1; padding: 10px; }\n",
              "    </style>\n",
              "<div class=\"wandb-row\"><div class=\"wandb-col\"><h3>Run history:</h3><br/><table class=\"wandb\"><tr><td>batch/accuracy</td><td>▁▁▂▃▄▄▃▃▃▄▅▄▅▅▅▅▅▆▆▄▅▅▃▃▄▆▆▆▆▇▇▇▇██▇▇▇▇█</td></tr><tr><td>batch/batch_step</td><td>▁▁▁▁▂▂▂▂▂▃▃▃▃▃▃▄▄▄▄▄▅▅▅▅▅▅▆▆▆▆▆▆▇▇▇▇▇███</td></tr><tr><td>batch/learning_rate</td><td>▁▁▁▁▁▁▁▁▁▁▁▁▁▁▁▁▁▁▁▁▁▁▁▁▁▁▁▁▁▁▁▁▁▁▁▁▁▁▁▁</td></tr><tr><td>batch/loss</td><td>█▆▃▁▁▁▁▁▁▁▁▁▁▁▁▁▁▁▁▁▁▁▁▁▁▁▁▁▁▁▁▁▁▁▁▁▁▁▁▁</td></tr><tr><td>epoch/accuracy</td><td>▁▃▃▄▄▄▅▅▃▅▆▇█▇▇</td></tr><tr><td>epoch/epoch</td><td>▁▁▂▃▃▃▄▅▅▅▆▇▇▇█</td></tr><tr><td>epoch/learning_rate</td><td>▁▁▁▁▁▁▁▁▁▁▁▁▁▁▁</td></tr><tr><td>epoch/loss</td><td>█▂▂▂▂▂▂▂▂▁▁▁▁▁▁</td></tr><tr><td>epoch/val_accuracy</td><td>▂▅▃▆▁▇▂▅▂▆▇█▇▇▆</td></tr><tr><td>epoch/val_loss</td><td>██▆▅█▅▅▆▄▄▁▁▁▁▄</td></tr><tr><td>val_accuracy</td><td>▁</td></tr></table><br/></div><div class=\"wandb-col\"><h3>Run summary:</h3><br/><table class=\"wandb\"><tr><td>batch/accuracy</td><td>0.63061</td></tr><tr><td>batch/batch_step</td><td>598</td></tr><tr><td>batch/learning_rate</td><td>0.00348</td></tr><tr><td>batch/loss</td><td>0.64556</td></tr><tr><td>epoch/accuracy</td><td>0.63111</td></tr><tr><td>epoch/epoch</td><td>14</td></tr><tr><td>epoch/learning_rate</td><td>0.00348</td></tr><tr><td>epoch/loss</td><td>0.6454</td></tr><tr><td>epoch/val_accuracy</td><td>0.63531</td></tr><tr><td>epoch/val_loss</td><td>0.64285</td></tr><tr><td>val_accuracy</td><td>0.66808</td></tr></table><br/></div></div>"
            ]
          },
          "metadata": {}
        },
        {
          "output_type": "display_data",
          "data": {
            "text/plain": [
              "<IPython.core.display.HTML object>"
            ],
            "text/html": [
              " View run <strong style=\"color:#cdcd00\">drawn-sweep-1</strong> at: <a href='https://wandb.ai/minigi/MuffinChihuahuas/runs/w9f8yywr' target=\"_blank\">https://wandb.ai/minigi/MuffinChihuahuas/runs/w9f8yywr</a><br/>Synced 5 W&B file(s), 0 media file(s), 0 artifact file(s) and 0 other file(s)"
            ]
          },
          "metadata": {}
        },
        {
          "output_type": "display_data",
          "data": {
            "text/plain": [
              "<IPython.core.display.HTML object>"
            ],
            "text/html": [
              "Find logs at: <code>./wandb/run-20230726_113135-w9f8yywr/logs</code>"
            ]
          },
          "metadata": {}
        },
        {
          "output_type": "stream",
          "name": "stderr",
          "text": [
            "\u001b[34m\u001b[1mwandb\u001b[0m: Agent Starting Run: m36t23dy with config:\n",
            "\u001b[34m\u001b[1mwandb\u001b[0m: \tarchitecture: nn\n",
            "\u001b[34m\u001b[1mwandb\u001b[0m: \tbatch_size: 288\n",
            "\u001b[34m\u001b[1mwandb\u001b[0m: \tdropout: 0.3\n",
            "\u001b[34m\u001b[1mwandb\u001b[0m: \tepochs: 50\n",
            "\u001b[34m\u001b[1mwandb\u001b[0m: \timage_size: 64\n",
            "\u001b[34m\u001b[1mwandb\u001b[0m: \tinit_learning_rate: 5.7933166580793155e-05\n",
            "\u001b[34m\u001b[1mwandb\u001b[0m: \tloss_fn: binary_crossentropy\n",
            "\u001b[34m\u001b[1mwandb\u001b[0m: \tmetrics: ['acc']\n",
            "\u001b[34m\u001b[1mwandb\u001b[0m: \toptimizer: adam\n"
          ]
        },
        {
          "output_type": "display_data",
          "data": {
            "text/plain": [
              "<IPython.core.display.HTML object>"
            ],
            "text/html": [
              "Tracking run with wandb version 0.15.7"
            ]
          },
          "metadata": {}
        },
        {
          "output_type": "display_data",
          "data": {
            "text/plain": [
              "<IPython.core.display.HTML object>"
            ],
            "text/html": [
              "Run data is saved locally in <code>/content/wandb/run-20230726_113853-m36t23dy</code>"
            ]
          },
          "metadata": {}
        },
        {
          "output_type": "display_data",
          "data": {
            "text/plain": [
              "<IPython.core.display.HTML object>"
            ],
            "text/html": [
              "Syncing run <strong><a href='https://wandb.ai/minigi/MuffinChihuahuas/runs/m36t23dy' target=\"_blank\">dandy-sweep-2</a></strong> to <a href='https://wandb.ai/minigi/MuffinChihuahuas' target=\"_blank\">Weights & Biases</a> (<a href='https://wandb.me/run' target=\"_blank\">docs</a>)<br/>Sweep page: <a href='https://wandb.ai/minigi/MuffinChihuahuas/sweeps/cxrasd43' target=\"_blank\">https://wandb.ai/minigi/MuffinChihuahuas/sweeps/cxrasd43</a>"
            ]
          },
          "metadata": {}
        },
        {
          "output_type": "display_data",
          "data": {
            "text/plain": [
              "<IPython.core.display.HTML object>"
            ],
            "text/html": [
              " View project at <a href='https://wandb.ai/minigi/MuffinChihuahuas' target=\"_blank\">https://wandb.ai/minigi/MuffinChihuahuas</a>"
            ]
          },
          "metadata": {}
        },
        {
          "output_type": "display_data",
          "data": {
            "text/plain": [
              "<IPython.core.display.HTML object>"
            ],
            "text/html": [
              " View sweep at <a href='https://wandb.ai/minigi/MuffinChihuahuas/sweeps/cxrasd43' target=\"_blank\">https://wandb.ai/minigi/MuffinChihuahuas/sweeps/cxrasd43</a>"
            ]
          },
          "metadata": {}
        },
        {
          "output_type": "display_data",
          "data": {
            "text/plain": [
              "<IPython.core.display.HTML object>"
            ],
            "text/html": [
              " View run at <a href='https://wandb.ai/minigi/MuffinChihuahuas/runs/m36t23dy' target=\"_blank\">https://wandb.ai/minigi/MuffinChihuahuas/runs/m36t23dy</a>"
            ]
          },
          "metadata": {}
        },
        {
          "output_type": "stream",
          "name": "stdout",
          "text": [
            "Found 4733 files belonging to 2 classes.\n",
            "Using 3787 files for training.\n",
            "Using 946 files for validation.\n",
            "Found 1184 files belonging to 2 classes.\n",
            "Model: \"model\"\n",
            "_________________________________________________________________\n",
            " Layer (type)                Output Shape              Param #   \n",
            "=================================================================\n",
            " input_1 (InputLayer)        [(None, 64, 64, 3)]       0         \n",
            "                                                                 \n",
            " lambda (Lambda)             (None, 64, 64, 1)         0         \n",
            "                                                                 \n",
            " rescaling (Rescaling)       (None, 64, 64, 1)         0         \n",
            "                                                                 \n",
            " flatten (Flatten)           (None, 4096)              0         \n",
            "                                                                 \n",
            " dense (Dense)               (None, 64)                262208    \n",
            "                                                                 \n",
            " dense_1 (Dense)             (None, 128)               8320      \n",
            "                                                                 \n",
            " dense_2 (Dense)             (None, 128)               16512     \n",
            "                                                                 \n",
            " dropout (Dropout)           (None, 128)               0         \n",
            "                                                                 \n",
            " dense_3 (Dense)             (None, 1)                 129       \n",
            "                                                                 \n",
            "=================================================================\n",
            "Total params: 287,169\n",
            "Trainable params: 287,169\n",
            "Non-trainable params: 0\n",
            "_________________________________________________________________\n",
            "Epoch 1/50\n",
            "14/14 [==============================] - 15s 421ms/step - loss: 0.6930 - accuracy: 0.5234 - val_loss: 0.6813 - val_accuracy: 0.5433\n",
            "Epoch 2/50\n",
            "14/14 [==============================] - 12s 467ms/step - loss: 0.6835 - accuracy: 0.5379 - val_loss: 0.6795 - val_accuracy: 0.5349\n",
            "Epoch 3/50\n",
            "14/14 [==============================] - 12s 435ms/step - loss: 0.6825 - accuracy: 0.5543 - val_loss: 0.6708 - val_accuracy: 0.5476\n",
            "Epoch 4/50\n",
            "14/14 [==============================] - 13s 454ms/step - loss: 0.6757 - accuracy: 0.5683 - val_loss: 0.6639 - val_accuracy: 0.5729\n",
            "Epoch 5/50\n",
            "14/14 [==============================] - 13s 490ms/step - loss: 0.6712 - accuracy: 0.5844 - val_loss: 0.6561 - val_accuracy: 0.5951\n",
            "Epoch 6/50\n",
            "14/14 [==============================] - 13s 491ms/step - loss: 0.6710 - accuracy: 0.5817 - val_loss: 0.6568 - val_accuracy: 0.6268\n",
            "Epoch 7/50\n",
            "14/14 [==============================] - 12s 458ms/step - loss: 0.6695 - accuracy: 0.5844 - val_loss: 0.6559 - val_accuracy: 0.6195\n",
            "Epoch 8/50\n",
            "14/14 [==============================] - 12s 426ms/step - loss: 0.6746 - accuracy: 0.5646 - val_loss: 0.6676 - val_accuracy: 0.5983\n",
            "Epoch 9/50\n"
          ]
        },
        {
          "output_type": "stream",
          "name": "stderr",
          "text": [
            "\u001b[34m\u001b[1mwandb\u001b[0m: Ctrl + C detected. Stopping sweep.\n"
          ]
        }
      ]
    },
    {
      "cell_type": "markdown",
      "source": [
        "# Train on best values\n"
      ],
      "metadata": {
        "id": "IW50tUsz8AeY"
      }
    },
    {
      "cell_type": "code",
      "source": [
        "api = wandb.Api()\n",
        "sweep = api.sweep(f\"minigi/MuffinChihuahuas/sweeps/{sweep_id}\")\n",
        "\n",
        "# Get best run parameters\n",
        "best_run = sweep.best_run(order='val_accuracy')\n",
        "best_parameters = best_run.config\n",
        "print(best_parameters)"
      ],
      "metadata": {
        "id": "xNilE8De8AJ6",
        "colab": {
          "base_uri": "https://localhost:8080/"
        },
        "outputId": "9b370a01-5be7-4268-f61f-0414ce5fb617"
      },
      "execution_count": 18,
      "outputs": [
        {
          "output_type": "stream",
          "name": "stderr",
          "text": [
            "\u001b[34m\u001b[1mwandb\u001b[0m: Sorting runs by -summary_metrics.val_accuracy\n"
          ]
        },
        {
          "output_type": "stream",
          "name": "stdout",
          "text": [
            "{'epochs': 50, 'dropout': 0.5, 'loss_fn': 'binary_crossentropy', 'metrics': ['acc'], 'optimizer': 'adam', 'batch_size': 96, 'image_size': 64, 'architecture': 'nn', 'init_learning_rate': 0.003476979384579064}\n"
          ]
        }
      ]
    },
    {
      "cell_type": "code",
      "source": [
        "best_run.summary"
      ],
      "metadata": {
        "id": "9X7t6xb48bae",
        "colab": {
          "base_uri": "https://localhost:8080/"
        },
        "outputId": "d97d53a0-de07-4315-9eff-3f96a25a607d"
      },
      "execution_count": 19,
      "outputs": [
        {
          "output_type": "execute_result",
          "data": {
            "text/plain": [
              "{'val_accuracy': 0.6680760979652405, 'epoch/val_loss': 0.6428462266921997, '_wandb': {'runtime': 427}, 'batch/loss': 0.6455641388893127, 'batch/accuracy': 0.6306089758872986, 'batch/batch_step': 598, '_step': 315, 'epoch/loss': 0.6454026103019714, 'epoch/learning_rate': 0.0034769794438034296, '_timestamp': 1690371523.2996483, 'epoch/epoch': 14, 'epoch/accuracy': 0.631106436252594, 'epoch/val_accuracy': 0.6353065371513367, 'batch/learning_rate': 0.0034769794438034296, '_runtime': 428.1682732105255}"
            ]
          },
          "metadata": {},
          "execution_count": 19
        }
      ]
    },
    {
      "cell_type": "code",
      "source": [
        "os.system(f\"wandb sweep --stop minigi/MuffinChihuahuas/{sweep_id}\")"
      ],
      "metadata": {
        "id": "woJ0PLZc_Kzo",
        "colab": {
          "base_uri": "https://localhost:8080/"
        },
        "outputId": "fdb3de90-b8a3-4b8f-92ee-2a38fe4cb44e"
      },
      "execution_count": 20,
      "outputs": [
        {
          "output_type": "stream",
          "name": "stdout",
          "text": [
            " 2/14 [===>..........................] - ETA: 11s - loss: 0.6802 - accuracy: 0.5677 "
          ]
        },
        {
          "output_type": "execute_result",
          "data": {
            "text/plain": [
              "0"
            ]
          },
          "metadata": {},
          "execution_count": 20
        }
      ]
    },
    {
      "cell_type": "code",
      "source": [
        "wandb.init(project='MuffinChihuahua', config=best_parameters)\n",
        "print(wandb.config)\n",
        "train, test, _ = load_datasets(wandb.config, use_val=False)\n",
        "dataset = train.interleave(test)\n",
        "final_value = cv(wandb.config, dataset)\n",
        "print(final_value)\n",
        "wandb.finish()"
      ],
      "metadata": {
        "id": "Zes6YcyxMYN_",
        "colab": {
          "base_uri": "https://localhost:8080/",
          "height": 1000
        },
        "outputId": "0ed2e8f2-eb05-4fd6-bd85-7e979f8ee4ae"
      },
      "execution_count": 21,
      "outputs": [
        {
          "output_type": "stream",
          "name": "stderr",
          "text": [
            "\u001b[34m\u001b[1mwandb\u001b[0m: \u001b[33mWARNING\u001b[0m Ignored wandb.init() arg project when running a sweep.\n"
          ]
        },
        {
          "output_type": "display_data",
          "data": {
            "text/plain": [
              "<IPython.core.display.HTML object>"
            ],
            "text/html": [
              "Finishing last run (ID:m36t23dy) before initializing another..."
            ]
          },
          "metadata": {}
        },
        {
          "output_type": "display_data",
          "data": {
            "text/plain": [
              "<IPython.core.display.HTML object>"
            ],
            "text/html": [
              "Waiting for W&B process to finish... <strong style=\"color:green\">(success).</strong>"
            ]
          },
          "metadata": {}
        },
        {
          "output_type": "stream",
          "name": "stdout",
          "text": [
            "14/14 [==============================] - 13s 489ms/step - loss: 0.6696 - accuracy: 0.5860 - val_loss: 0.6479 - val_accuracy: 0.6110\n",
            "Epoch 10/50\n"
          ]
        },
        {
          "output_type": "display_data",
          "data": {
            "text/plain": [
              "<IPython.core.display.HTML object>"
            ],
            "text/html": [
              "<style>\n",
              "    table.wandb td:nth-child(1) { padding: 0 10px; text-align: left ; width: auto;} td:nth-child(2) {text-align: left ; width: 100%}\n",
              "    .wandb-row { display: flex; flex-direction: row; flex-wrap: wrap; justify-content: flex-start; width: 100% }\n",
              "    .wandb-col { display: flex; flex-direction: column; flex-basis: 100%; flex: 1; padding: 10px; }\n",
              "    </style>\n",
              "<div class=\"wandb-row\"><div class=\"wandb-col\"><h3>Run history:</h3><br/><table class=\"wandb\"><tr><td>batch/accuracy</td><td>▁▂▂▂▂▄▂▂▂▆▃▃▃▃▃▃▄▅▄▅▆▅▆▆▆▅▆█▆▅▅▄▆▅▄▄▅▆▅▅</td></tr><tr><td>batch/batch_step</td><td>▁▁▁▁▂▂▂▂▂▃▃▃▃▃▄▄▄▄▄▄▅▅▅▅▅▅▆▆▆▆▆▇▇▇▇▇████</td></tr><tr><td>batch/learning_rate</td><td>▁▁▁▁▁▁▁▁▁▁▁▁▁▁▁▁▁▁▁▁▁▁▁▁▁▁▁▁▁▁▁▁▁▁▁▁▁▁▁▁</td></tr><tr><td>batch/loss</td><td>█▆█▇▇▅▅▅▅▄▆▅▆▅▆▅▄▄▂▃▃▃▃▂▃▃▃▁▂▂▃▄▂▃▃▃▄▃▃▃</td></tr><tr><td>epoch/accuracy</td><td>▁▃▅▆███▆</td></tr><tr><td>epoch/epoch</td><td>▁▂▃▄▅▆▇█</td></tr><tr><td>epoch/learning_rate</td><td>▁▁▁▁▁▁▁▁</td></tr><tr><td>epoch/loss</td><td>█▅▅▃▁▁▁▃</td></tr><tr><td>epoch/val_accuracy</td><td>▂▁▂▄▆█▇▆</td></tr><tr><td>epoch/val_loss</td><td>██▅▃▁▁▁▄</td></tr></table><br/></div><div class=\"wandb-col\"><h3>Run summary:</h3><br/><table class=\"wandb\"><tr><td>batch/accuracy</td><td>0.58574</td></tr><tr><td>batch/batch_step</td><td>124</td></tr><tr><td>batch/learning_rate</td><td>6e-05</td></tr><tr><td>batch/loss</td><td>0.66945</td></tr><tr><td>epoch/accuracy</td><td>0.56456</td></tr><tr><td>epoch/epoch</td><td>7</td></tr><tr><td>epoch/learning_rate</td><td>6e-05</td></tr><tr><td>epoch/loss</td><td>0.67458</td></tr><tr><td>epoch/val_accuracy</td><td>0.59831</td></tr><tr><td>epoch/val_loss</td><td>0.66758</td></tr></table><br/></div></div>"
            ]
          },
          "metadata": {}
        },
        {
          "output_type": "display_data",
          "data": {
            "text/plain": [
              "<IPython.core.display.HTML object>"
            ],
            "text/html": [
              " View run <strong style=\"color:#cdcd00\">dandy-sweep-2</strong> at: <a href='https://wandb.ai/minigi/MuffinChihuahuas/runs/m36t23dy' target=\"_blank\">https://wandb.ai/minigi/MuffinChihuahuas/runs/m36t23dy</a><br/>Synced 5 W&B file(s), 0 media file(s), 0 artifact file(s) and 0 other file(s)"
            ]
          },
          "metadata": {}
        },
        {
          "output_type": "display_data",
          "data": {
            "text/plain": [
              "<IPython.core.display.HTML object>"
            ],
            "text/html": [
              "Find logs at: <code>./wandb/run-20230726_113853-m36t23dy/logs</code>"
            ]
          },
          "metadata": {}
        },
        {
          "output_type": "display_data",
          "data": {
            "text/plain": [
              "<IPython.core.display.HTML object>"
            ],
            "text/html": [
              "Successfully finished last run (ID:m36t23dy). Initializing new run:<br/>"
            ]
          },
          "metadata": {}
        },
        {
          "output_type": "display_data",
          "data": {
            "text/plain": [
              "<IPython.core.display.HTML object>"
            ],
            "text/html": [
              "Tracking run with wandb version 0.15.7"
            ]
          },
          "metadata": {}
        },
        {
          "output_type": "display_data",
          "data": {
            "text/plain": [
              "<IPython.core.display.HTML object>"
            ],
            "text/html": [
              "Run data is saved locally in <code>/content/wandb/run-20230726_114105-m36t23dy</code>"
            ]
          },
          "metadata": {}
        },
        {
          "output_type": "display_data",
          "data": {
            "text/plain": [
              "<IPython.core.display.HTML object>"
            ],
            "text/html": [
              "Syncing run <strong><a href='https://wandb.ai/minigi/MuffinChihuahuas/runs/m36t23dy' target=\"_blank\">dandy-sweep-2</a></strong> to <a href='https://wandb.ai/minigi/MuffinChihuahuas' target=\"_blank\">Weights & Biases</a> (<a href='https://wandb.me/run' target=\"_blank\">docs</a>)<br/>Sweep page: <a href='https://wandb.ai/minigi/MuffinChihuahuas/sweeps/cxrasd43' target=\"_blank\">https://wandb.ai/minigi/MuffinChihuahuas/sweeps/cxrasd43</a>"
            ]
          },
          "metadata": {}
        },
        {
          "output_type": "display_data",
          "data": {
            "text/plain": [
              "<IPython.core.display.HTML object>"
            ],
            "text/html": [
              " View project at <a href='https://wandb.ai/minigi/MuffinChihuahuas' target=\"_blank\">https://wandb.ai/minigi/MuffinChihuahuas</a>"
            ]
          },
          "metadata": {}
        },
        {
          "output_type": "display_data",
          "data": {
            "text/plain": [
              "<IPython.core.display.HTML object>"
            ],
            "text/html": [
              " View sweep at <a href='https://wandb.ai/minigi/MuffinChihuahuas/sweeps/cxrasd43' target=\"_blank\">https://wandb.ai/minigi/MuffinChihuahuas/sweeps/cxrasd43</a>"
            ]
          },
          "metadata": {}
        },
        {
          "output_type": "display_data",
          "data": {
            "text/plain": [
              "<IPython.core.display.HTML object>"
            ],
            "text/html": [
              " View run at <a href='https://wandb.ai/minigi/MuffinChihuahuas/runs/m36t23dy' target=\"_blank\">https://wandb.ai/minigi/MuffinChihuahuas/runs/m36t23dy</a>"
            ]
          },
          "metadata": {}
        },
        {
          "output_type": "stream",
          "name": "stdout",
          "text": [
            "{'architecture': 'nn', 'batch_size': 288, 'dropout': 0.3, 'epochs': 50, 'image_size': 64, 'init_learning_rate': 5.7933166580793155e-05, 'loss_fn': 'binary_crossentropy', 'metrics': ['acc'], 'optimizer': 'adam'}\n",
            "Found 4733 files belonging to 2 classes.\n",
            "Found 1184 files belonging to 2 classes.\n"
          ]
        },
        {
          "output_type": "error",
          "ename": "ValueError",
          "evalue": "ignored",
          "traceback": [
            "\u001b[0;31m---------------------------------------------------------------------------\u001b[0m",
            "\u001b[0;31mValueError\u001b[0m                                Traceback (most recent call last)",
            "\u001b[0;32m<ipython-input-21-843da7d2e28a>\u001b[0m in \u001b[0;36m<cell line: 4>\u001b[0;34m()\u001b[0m\n\u001b[1;32m      2\u001b[0m \u001b[0mprint\u001b[0m\u001b[0;34m(\u001b[0m\u001b[0mwandb\u001b[0m\u001b[0;34m.\u001b[0m\u001b[0mconfig\u001b[0m\u001b[0;34m)\u001b[0m\u001b[0;34m\u001b[0m\u001b[0;34m\u001b[0m\u001b[0m\n\u001b[1;32m      3\u001b[0m \u001b[0mtrain\u001b[0m\u001b[0;34m,\u001b[0m \u001b[0mtest\u001b[0m\u001b[0;34m,\u001b[0m \u001b[0m_\u001b[0m \u001b[0;34m=\u001b[0m \u001b[0mload_datasets\u001b[0m\u001b[0;34m(\u001b[0m\u001b[0mwandb\u001b[0m\u001b[0;34m.\u001b[0m\u001b[0mconfig\u001b[0m\u001b[0;34m,\u001b[0m \u001b[0muse_val\u001b[0m\u001b[0;34m=\u001b[0m\u001b[0;32mFalse\u001b[0m\u001b[0;34m)\u001b[0m\u001b[0;34m\u001b[0m\u001b[0;34m\u001b[0m\u001b[0m\n\u001b[0;32m----> 4\u001b[0;31m \u001b[0mdataset\u001b[0m \u001b[0;34m=\u001b[0m \u001b[0mtrain\u001b[0m\u001b[0;34m.\u001b[0m\u001b[0minterleave\u001b[0m\u001b[0;34m(\u001b[0m\u001b[0mtest\u001b[0m\u001b[0;34m)\u001b[0m\u001b[0;34m\u001b[0m\u001b[0;34m\u001b[0m\u001b[0m\n\u001b[0m\u001b[1;32m      5\u001b[0m \u001b[0mfinal_value\u001b[0m \u001b[0;34m=\u001b[0m \u001b[0mcv\u001b[0m\u001b[0;34m(\u001b[0m\u001b[0mwandb\u001b[0m\u001b[0;34m.\u001b[0m\u001b[0mconfig\u001b[0m\u001b[0;34m,\u001b[0m \u001b[0mdataset\u001b[0m\u001b[0;34m)\u001b[0m\u001b[0;34m\u001b[0m\u001b[0;34m\u001b[0m\u001b[0m\n\u001b[1;32m      6\u001b[0m \u001b[0mprint\u001b[0m\u001b[0;34m(\u001b[0m\u001b[0mfinal_value\u001b[0m\u001b[0;34m)\u001b[0m\u001b[0;34m\u001b[0m\u001b[0;34m\u001b[0m\u001b[0m\n",
            "\u001b[0;32m/usr/local/lib/python3.10/dist-packages/tensorflow/python/data/ops/dataset_ops.py\u001b[0m in \u001b[0;36minterleave\u001b[0;34m(self, map_func, cycle_length, block_length, num_parallel_calls, deterministic, name)\u001b[0m\n\u001b[1;32m   2426\u001b[0m     \u001b[0;31m# pylint: disable=g-import-not-at-top,protected-access\u001b[0m\u001b[0;34m\u001b[0m\u001b[0;34m\u001b[0m\u001b[0m\n\u001b[1;32m   2427\u001b[0m     \u001b[0;32mfrom\u001b[0m \u001b[0mtensorflow\u001b[0m\u001b[0;34m.\u001b[0m\u001b[0mpython\u001b[0m\u001b[0;34m.\u001b[0m\u001b[0mdata\u001b[0m\u001b[0;34m.\u001b[0m\u001b[0mops\u001b[0m \u001b[0;32mimport\u001b[0m \u001b[0minterleave_op\u001b[0m\u001b[0;34m\u001b[0m\u001b[0;34m\u001b[0m\u001b[0m\n\u001b[0;32m-> 2428\u001b[0;31m     return interleave_op._interleave(self, map_func, cycle_length, block_length,\n\u001b[0m\u001b[1;32m   2429\u001b[0m                                      num_parallel_calls, deterministic, name)\n\u001b[1;32m   2430\u001b[0m     \u001b[0;31m# pylint: enable=g-import-not-at-top,protected-access\u001b[0m\u001b[0;34m\u001b[0m\u001b[0;34m\u001b[0m\u001b[0m\n",
            "\u001b[0;32m/usr/local/lib/python3.10/dist-packages/tensorflow/python/data/ops/interleave_op.py\u001b[0m in \u001b[0;36m_interleave\u001b[0;34m(input_dataset, map_func, cycle_length, block_length, num_parallel_calls, deterministic, name)\u001b[0m\n\u001b[1;32m     44\u001b[0m       warnings.warn(\"The `deterministic` argument has no effect unless the \"\n\u001b[1;32m     45\u001b[0m                     \"`num_parallel_calls` argument is specified.\")\n\u001b[0;32m---> 46\u001b[0;31m     return _InterleaveDataset(\n\u001b[0m\u001b[1;32m     47\u001b[0m         input_dataset, map_func, cycle_length, block_length, name=name)\n\u001b[1;32m     48\u001b[0m   \u001b[0;32melse\u001b[0m\u001b[0;34m:\u001b[0m\u001b[0;34m\u001b[0m\u001b[0;34m\u001b[0m\u001b[0m\n",
            "\u001b[0;32m/usr/local/lib/python3.10/dist-packages/tensorflow/python/data/ops/interleave_op.py\u001b[0m in \u001b[0;36m__init__\u001b[0;34m(self, input_dataset, map_func, cycle_length, block_length, name)\u001b[0m\n\u001b[1;32m     69\u001b[0m \u001b[0;34m\u001b[0m\u001b[0m\n\u001b[1;32m     70\u001b[0m     \u001b[0mself\u001b[0m\u001b[0;34m.\u001b[0m\u001b[0m_input_dataset\u001b[0m \u001b[0;34m=\u001b[0m \u001b[0minput_dataset\u001b[0m\u001b[0;34m\u001b[0m\u001b[0;34m\u001b[0m\u001b[0m\n\u001b[0;32m---> 71\u001b[0;31m     self._map_func = structured_function.StructuredFunctionWrapper(\n\u001b[0m\u001b[1;32m     72\u001b[0m         map_func, self._transformation_name(), dataset=input_dataset)\n\u001b[1;32m     73\u001b[0m     \u001b[0;32mif\u001b[0m \u001b[0;32mnot\u001b[0m \u001b[0misinstance\u001b[0m\u001b[0;34m(\u001b[0m\u001b[0mself\u001b[0m\u001b[0;34m.\u001b[0m\u001b[0m_map_func\u001b[0m\u001b[0;34m.\u001b[0m\u001b[0moutput_structure\u001b[0m\u001b[0;34m,\u001b[0m \u001b[0mdataset_ops\u001b[0m\u001b[0;34m.\u001b[0m\u001b[0mDatasetSpec\u001b[0m\u001b[0;34m)\u001b[0m\u001b[0;34m:\u001b[0m\u001b[0;34m\u001b[0m\u001b[0;34m\u001b[0m\u001b[0m\n",
            "\u001b[0;32m/usr/local/lib/python3.10/dist-packages/tensorflow/python/data/ops/structured_function.py\u001b[0m in \u001b[0;36m__init__\u001b[0;34m(self, func, transformation_name, dataset, input_classes, input_shapes, input_types, input_structure, add_to_graph, use_legacy_function, defun_kwargs)\u001b[0m\n\u001b[1;32m    153\u001b[0m     func_name = \"_\".join(\n\u001b[1;32m    154\u001b[0m         [readable_transformation_name,\n\u001b[0;32m--> 155\u001b[0;31m          function_utils.get_func_name(func)])\n\u001b[0m\u001b[1;32m    156\u001b[0m     \u001b[0;31m# Sanitize function name to remove symbols that interfere with graph\u001b[0m\u001b[0;34m\u001b[0m\u001b[0;34m\u001b[0m\u001b[0m\n\u001b[1;32m    157\u001b[0m     \u001b[0;31m# construction.\u001b[0m\u001b[0;34m\u001b[0m\u001b[0;34m\u001b[0m\u001b[0m\n",
            "\u001b[0;32m/usr/local/lib/python3.10/dist-packages/tensorflow/python/util/function_utils.py\u001b[0m in \u001b[0;36mget_func_name\u001b[0;34m(func)\u001b[0m\n\u001b[1;32m     95\u001b[0m       \u001b[0;32mreturn\u001b[0m \u001b[0mstr\u001b[0m\u001b[0;34m(\u001b[0m\u001b[0mtype\u001b[0m\u001b[0;34m(\u001b[0m\u001b[0mfunc\u001b[0m\u001b[0;34m)\u001b[0m\u001b[0;34m)\u001b[0m\u001b[0;34m\u001b[0m\u001b[0;34m\u001b[0m\u001b[0m\n\u001b[1;32m     96\u001b[0m   \u001b[0;32melse\u001b[0m\u001b[0;34m:\u001b[0m\u001b[0;34m\u001b[0m\u001b[0;34m\u001b[0m\u001b[0m\n\u001b[0;32m---> 97\u001b[0;31m     raise ValueError(\n\u001b[0m\u001b[1;32m     98\u001b[0m         \u001b[0;34m'Argument `func` must be a callable. '\u001b[0m\u001b[0;34m\u001b[0m\u001b[0;34m\u001b[0m\u001b[0m\n\u001b[1;32m     99\u001b[0m         f'Received func={func} (of type {type(func)})')\n",
            "\u001b[0;31mValueError\u001b[0m: Argument `func` must be a callable. Received func=None (of type <class 'NoneType'>)"
          ]
        }
      ]
    },
    {
      "cell_type": "markdown",
      "metadata": {
        "id": "bclMguTeOWLc"
      },
      "source": [
        "# Run inference on new data"
      ]
    },
    {
      "cell_type": "code",
      "execution_count": null,
      "metadata": {
        "id": "IGch4GVyOWLc"
      },
      "outputs": [],
      "source": [
        "\"\"\"def keralize_img(path):\n",
        "  img = keras.utils.load_img(\n",
        "    path, target_size=configs.image_size\n",
        "  )\n",
        "  img_array = keras.utils.img_to_array(img)\n",
        "  img_array = tf.expand_dims(img_array, 0)  # Create batch axis\n",
        "  return img_array\n",
        "\n",
        "chihuahua_img = keralize_img(dataset_path + '/test/muffin/img_0_67.jpg')\n",
        "muffin_img = keralize_img(dataset_path + '/test/chihuahua/img_0_1107.jpg')\n",
        "\n",
        "def predict(img):\n",
        "  model.load_weights(\"/content/save_at_7.keras\")\n",
        "  predictions = model.predict(img)\n",
        "  score = float(predictions[0])\n",
        "  print(f\"This image is {100 * (1 - score):.2f}% chihuahua and {100 * score:.2f}% muffin.\")\n",
        "\n",
        "predict(chihuahua_img)\n",
        "predict(muffin_img)\"\"\""
      ]
    },
    {
      "cell_type": "markdown",
      "metadata": {
        "id": "pz4HiZuwIJBt"
      },
      "source": [
        "# Debug utilities"
      ]
    },
    {
      "cell_type": "code",
      "source": [
        "'''def test_cv(configs):\n",
        "    wandb.init(project='MuffinChihuahuas', config=configs)\n",
        "    val_accuracy = objective_5fold(wandb.config)\n",
        "    val_accuracy'''"
      ],
      "metadata": {
        "id": "0hSw6SkVEGCS"
      },
      "execution_count": null,
      "outputs": []
    },
    {
      "cell_type": "code",
      "source": [
        "'''def test_stratified_5fold(dataset):\n",
        "  train_x, train_y = retrieve_data_and_labels(dataset)\n",
        "  for train_indexes, val_indexes in StratifiedKFold(n_splits=5).split(train_x, train_y):\n",
        "    print(\"######\")\n",
        "    print(\"training\", train_x[train_indexes].shape, train_y[train_indexes].shape)\n",
        "    print(np.bincount(train_y[train_indexes]))\n",
        "    print(\"validation\", train_x[val_indexes].shape, train_y[val_indexes].shape)\n",
        "    print(np.bincount(train_y[val_indexes]))'''"
      ],
      "metadata": {
        "id": "ow2PHVst6hEc"
      },
      "execution_count": null,
      "outputs": []
    },
    {
      "cell_type": "code",
      "source": [
        "#test_cv(wandb.config)"
      ],
      "metadata": {
        "id": "aanZsvaef9fY"
      },
      "execution_count": null,
      "outputs": []
    },
    {
      "cell_type": "code",
      "source": [
        "'''dataset, _, _ = load_datasets(wandb.config, use_val=False)\n",
        "dataset = augment_dataset(dataset, show_preview=False)\n",
        "test_stratified_5fold(dataset)'''"
      ],
      "metadata": {
        "id": "rLO8V6zxgEK6"
      },
      "execution_count": null,
      "outputs": []
    }
  ],
  "metadata": {
    "kernelspec": {
      "display_name": "Python 3",
      "name": "python3"
    },
    "language_info": {
      "codemirror_mode": {
        "name": "ipython",
        "version": 3
      },
      "file_extension": ".py",
      "mimetype": "text/x-python",
      "name": "python",
      "nbconvert_exporter": "python",
      "pygments_lexer": "ipython3",
      "version": "3.10.6"
    },
    "orig_nbformat": 4,
    "colab": {
      "provenance": [],
      "gpuType": "T4",
      "machine_shape": "hm",
      "include_colab_link": true
    },
    "accelerator": "GPU",
    "widgets": {
      "application/vnd.jupyter.widget-state+json": {
        "35dff0d965114102981408f8759cd088": {
          "model_module": "@jupyter-widgets/controls",
          "model_name": "VBoxModel",
          "model_module_version": "1.5.0",
          "state": {
            "_dom_classes": [],
            "_model_module": "@jupyter-widgets/controls",
            "_model_module_version": "1.5.0",
            "_model_name": "VBoxModel",
            "_view_count": null,
            "_view_module": "@jupyter-widgets/controls",
            "_view_module_version": "1.5.0",
            "_view_name": "VBoxView",
            "box_style": "",
            "children": [
              "IPY_MODEL_be37a4e4853b409ba79092403a711cb1",
              "IPY_MODEL_19f7de699d8048db8ec7f3dcf35f2cc6"
            ],
            "layout": "IPY_MODEL_76f1b309a4394eb18a428e59bc077f35"
          }
        },
        "be37a4e4853b409ba79092403a711cb1": {
          "model_module": "@jupyter-widgets/controls",
          "model_name": "LabelModel",
          "model_module_version": "1.5.0",
          "state": {
            "_dom_classes": [],
            "_model_module": "@jupyter-widgets/controls",
            "_model_module_version": "1.5.0",
            "_model_name": "LabelModel",
            "_view_count": null,
            "_view_module": "@jupyter-widgets/controls",
            "_view_module_version": "1.5.0",
            "_view_name": "LabelView",
            "description": "",
            "description_tooltip": null,
            "layout": "IPY_MODEL_4b5e15707e014fdab9a4b3e90e2394ae",
            "placeholder": "​",
            "style": "IPY_MODEL_e537740cb13340b0a894078f627b25d4",
            "value": "0.001 MB of 0.014 MB uploaded (0.000 MB deduped)\r"
          }
        },
        "19f7de699d8048db8ec7f3dcf35f2cc6": {
          "model_module": "@jupyter-widgets/controls",
          "model_name": "FloatProgressModel",
          "model_module_version": "1.5.0",
          "state": {
            "_dom_classes": [],
            "_model_module": "@jupyter-widgets/controls",
            "_model_module_version": "1.5.0",
            "_model_name": "FloatProgressModel",
            "_view_count": null,
            "_view_module": "@jupyter-widgets/controls",
            "_view_module_version": "1.5.0",
            "_view_name": "ProgressView",
            "bar_style": "",
            "description": "",
            "description_tooltip": null,
            "layout": "IPY_MODEL_cd914993a67346139ae394be362402c1",
            "max": 1,
            "min": 0,
            "orientation": "horizontal",
            "style": "IPY_MODEL_e9f9c40af9914232af7a9df84cdec8dc",
            "value": 0.09935897435897435
          }
        },
        "76f1b309a4394eb18a428e59bc077f35": {
          "model_module": "@jupyter-widgets/base",
          "model_name": "LayoutModel",
          "model_module_version": "1.2.0",
          "state": {
            "_model_module": "@jupyter-widgets/base",
            "_model_module_version": "1.2.0",
            "_model_name": "LayoutModel",
            "_view_count": null,
            "_view_module": "@jupyter-widgets/base",
            "_view_module_version": "1.2.0",
            "_view_name": "LayoutView",
            "align_content": null,
            "align_items": null,
            "align_self": null,
            "border": null,
            "bottom": null,
            "display": null,
            "flex": null,
            "flex_flow": null,
            "grid_area": null,
            "grid_auto_columns": null,
            "grid_auto_flow": null,
            "grid_auto_rows": null,
            "grid_column": null,
            "grid_gap": null,
            "grid_row": null,
            "grid_template_areas": null,
            "grid_template_columns": null,
            "grid_template_rows": null,
            "height": null,
            "justify_content": null,
            "justify_items": null,
            "left": null,
            "margin": null,
            "max_height": null,
            "max_width": null,
            "min_height": null,
            "min_width": null,
            "object_fit": null,
            "object_position": null,
            "order": null,
            "overflow": null,
            "overflow_x": null,
            "overflow_y": null,
            "padding": null,
            "right": null,
            "top": null,
            "visibility": null,
            "width": null
          }
        },
        "4b5e15707e014fdab9a4b3e90e2394ae": {
          "model_module": "@jupyter-widgets/base",
          "model_name": "LayoutModel",
          "model_module_version": "1.2.0",
          "state": {
            "_model_module": "@jupyter-widgets/base",
            "_model_module_version": "1.2.0",
            "_model_name": "LayoutModel",
            "_view_count": null,
            "_view_module": "@jupyter-widgets/base",
            "_view_module_version": "1.2.0",
            "_view_name": "LayoutView",
            "align_content": null,
            "align_items": null,
            "align_self": null,
            "border": null,
            "bottom": null,
            "display": null,
            "flex": null,
            "flex_flow": null,
            "grid_area": null,
            "grid_auto_columns": null,
            "grid_auto_flow": null,
            "grid_auto_rows": null,
            "grid_column": null,
            "grid_gap": null,
            "grid_row": null,
            "grid_template_areas": null,
            "grid_template_columns": null,
            "grid_template_rows": null,
            "height": null,
            "justify_content": null,
            "justify_items": null,
            "left": null,
            "margin": null,
            "max_height": null,
            "max_width": null,
            "min_height": null,
            "min_width": null,
            "object_fit": null,
            "object_position": null,
            "order": null,
            "overflow": null,
            "overflow_x": null,
            "overflow_y": null,
            "padding": null,
            "right": null,
            "top": null,
            "visibility": null,
            "width": null
          }
        },
        "e537740cb13340b0a894078f627b25d4": {
          "model_module": "@jupyter-widgets/controls",
          "model_name": "DescriptionStyleModel",
          "model_module_version": "1.5.0",
          "state": {
            "_model_module": "@jupyter-widgets/controls",
            "_model_module_version": "1.5.0",
            "_model_name": "DescriptionStyleModel",
            "_view_count": null,
            "_view_module": "@jupyter-widgets/base",
            "_view_module_version": "1.2.0",
            "_view_name": "StyleView",
            "description_width": ""
          }
        },
        "cd914993a67346139ae394be362402c1": {
          "model_module": "@jupyter-widgets/base",
          "model_name": "LayoutModel",
          "model_module_version": "1.2.0",
          "state": {
            "_model_module": "@jupyter-widgets/base",
            "_model_module_version": "1.2.0",
            "_model_name": "LayoutModel",
            "_view_count": null,
            "_view_module": "@jupyter-widgets/base",
            "_view_module_version": "1.2.0",
            "_view_name": "LayoutView",
            "align_content": null,
            "align_items": null,
            "align_self": null,
            "border": null,
            "bottom": null,
            "display": null,
            "flex": null,
            "flex_flow": null,
            "grid_area": null,
            "grid_auto_columns": null,
            "grid_auto_flow": null,
            "grid_auto_rows": null,
            "grid_column": null,
            "grid_gap": null,
            "grid_row": null,
            "grid_template_areas": null,
            "grid_template_columns": null,
            "grid_template_rows": null,
            "height": null,
            "justify_content": null,
            "justify_items": null,
            "left": null,
            "margin": null,
            "max_height": null,
            "max_width": null,
            "min_height": null,
            "min_width": null,
            "object_fit": null,
            "object_position": null,
            "order": null,
            "overflow": null,
            "overflow_x": null,
            "overflow_y": null,
            "padding": null,
            "right": null,
            "top": null,
            "visibility": null,
            "width": null
          }
        },
        "e9f9c40af9914232af7a9df84cdec8dc": {
          "model_module": "@jupyter-widgets/controls",
          "model_name": "ProgressStyleModel",
          "model_module_version": "1.5.0",
          "state": {
            "_model_module": "@jupyter-widgets/controls",
            "_model_module_version": "1.5.0",
            "_model_name": "ProgressStyleModel",
            "_view_count": null,
            "_view_module": "@jupyter-widgets/base",
            "_view_module_version": "1.2.0",
            "_view_name": "StyleView",
            "bar_color": null,
            "description_width": ""
          }
        }
      }
    }
  },
  "nbformat": 4,
  "nbformat_minor": 0
}